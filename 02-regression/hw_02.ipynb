{
 "cells": [
  {
   "cell_type": "markdown",
   "id": "c28499d9-fbd2-4697-a878-86448bd65d17",
   "metadata": {},
   "source": [
    "## Machine Learning for Regression"
   ]
  },
  {
   "cell_type": "code",
   "execution_count": 2,
   "id": "a16b3139-806f-49d2-abd7-c339bd80f039",
   "metadata": {},
   "outputs": [],
   "source": [
    "%%capture\n",
    "!wget -O laptops.csv https://raw.githubusercontent.com/alexeygrigorev/datasets/master/laptops.csv"
   ]
  },
  {
   "cell_type": "code",
   "execution_count": 3,
   "id": "c04e5803-0da5-48b2-b484-bb3edbd22a2d",
   "metadata": {},
   "outputs": [],
   "source": [
    "import numpy as np\n",
    "import pandas as pd\n",
    "\n",
    "import seaborn as sns\n",
    "from matplotlib import pyplot as plt\n",
    "%matplotlib inline"
   ]
  },
  {
   "cell_type": "code",
   "execution_count": 4,
   "id": "f38406d6-47c4-4252-b89f-047f18a51368",
   "metadata": {},
   "outputs": [
    {
     "data": {
      "text/plain": [
       "2160"
      ]
     },
     "execution_count": 4,
     "metadata": {},
     "output_type": "execute_result"
    }
   ],
   "source": [
    "df_path = \"laptops.csv\"\n",
    "df = pd.read_csv(df_path)\n",
    "len(df)"
   ]
  },
  {
   "cell_type": "code",
   "execution_count": 5,
   "id": "c6d991cb-ccfb-457d-a233-951cb64846fb",
   "metadata": {},
   "outputs": [],
   "source": [
    "df.columns = df.columns.str.lower().str.replace(' ', '_')"
   ]
  },
  {
   "cell_type": "code",
   "execution_count": 6,
   "id": "a64b865f-0e18-4ad5-a852-9f8f19ab7f41",
   "metadata": {},
   "outputs": [
    {
     "data": {
      "text/html": [
       "<div>\n",
       "<style scoped>\n",
       "    .dataframe tbody tr th:only-of-type {\n",
       "        vertical-align: middle;\n",
       "    }\n",
       "\n",
       "    .dataframe tbody tr th {\n",
       "        vertical-align: top;\n",
       "    }\n",
       "\n",
       "    .dataframe thead th {\n",
       "        text-align: right;\n",
       "    }\n",
       "</style>\n",
       "<table border=\"1\" class=\"dataframe\">\n",
       "  <thead>\n",
       "    <tr style=\"text-align: right;\">\n",
       "      <th></th>\n",
       "      <th>ram</th>\n",
       "      <th>storage</th>\n",
       "      <th>screen</th>\n",
       "      <th>final_price</th>\n",
       "    </tr>\n",
       "  </thead>\n",
       "  <tbody>\n",
       "    <tr>\n",
       "      <th>0</th>\n",
       "      <td>8</td>\n",
       "      <td>512</td>\n",
       "      <td>15.6</td>\n",
       "      <td>1009.00</td>\n",
       "    </tr>\n",
       "    <tr>\n",
       "      <th>1</th>\n",
       "      <td>8</td>\n",
       "      <td>256</td>\n",
       "      <td>15.6</td>\n",
       "      <td>299.00</td>\n",
       "    </tr>\n",
       "    <tr>\n",
       "      <th>2</th>\n",
       "      <td>8</td>\n",
       "      <td>256</td>\n",
       "      <td>15.6</td>\n",
       "      <td>789.00</td>\n",
       "    </tr>\n",
       "    <tr>\n",
       "      <th>3</th>\n",
       "      <td>16</td>\n",
       "      <td>1000</td>\n",
       "      <td>15.6</td>\n",
       "      <td>1199.00</td>\n",
       "    </tr>\n",
       "    <tr>\n",
       "      <th>4</th>\n",
       "      <td>16</td>\n",
       "      <td>512</td>\n",
       "      <td>15.6</td>\n",
       "      <td>669.01</td>\n",
       "    </tr>\n",
       "    <tr>\n",
       "      <th>...</th>\n",
       "      <td>...</td>\n",
       "      <td>...</td>\n",
       "      <td>...</td>\n",
       "      <td>...</td>\n",
       "    </tr>\n",
       "    <tr>\n",
       "      <th>2155</th>\n",
       "      <td>16</td>\n",
       "      <td>1000</td>\n",
       "      <td>17.3</td>\n",
       "      <td>2699.99</td>\n",
       "    </tr>\n",
       "    <tr>\n",
       "      <th>2156</th>\n",
       "      <td>16</td>\n",
       "      <td>1000</td>\n",
       "      <td>17.3</td>\n",
       "      <td>2899.99</td>\n",
       "    </tr>\n",
       "    <tr>\n",
       "      <th>2157</th>\n",
       "      <td>32</td>\n",
       "      <td>1000</td>\n",
       "      <td>17.3</td>\n",
       "      <td>3399.99</td>\n",
       "    </tr>\n",
       "    <tr>\n",
       "      <th>2158</th>\n",
       "      <td>16</td>\n",
       "      <td>1000</td>\n",
       "      <td>13.4</td>\n",
       "      <td>1899.99</td>\n",
       "    </tr>\n",
       "    <tr>\n",
       "      <th>2159</th>\n",
       "      <td>16</td>\n",
       "      <td>256</td>\n",
       "      <td>13.4</td>\n",
       "      <td>1699.99</td>\n",
       "    </tr>\n",
       "  </tbody>\n",
       "</table>\n",
       "<p>2160 rows × 4 columns</p>\n",
       "</div>"
      ],
      "text/plain": [
       "      ram  storage  screen  final_price\n",
       "0       8      512    15.6      1009.00\n",
       "1       8      256    15.6       299.00\n",
       "2       8      256    15.6       789.00\n",
       "3      16     1000    15.6      1199.00\n",
       "4      16      512    15.6       669.01\n",
       "...   ...      ...     ...          ...\n",
       "2155   16     1000    17.3      2699.99\n",
       "2156   16     1000    17.3      2899.99\n",
       "2157   32     1000    17.3      3399.99\n",
       "2158   16     1000    13.4      1899.99\n",
       "2159   16      256    13.4      1699.99\n",
       "\n",
       "[2160 rows x 4 columns]"
      ]
     },
     "execution_count": 6,
     "metadata": {},
     "output_type": "execute_result"
    }
   ],
   "source": [
    "df = df[['ram', 'storage', 'screen', 'final_price']]\n",
    "df"
   ]
  },
  {
   "cell_type": "code",
   "execution_count": 7,
   "id": "daf887d7-6568-4125-8910-2615941e41d3",
   "metadata": {},
   "outputs": [
    {
     "name": "stdout",
     "output_type": "stream",
     "text": [
      "Column: ram\n",
      "Data type: int64\n",
      "First 5 unique values: [ 8 16 32 12  4]\n",
      "Number of unique values: 9\n",
      "Missing values: 0 (0.00%)\n",
      "Top 5 most frequent values:\n",
      "ram\n",
      "16    928\n",
      "8     817\n",
      "32    301\n",
      "4      68\n",
      "64     25\n",
      "Name: count, dtype: int64\n",
      "--------------------------------------------------\n",
      "Column: storage\n",
      "Data type: int64\n",
      "First 5 unique values: [ 512  256 1000   64  128]\n",
      "Number of unique values: 12\n",
      "Missing values: 0 (0.00%)\n",
      "Top 5 most frequent values:\n",
      "storage\n",
      "512     941\n",
      "1000    570\n",
      "256     450\n",
      "128      67\n",
      "2000     42\n",
      "Name: count, dtype: int64\n",
      "--------------------------------------------------\n",
      "Column: screen\n",
      "Data type: float64\n",
      "First 5 unique values: [15.6 17.3 14.  16.1 13.3]\n",
      "Number of unique values: 29\n",
      "Missing values: 4 (0.19%)\n",
      "Top 5 most frequent values:\n",
      "screen\n",
      "15.6    1009\n",
      "14.0     392\n",
      "16.0     174\n",
      "17.3     161\n",
      "13.3     131\n",
      "Name: count, dtype: int64\n",
      "--------------------------------------------------\n",
      "Column: final_price\n",
      "Data type: float64\n",
      "First 5 unique values: [1009.    299.    789.   1199.    669.01]\n",
      "Number of unique values: 1440\n",
      "Missing values: 0 (0.00%)\n",
      "Top 5 most frequent values:\n",
      "final_price\n",
      "999.0     27\n",
      "1999.0    25\n",
      "699.0     23\n",
      "799.0     23\n",
      "1599.0    21\n",
      "Name: count, dtype: int64\n",
      "--------------------------------------------------\n"
     ]
    }
   ],
   "source": [
    "for col in df.columns:\n",
    "    print(f\"Column: {col}\")\n",
    "    print(f\"Data type: {df[col].dtype}\")\n",
    "    print(f\"First 5 unique values: {df[col].dropna().unique()[:5]}\")\n",
    "    print(f\"Number of unique values: {df[col].nunique()}\")\n",
    "    print(f\"Missing values: {df[col].isnull().sum()} ({df[col].isnull().mean() * 100:.2f}%)\")\n",
    "    print(f\"Top 5 most frequent values:\\n{df[col].value_counts().head()}\")\n",
    "    print(\"-\" * 50)"
   ]
  },
  {
   "cell_type": "code",
   "execution_count": 8,
   "id": "d82d80c6-a068-4e45-9f66-6953a19b87a4",
   "metadata": {},
   "outputs": [
    {
     "data": {
      "image/png": "[encoded data removed]",
      "text/plain": [
       "<Figure size 640x480 with 1 Axes>"
      ]
     },
     "metadata": {},
     "output_type": "display_data"
    }
   ],
   "source": [
    "sns.histplot(df['final_price'], bins=50, color='pink')\n",
    "plt.show()"
   ]
  },
  {
   "cell_type": "markdown",
   "id": "112daf67-2d2b-429d-b748-b733a38b631b",
   "metadata": {},
   "source": [
    "## Q1. Missing values"
   ]
  },
  {
   "cell_type": "code",
   "execution_count": 9,
   "id": "153d6d75-a4b6-4cfc-9044-50f663e8becc",
   "metadata": {},
   "outputs": [
    {
     "name": "stdout",
     "output_type": "stream",
     "text": [
      "1.6495877663192549\n"
     ]
    }
   ],
   "source": [
    "skew_value = float(df.final_price.skew())\n",
    "print(skew_value)"
   ]
  },
  {
   "cell_type": "code",
   "execution_count": 10,
   "id": "42fa2670-1c57-4842-8858-03955fb1cb53",
   "metadata": {},
   "outputs": [
    {
     "name": "stdout",
     "output_type": "stream",
     "text": [
      "1.65\n"
     ]
    }
   ],
   "source": [
    "skew_value = round(df.final_price.skew(), 2)\n",
    "print(skew_value)"
   ]
  },
  {
   "cell_type": "code",
   "execution_count": 11,
   "id": "83cc6d67-78a4-4be2-9aff-fea8a50c0d6d",
   "metadata": {},
   "outputs": [
    {
     "data": {
      "text/plain": [
       "'screen'"
      ]
     },
     "execution_count": 11,
     "metadata": {},
     "output_type": "execute_result"
    }
   ],
   "source": [
    "df.isnull().sum()[df.isnull().sum() > 0].index[0]"
   ]
  },
  {
   "cell_type": "markdown",
   "id": "f0a12992-7872-46a8-801e-96018fd2d7eb",
   "metadata": {},
   "source": [
    "## Q2. Median for RAM"
   ]
  },
  {
   "cell_type": "code",
   "execution_count": 14,
   "id": "67225855-c1c4-4f27-b6b1-bacbdddadc2d",
   "metadata": {},
   "outputs": [
    {
     "data": {
      "text/plain": [
       "np.float64(16.0)"
      ]
     },
     "execution_count": 14,
     "metadata": {},
     "output_type": "execute_result"
    }
   ],
   "source": [
    "df.ram.median()"
   ]
  },
  {
   "cell_type": "code",
   "execution_count": 15,
   "id": "482df7da-b553-4af1-bd41-5db135167fe3",
   "metadata": {},
   "outputs": [
    {
     "name": "stdout",
     "output_type": "stream",
     "text": [
      "16.0\n"
     ]
    }
   ],
   "source": [
    "ram_median = round(df.ram.median(), 2)\n",
    "print(ram_median)"
   ]
  },
  {
   "cell_type": "code",
   "execution_count": 16,
   "id": "b4ebf15f-27e1-4f1c-9761-d3e888629aa4",
   "metadata": {},
   "outputs": [],
   "source": [
    "np.random.seed(42)\n",
    "\n",
    "# Define the number of samples for train, validation, and test sets\n",
    "num_samples = len(df)\n",
    "num_val = int(num_samples * 0.2)  # 20% for validation\n",
    "num_test = int(num_samples * 0.2)  # 20% for testing\n",
    "num_train = num_samples - num_val - num_test  # Remaining 60% for training\n",
    "\n",
    "# Shuffle the indices\n",
    "idx = np.random.permutation(num_samples)\n",
    "\n",
    "# Split the DataFrame into train, validation, and test sets\n",
    "df_train = df.iloc[idx[:num_train]].reset_index(drop=True)\n",
    "df_val = df.iloc[idx[num_train:num_train+num_val]].reset_index(drop=True)\n",
    "df_test = df.iloc[idx[num_train+num_val:]].reset_index(drop=True)\n",
    "\n",
    "# Separate the target column (final_price)\n",
    "y_train = df_train['final_price'].values\n",
    "y_val = df_val['final_price'].values\n",
    "y_test = df_test['final_price'].values\n",
    "\n",
    "# Drop the target column from the DataFrame\n",
    "df_train = df_train.drop(columns=['final_price'])\n",
    "df_val = df_val.drop(columns=['final_price'])\n",
    "df_test = df_test.drop(columns=['final_price'])"
   ]
  },
  {
   "cell_type": "code",
   "execution_count": 17,
   "id": "58fd1605-36f2-4612-a735-b20fee9afabf",
   "metadata": {},
   "outputs": [],
   "source": [
    "def train_linear_regression(X, y):\n",
    "    ones = np.ones(X.shape[0])\n",
    "    X = np.column_stack([ones, X])\n",
    "\n",
    "    XTX = X.T.dot(X)\n",
    "    XTX_inv = np.linalg.inv(XTX)\n",
    "    w_full = XTX_inv.dot(X.T).dot(y)\n",
    "    return w_full[0], w_full[1:]"
   ]
  },
  {
   "cell_type": "code",
   "execution_count": 18,
   "id": "9cda67d2-da4f-4504-bef9-1f9e659d1fc3",
   "metadata": {},
   "outputs": [],
   "source": [
    "def rmse(y, y_pred):\n",
    "    se = (y - y_pred) ** 2\n",
    "    mse = se.mean()\n",
    "    return np.sqrt(mse)"
   ]
  },
  {
   "cell_type": "code",
   "execution_count": 19,
   "id": "fe2b7e92-6af7-45ca-ab28-6b22fc688dab",
   "metadata": {},
   "outputs": [],
   "source": [
    "def prepare_X(df, na_opt='zero'):\n",
    "    df = df.copy()\n",
    "\n",
    "    if na_opt == 'mean':\n",
    "        df.fillna(df.mean(), inplace=True)\n",
    "    else:\n",
    "        df.fillna(0, inplace=True)\n",
    "    X = df.values\n",
    "    return X"
   ]
  },
  {
   "cell_type": "code",
   "execution_count": 20,
   "id": "790a450b-3784-4375-9cbf-1a53fb81539e",
   "metadata": {},
   "outputs": [
    {
     "name": "stdout",
     "output_type": "stream",
     "text": [
      "597.36\n"
     ]
    }
   ],
   "source": [
    "# Prepare the training data\n",
    "X_train = prepare_X(df_train, na_opt='zero')\n",
    "w0, w = train_linear_regression(X_train, y_train)\n",
    "\n",
    "# Prepare the validation data\n",
    "X_val = prepare_X(df_val)\n",
    "\n",
    "# Make predictions using the validation data\n",
    "y_pred = w0 + X_val.dot(w)\n",
    "\n",
    "# Calculate RMSE and round to 2 decimal places\n",
    "score_0 = round(rmse(y_val, y_pred), 2)\n",
    "\n",
    "print(score_0)"
   ]
  },
  {
   "cell_type": "code",
   "execution_count": 21,
   "id": "439316df-f252-4710-9b46-4d6d1adc218b",
   "metadata": {},
   "outputs": [
    {
     "name": "stdout",
     "output_type": "stream",
     "text": [
      "597.74\n"
     ]
    }
   ],
   "source": [
    "# Prepare the training data, filling missing values with the mean\n",
    "X_train = prepare_X(df_train, na_opt='mean')\n",
    "w0, w = train_linear_regression(X_train, y_train)\n",
    "\n",
    "# Prepare the validation data\n",
    "X_val = prepare_X(df_val)\n",
    "\n",
    "# Make predictions using the validation data\n",
    "y_pred = w0 + X_val.dot(w)\n",
    "\n",
    "# Calculate RMSE and round to 2 decimal places\n",
    "score_mean = round(rmse(y_val, y_pred), 2)\n",
    "\n",
    "print(score_mean)"
   ]
  },
  {
   "cell_type": "markdown",
   "id": "97bd6660-5f4a-4502-a73c-b4fd29a7c13e",
   "metadata": {},
   "source": [
    "## Q3. Filling NAs"
   ]
  },
  {
   "cell_type": "code",
   "execution_count": 22,
   "id": "e491f416-c55d-40fb-ac82-df8e5d74ece8",
   "metadata": {},
   "outputs": [
    {
     "data": {
      "text/plain": [
       "'With 0'"
      ]
     },
     "execution_count": 22,
     "metadata": {},
     "output_type": "execute_result"
    }
   ],
   "source": [
    "'With 0' if score_0 < score_mean else ('With mean' if score_0 > score_mean else 'Both are equally good')"
   ]
  },
  {
   "cell_type": "markdown",
   "id": "744a4ff5-9d4c-4664-9646-bb6c724efbec",
   "metadata": {},
   "source": [
    "## Q4. Regularization"
   ]
  },
  {
   "cell_type": "code",
   "execution_count": 23,
   "id": "d24eb0b1-845e-4bb6-8eff-c1fddf346f4e",
   "metadata": {},
   "outputs": [],
   "source": [
    "def train_linear_regression_reg(X, y, r=0.001):\n",
    "    # Adding bias term (column of ones) to the feature matrix\n",
    "    bias_term = np.ones(X.shape[0])\n",
    "    X = np.column_stack([bias_term, X])\n",
    "\n",
    "    # Regularized normal equation: (X^T * X + r * I)^(-1) * X^T * y\n",
    "    XTX = X.T.dot(X)\n",
    "    XTX = XTX + r * np.eye(XTX.shape[0])  # L2 regularization term\n",
    "    \n",
    "    try:\n",
    "        XTX_inv = np.linalg.inv(XTX)\n",
    "    except np.linalg.LinAlgError:\n",
    "        raise ValueError(\"Matrix is singular and cannot be inverted.\")\n",
    "\n",
    "    # Calculating weights\n",
    "    w_full = XTX_inv.dot(X.T).dot(y)\n",
    "    \n",
    "    # Returning the intercept and weights separately\n",
    "    return w_full[0], w_full[1:]"
   ]
  },
  {
   "cell_type": "code",
   "execution_count": 24,
   "id": "caca04cd-b3a1-4320-891a-57ed8bcd4749",
   "metadata": {},
   "outputs": [
    {
     "name": "stdout",
     "output_type": "stream",
     "text": [
      "(0, [597, 597, 597, 597, 597, 597, 597])\n"
     ]
    }
   ],
   "source": [
    "# List of regularization parameters to test\n",
    "r_list = [0, 0.01, 0.1, 1, 5, 10, 100]\n",
    "score_list = []\n",
    "\n",
    "# Iterate through the list of regularization parameters\n",
    "for r in r_list:\n",
    "    # Prepare training data with missing values filled as zero\n",
    "    X_train = prepare_X(df_train, na_opt='zero')\n",
    "    \n",
    "    # Train the linear regression model with regularization\n",
    "    w0, w = train_linear_regression_reg(X_train, y_train, r=r)\n",
    "\n",
    "    # Prepare validation data\n",
    "    X_val = prepare_X(df_val)\n",
    "\n",
    "    # Predict the target variable on the validation set\n",
    "    y_pred = w0 + X_val.dot(w)\n",
    "\n",
    "    # Append the RMSE to the score list, converted to an integer\n",
    "    score_list.append(int(round(rmse(y_val, y_pred), 2)))\n",
    "\n",
    "# Find the regularization parameter that gave the lowest RMSE\n",
    "best_r = r_list[np.argmin(score_list)], score_list # 4. Regularization\n",
    "\n",
    "print(best_r)"
   ]
  },
  {
   "cell_type": "markdown",
   "id": "e0224619-33ac-44a1-ada0-fb14e385cb21",
   "metadata": {},
   "source": [
    "## Q5. RMSE spread"
   ]
  },
  {
   "cell_type": "code",
   "execution_count": 30,
   "id": "851f6532-c120-43a9-b93b-0e6633650ac9",
   "metadata": {},
   "outputs": [
    {
     "name": "stdout",
     "output_type": "stream",
     "text": [
      "Standard deviation of RMSE across different seeds: 29.176\n"
     ]
    }
   ],
   "source": [
    "score_list = []\n",
    "\n",
    "for seed in range(10):\n",
    "    np.random.seed(seed)  # Set random seed for reproducibility\n",
    "\n",
    "    # Define dataset sizes for training, validation, and testing sets\n",
    "    n = len(df)\n",
    "    n_val = int(n * 0.2)  # 20% of the data for validation\n",
    "    n_test = int(n * 0.2)  # 20% of the data for testing\n",
    "    n_train = n - n_val - n_test  # Remaining 60% for training\n",
    "\n",
    "    # Shuffle indices for splitting the dataset\n",
    "    idx = np.arange(n)\n",
    "    np.random.shuffle(idx)\n",
    "\n",
    "    # Split the dataset into training, validation, and test sets\n",
    "    df_train = df.iloc[idx[:n_train]].reset_index(drop=True)\n",
    "    df_val = df.iloc[idx[n_train:n_train+n_val]].reset_index(drop=True)\n",
    "    df_test = df.iloc[idx[n_train+n_val:]].reset_index(drop=True)\n",
    "\n",
    "    # Separate the target variable (final_price) from each set\n",
    "    y_train = df_train.final_price.values\n",
    "    y_val = df_val.final_price.values\n",
    "    y_test = df_test.final_price.values\n",
    "\n",
    "    # Remove the target variable from the feature sets\n",
    "    df_train = df_train.drop(columns=['final_price'])\n",
    "    df_val = df_val.drop(columns=['final_price'])\n",
    "    df_test = df_test.drop(columns=['final_price'])\n",
    "\n",
    "    # Prepare feature matrix for training set (e.g., handling missing values)\n",
    "    X_train = prepare_X(df_train, na_opt='zero')\n",
    "    \n",
    "    # Train the linear regression model\n",
    "    w0, w = train_linear_regression(X_train, y_train)\n",
    "\n",
    "    # Prepare feature matrix for validation set\n",
    "    X_val = prepare_X(df_val)\n",
    "    \n",
    "    # Predict the target variable on validation set\n",
    "    y_pred = w0 + X_val.dot(w)\n",
    "    \n",
    "    # Append the RMSE for this iteration to the score list\n",
    "    score_list.append(rmse(y_val, y_pred))\n",
    "\n",
    "# Calculate the standard deviation of RMSE scores and round it to 3 decimal places\n",
    "std_rmse = round(np.std(score_list), 3)\n",
    "\n",
    "# RMSE\n",
    "print(f\"Standard deviation of RMSE across different seeds: {std_rmse}\")"
   ]
  },
  {
   "cell_type": "code",
   "execution_count": 31,
   "id": "91fd5a98-37f4-42ab-b851-e5811f441db3",
   "metadata": {},
   "outputs": [],
   "source": [
    "np.random.seed(9)\n",
    "\n",
    "n = len(df)\n",
    "n_val = int(n * 0.2)  # 20% for validation\n",
    "n_test = int(n * 0.2)  # 20% for testing\n",
    "n_train = n - n_val - n_test  # Remaining 60% for training\n",
    "\n",
    "idx = np.arange(n)\n",
    "np.random.shuffle(idx)\n",
    "\n",
    "# Split the dataset into training, validation, and test sets\n",
    "df_train = df.iloc[idx[:n_train]].reset_index(drop=True)\n",
    "df_val = df.iloc[idx[n_train:n_train+n_val]].reset_index(drop=True)\n",
    "df_test = df.iloc[idx[n_train+n_val:]].reset_index(drop=True)\n",
    "\n",
    "# Separate the target variable (final_price) from each set\n",
    "y_train = df_train.final_price.values\n",
    "y_val = df_val.final_price.values\n",
    "y_test = df_test.final_price.values\n",
    "\n",
    "del df_train['final_price']\n",
    "del df_val['final_price']\n",
    "del df_test['final_price']"
   ]
  },
  {
   "cell_type": "code",
   "execution_count": 32,
   "id": "83a9184c-35e0-47fa-9f77-3e307f2e4b7d",
   "metadata": {},
   "outputs": [],
   "source": [
    "# Concatenate training and validation datasets into one full training dataset, resetting index\n",
    "df_full_train = pd.concat([df_train, df_val]).reset_index(drop=True)\n",
    "\n",
    "# Concatenate target arrays for training and validation into one full target array\n",
    "y_full_train = np.concatenate([y_train, y_val])"
   ]
  },
  {
   "cell_type": "markdown",
   "id": "6e82124e-d0eb-4aed-a89d-cc8ef36b3698",
   "metadata": {},
   "source": [
    "## Q6. RMSE on Test"
   ]
  },
  {
   "cell_type": "code",
   "execution_count": 33,
   "id": "feb7a9fa-9417-453b-929d-81945e7bd0cb",
   "metadata": {},
   "outputs": [
    {
     "name": "stdout",
     "output_type": "stream",
     "text": [
      "Test set RMSE: 608.61\n"
     ]
    }
   ],
   "source": [
    "# Prepare the full training dataset, filling missing values with zeros\n",
    "X_full_train = prepare_X(df_full_train, na_opt='zero')\n",
    "\n",
    "# Train the linear regression model with regularization (ridge regression)\n",
    "w0, w = train_linear_regression_reg(X_full_train, y_full_train, r=0.001)\n",
    "\n",
    "# Prepare the test dataset\n",
    "X_test = prepare_X(df_test)\n",
    "\n",
    "# Make predictions on the test set\n",
    "y_pred = w0 + X_test.dot(w)\n",
    "\n",
    "# Calculate and print the rounded RMSE on the test set\n",
    "rmse_test = round(rmse(y_test, y_pred), 2)\n",
    "\n",
    "# If converting RMSE to an integer is required, otherwise use the float\n",
    "rmse_test_int = int(rmse_test) if rmse_test.is_integer() else rmse_test\n",
    "\n",
    "print(f\"Test set RMSE: {rmse_test_int:.2f}\")"
   ]
  }
 ],
 "metadata": {
  "kernelspec": {
   "display_name": "Python 3 (ipykernel)",
   "language": "python",
   "name": "python3"
  },
  "language_info": {
   "codemirror_mode": {
    "name": "ipython",
    "version": 3
   },
   "file_extension": ".py",
   "mimetype": "text/x-python",
   "name": "python",
   "nbconvert_exporter": "python",
   "pygments_lexer": "ipython3",
   "version": "3.12.1"
  }
 },
 "nbformat": 4,
 "nbformat_minor": 5
}
