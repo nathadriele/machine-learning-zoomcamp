{
 "cells": [
  {
   "cell_type": "markdown",
   "id": "40b9ed35-c1af-4bf0-a5a6-b15f4901ebad",
   "metadata": {},
   "source": [
    "## [EDA] Test 1"
   ]
  },
  {
   "cell_type": "code",
   "execution_count": 3,
   "id": "ec51fb78-e463-4ca4-b9d5-ef25afaeaca4",
   "metadata": {},
   "outputs": [],
   "source": [
    "import pandas as pd\n",
    "import numpy as np\n",
    "import seaborn as sns"
   ]
  },
  {
   "cell_type": "markdown",
   "id": "99f865c9-e012-4c3b-be9e-09d215e3acab",
   "metadata": {},
   "source": [
    "## Dataset"
   ]
  },
  {
   "cell_type": "code",
   "execution_count": 4,
   "id": "caea7e29-9c93-4b44-8d38-bd0b02057bc4",
   "metadata": {},
   "outputs": [],
   "source": [
    "# Load dataset from the provided URL\n",
    "url = 'https://raw.githubusercontent.com/alexeygrigorev/datasets/master/laptops.csv'\n",
    "df = pd.read_csv(url)"
   ]
  },
  {
   "cell_type": "markdown",
   "id": "04f7e049-83f6-4a29-b50c-fb006245f5a8",
   "metadata": {},
   "source": [
    "## Preparing the Dataset"
   ]
  },
  {
   "cell_type": "code",
   "execution_count": 5,
   "id": "f2f9031b-794f-4245-bbbd-3269221b23ec",
   "metadata": {},
   "outputs": [],
   "source": [
    "df.columns = df.columns.str.lower().str.replace(' ', '_')"
   ]
  },
  {
   "cell_type": "code",
   "execution_count": 6,
   "id": "21208238-6f36-4727-b26a-9c6db859a971",
   "metadata": {},
   "outputs": [],
   "source": [
    "mask = ['ram', 'storage', 'screen', 'final_price']\n",
    "df_new = df[mask]"
   ]
  },
  {
   "cell_type": "markdown",
   "id": "fca7db75-254b-483f-a289-f5a72cb8ba11",
   "metadata": {},
   "source": [
    "## Exploratory Data Analysis (EDA)"
   ]
  },
  {
   "cell_type": "code",
   "execution_count": 7,
   "id": "d114414c-ba51-43e6-b2af-f830211e42fa",
   "metadata": {},
   "outputs": [
    {
     "data": {
      "image/png": "[encoded data removed]",
      "text/plain": [
       "<Figure size 640x480 with 1 Axes>"
      ]
     },
     "metadata": {},
     "output_type": "display_data"
    }
   ],
   "source": [
    "sns.histplot(df['final_price']);"
   ]
  },
  {
   "cell_type": "markdown",
   "id": "c7ee72c5-df23-4575-9a0f-386481ede3d5",
   "metadata": {},
   "source": [
    "## Missing values"
   ]
  },
  {
   "cell_type": "code",
   "execution_count": 8,
   "id": "ba44caa7-0eb8-461e-84ea-bc298f875ed1",
   "metadata": {},
   "outputs": [
    {
     "data": {
      "text/plain": [
       "ram            0\n",
       "storage        0\n",
       "screen         4\n",
       "final_price    0\n",
       "dtype: int64"
      ]
     },
     "execution_count": 8,
     "metadata": {},
     "output_type": "execute_result"
    }
   ],
   "source": [
    "df_new.isnull().sum()"
   ]
  },
  {
   "cell_type": "code",
   "execution_count": 9,
   "id": "1e27619c-9fbb-49e3-9f2d-df569d6ea209",
   "metadata": {},
   "outputs": [
    {
     "data": {
      "text/html": [
       "<div>\n",
       "<style scoped>\n",
       "    .dataframe tbody tr th:only-of-type {\n",
       "        vertical-align: middle;\n",
       "    }\n",
       "\n",
       "    .dataframe tbody tr th {\n",
       "        vertical-align: top;\n",
       "    }\n",
       "\n",
       "    .dataframe thead th {\n",
       "        text-align: right;\n",
       "    }\n",
       "</style>\n",
       "<table border=\"1\" class=\"dataframe\">\n",
       "  <thead>\n",
       "    <tr style=\"text-align: right;\">\n",
       "      <th></th>\n",
       "      <th>ram</th>\n",
       "      <th>storage</th>\n",
       "      <th>screen</th>\n",
       "      <th>final_price</th>\n",
       "    </tr>\n",
       "  </thead>\n",
       "  <tbody>\n",
       "    <tr>\n",
       "      <th>count</th>\n",
       "      <td>2160.000000</td>\n",
       "      <td>2160.000000</td>\n",
       "      <td>2156.000000</td>\n",
       "      <td>2160.000000</td>\n",
       "    </tr>\n",
       "    <tr>\n",
       "      <th>mean</th>\n",
       "      <td>15.413889</td>\n",
       "      <td>596.294444</td>\n",
       "      <td>15.168112</td>\n",
       "      <td>1312.638509</td>\n",
       "    </tr>\n",
       "    <tr>\n",
       "      <th>std</th>\n",
       "      <td>9.867815</td>\n",
       "      <td>361.220506</td>\n",
       "      <td>1.203329</td>\n",
       "      <td>911.475417</td>\n",
       "    </tr>\n",
       "    <tr>\n",
       "      <th>min</th>\n",
       "      <td>4.000000</td>\n",
       "      <td>0.000000</td>\n",
       "      <td>10.100000</td>\n",
       "      <td>201.050000</td>\n",
       "    </tr>\n",
       "    <tr>\n",
       "      <th>25%</th>\n",
       "      <td>8.000000</td>\n",
       "      <td>256.000000</td>\n",
       "      <td>14.000000</td>\n",
       "      <td>661.082500</td>\n",
       "    </tr>\n",
       "    <tr>\n",
       "      <th>50%</th>\n",
       "      <td>16.000000</td>\n",
       "      <td>512.000000</td>\n",
       "      <td>15.600000</td>\n",
       "      <td>1031.945000</td>\n",
       "    </tr>\n",
       "    <tr>\n",
       "      <th>75%</th>\n",
       "      <td>16.000000</td>\n",
       "      <td>1000.000000</td>\n",
       "      <td>15.600000</td>\n",
       "      <td>1708.970000</td>\n",
       "    </tr>\n",
       "    <tr>\n",
       "      <th>max</th>\n",
       "      <td>128.000000</td>\n",
       "      <td>4000.000000</td>\n",
       "      <td>18.000000</td>\n",
       "      <td>7150.470000</td>\n",
       "    </tr>\n",
       "  </tbody>\n",
       "</table>\n",
       "</div>"
      ],
      "text/plain": [
       "               ram      storage       screen  final_price\n",
       "count  2160.000000  2160.000000  2156.000000  2160.000000\n",
       "mean     15.413889   596.294444    15.168112  1312.638509\n",
       "std       9.867815   361.220506     1.203329   911.475417\n",
       "min       4.000000     0.000000    10.100000   201.050000\n",
       "25%       8.000000   256.000000    14.000000   661.082500\n",
       "50%      16.000000   512.000000    15.600000  1031.945000\n",
       "75%      16.000000  1000.000000    15.600000  1708.970000\n",
       "max     128.000000  4000.000000    18.000000  7150.470000"
      ]
     },
     "execution_count": 9,
     "metadata": {},
     "output_type": "execute_result"
    }
   ],
   "source": [
    "df_new.describe()"
   ]
  },
  {
   "cell_type": "code",
   "execution_count": 10,
   "id": "466a676d-0dff-47d4-860f-5b174aeeccc0",
   "metadata": {},
   "outputs": [
    {
     "name": "stdout",
     "output_type": "stream",
     "text": [
      "The median of 'ram' is: 16\n"
     ]
    }
   ],
   "source": [
    "median_ram = int(df_new['ram'].median())\n",
    "print(f\"The median of 'ram' is: {median_ram}\")"
   ]
  },
  {
   "cell_type": "markdown",
   "id": "e57b2fd1-df2f-4838-9c34-f09deea4458d",
   "metadata": {},
   "source": [
    "## Prepare and Split the Dataset"
   ]
  },
  {
   "cell_type": "code",
   "execution_count": 11,
   "id": "78db7dca-25d0-498b-8c22-eedb43cf0eb2",
   "metadata": {},
   "outputs": [
    {
     "name": "stdout",
     "output_type": "stream",
     "text": [
      "Training set: 1296, Validation set: 432, Test set: 432\n"
     ]
    }
   ],
   "source": [
    "# Total number of rows in the dataset\n",
    "n = len(df_new)\n",
    "\n",
    "# Calculate sizes for validation and test sets (20% each)\n",
    "n_val = int(round(n * 0.2))\n",
    "n_test = int(round(n * 0.2))\n",
    "\n",
    "# Calculate remaining size for the training set\n",
    "n_train = n - n_val - n_test  # Ensure the total equals the full dataset\n",
    "\n",
    "# Display results (optional)\n",
    "print(f\"Training set: {n_train}, Validation set: {n_val}, Test set: {n_test}\")"
   ]
  },
  {
   "cell_type": "code",
   "execution_count": 12,
   "id": "3975fbbd-12a2-4f50-a192-10984ee762b6",
   "metadata": {},
   "outputs": [],
   "source": [
    "np.random.seed(42)  # Set seed for reproducibility\n",
    "idx = np.arange(n)  # Generate array of indices\n",
    "np.random.shuffle(idx)  # Shuffle indices in place"
   ]
  },
  {
   "cell_type": "code",
   "execution_count": 13,
   "id": "88d507b6-486b-4532-ab10-a48aae479deb",
   "metadata": {},
   "outputs": [],
   "source": [
    "# Split the dataset into training, validation, and test sets using the shuffled indices\n",
    "df_train = df_new.iloc[idx[:n_train]]  # Select training set\n",
    "df_val = df_new.iloc[idx[n_train:n_train+n_val]]  # Select validation set\n",
    "df_test = df_new.iloc[idx[n_train+n_val:]]  # Select test set"
   ]
  },
  {
   "cell_type": "code",
   "execution_count": 15,
   "id": "783f3638-3837-48f2-b04a-727121db7786",
   "metadata": {},
   "outputs": [
    {
     "name": "stdout",
     "output_type": "stream",
     "text": [
      "Training set size: 1296, Validation set size: 432, Test set size: 432\n"
     ]
    }
   ],
   "source": [
    "# Display the lengths of the training, validation, and test sets\n",
    "len_train, len_val, len_test = len(df_train), len(df_val), len(df_test)\n",
    "\n",
    "# Print the lengths for verification\n",
    "print(f\"Training set size: {len_train}, Validation set size: {len_val}, Test set size: {len_test}\")"
   ]
  },
  {
   "cell_type": "code",
   "execution_count": 16,
   "id": "63690adf-054e-4e92-8328-f03a30c86d82",
   "metadata": {},
   "outputs": [],
   "source": [
    "# Reset the index for each subset to ensure consistency after splitting\n",
    "df_train = df_train.reset_index(drop=True)\n",
    "df_val = df_val.reset_index(drop=True)\n",
    "df_test = df_test.reset_index(drop=True)"
   ]
  },
  {
   "cell_type": "code",
   "execution_count": 17,
   "id": "f671f4e3-e099-4ce6-a846-815681db6e16",
   "metadata": {},
   "outputs": [],
   "source": [
    "# Extract the target variable 'final_price' for each subset\n",
    "y_train = df_train['final_price']\n",
    "y_val = df_val['final_price']\n",
    "y_test = df_test['final_price']"
   ]
  },
  {
   "cell_type": "code",
   "execution_count": 18,
   "id": "85d9144e-83c7-454e-85a2-16ac3710d3ad",
   "metadata": {},
   "outputs": [],
   "source": [
    "# Remove the 'final_price' column from each subset\n",
    "del df_train['final_price']\n",
    "del df_val['final_price']\n",
    "del df_test['final_price']"
   ]
  },
  {
   "cell_type": "markdown",
   "id": "7cd4229f-f166-44e0-9123-9871a8505f37",
   "metadata": {},
   "source": [
    "## Regularization"
   ]
  },
  {
   "cell_type": "code",
   "execution_count": 19,
   "id": "39521906-486a-43e9-b1b8-821cae5a0591",
   "metadata": {},
   "outputs": [],
   "source": [
    "def train_linear_regression(X, y):\n",
    "    # Add a bias term (column of ones) to the feature matrix\n",
    "    one = np.ones(X.shape[0])\n",
    "    X = np.column_stack([one, X])\n",
    "\n",
    "    # Compute the dot product of X transpose and X\n",
    "    XTX = X.T.dot(X)\n",
    "    \n",
    "    # Compute the inverse of XTX\n",
    "    XTX_inv = np.linalg.inv(XTX)\n",
    "\n",
    "    # Calculate the weights using the normal equation\n",
    "    w_full = XTX_inv.dot(X.T).dot(y)\n",
    "\n",
    "    # Return the bias term (intercept) and the rest of the weights\n",
    "    return w_full[0], w_full[1:]"
   ]
  },
  {
   "cell_type": "code",
   "execution_count": 20,
   "id": "54560e1c-4a83-4356-9311-2f8700f8b490",
   "metadata": {},
   "outputs": [],
   "source": [
    "def prepare_X(df):\n",
    "    # Fill missing values with 0 and convert the dataframe to a NumPy array\n",
    "    df = df.fillna(0)\n",
    "    X = df.values\n",
    "    return X\n",
    "\n",
    "# Calculate the mean of 'screen' from the training data\n",
    "mean_values = df_train.mean()\n",
    "screen_mean = mean_values['screen']\n",
    "\n",
    "def prepare_mean_na(df):\n",
    "    # Fill missing values in the 'screen' column with its mean and convert to a NumPy array\n",
    "    df = df.fillna({'screen': screen_mean})\n",
    "    X = df.values\n",
    "    return X"
   ]
  },
  {
   "cell_type": "code",
   "execution_count": 21,
   "id": "d3aa62ac-7927-4b71-824d-17ce17c16503",
   "metadata": {},
   "outputs": [],
   "source": [
    "def rmse(y, y_pred):\n",
    "    error = y - y_pred\n",
    "    se = error ** 2\n",
    "    mse = se.mean()\n",
    "    rmse_error = np.sqrt(mse)\n",
    "    return rmse_error"
   ]
  },
  {
   "cell_type": "code",
   "execution_count": 22,
   "id": "44ab889c-f5b9-4dd5-ba5d-277f62518967",
   "metadata": {
    "scrolled": true
   },
   "outputs": [
    {
     "name": "stdout",
     "output_type": "stream",
     "text": [
      "Column 'final_price' not found in dataframe\n"
     ]
    }
   ],
   "source": [
    "def extract_features_and_target(df, target_column='final_price'):\n",
    "    if target_column in df.columns:\n",
    "        X = df.drop(columns=[target_column])\n",
    "        y = df[target_column]\n",
    "        return X, y\n",
    "    else:\n",
    "        raise ValueError(f\"Column '{target_column}' not found in dataframe\")\n",
    "\n",
    "def ensure_dataframe(data):\n",
    "    return data if isinstance(data, pd.DataFrame) else pd.DataFrame(data)\n",
    "\n",
    "def train_and_evaluate(df_train, df_val, prepare_fn, train_fn, eval_fn):\n",
    "    try:\n",
    "        # Extracting features and targets\n",
    "        X_train, y_train = extract_features_and_target(df_train)\n",
    "        X_val, y_val = extract_features_and_target(df_val)\n",
    "    except ValueError as e:\n",
    "        print(e)\n",
    "        return\n",
    "\n",
    "    # Ensuring dataframes\n",
    "    X_train = ensure_dataframe(X_train)\n",
    "    X_val = ensure_dataframe(X_val)\n",
    "\n",
    "    # Preparing data\n",
    "    X_train_prepared = prepare_fn(X_train)\n",
    "    X_val_prepared = prepare_fn(X_val)\n",
    "\n",
    "    # Training the model\n",
    "    w0, w = train_fn(X_train_prepared, y_train)\n",
    "\n",
    "    # Prediction\n",
    "    y_pred = w0 + X_val_prepared.dot(w)\n",
    "\n",
    "    # Evaluation (RMSE)\n",
    "    rmse_val = round(eval_fn(y_val, y_pred), 5)\n",
    "    print(f\"Validation RMSE: {rmse_val}\")\n",
    "\n",
    "# Example usage\n",
    "train_and_evaluate(df_train, df_val, prepare_X, train_linear_regression, rmse)"
   ]
  },
  {
   "cell_type": "code",
   "execution_count": 23,
   "id": "ff722ae8-1cb7-43cc-a210-5ea45f044daa",
   "metadata": {},
   "outputs": [],
   "source": [
    "def linear_regression_regularized(X, y, r):\n",
    "    one = np.ones(X.shape[0])\n",
    "    X = np.column_stack([one, X])\n",
    "\n",
    "    # Compute X^T * X\n",
    "    XTX = X.T.dot(X)\n",
    "    \n",
    "    # Apply L2 regularization by adding r * I (identity matrix scaled by regularization parameter)\n",
    "    XTX = XTX + r * np.eye(XTX.shape[0])\n",
    "    \n",
    "    # Invert the matrix (X^T * X + r * I)\n",
    "    XTX_inv = np.linalg.inv(XTX)\n",
    "\n",
    "    # Calculate the weights using the regularized normal equation\n",
    "    w_full = XTX_inv.dot(X.T).dot(y)\n",
    "\n",
    "    # Return the bias term (intercept) and the rest of the weights\n",
    "    return w_full[0], w_full[1:]"
   ]
  },
  {
   "cell_type": "code",
   "execution_count": 24,
   "id": "37b23ae9-ff3c-430d-9e76-255330a6f1b7",
   "metadata": {},
   "outputs": [
    {
     "name": "stdout",
     "output_type": "stream",
     "text": [
      "regularization:0, bias:676.8954853003995, RMSE:597.36\n",
      "regularization:0.01, bias:676.2736817205587, RMSE:597.36\n",
      "regularization:0.1, bias:670.7284836314063, RMSE:597.35\n",
      "regularization:1, bias:619.9030834108207, RMSE:597.21\n",
      "regularization:5, bias:463.7771697142356, RMSE:597.01\n",
      "regularization:10, bias:352.79713367679835, RMSE:597.06\n",
      "regularization:100, bias:66.92071440181994, RMSE:597.90\n"
     ]
    }
   ],
   "source": [
    "for i in [0, 0.01, 0.1, 1, 5, 10, 100]:\n",
    "    X_train = prepare_X(df_train)\n",
    "    w0, w = linear_regression_regularized(X_train, y_train, r=i)\n",
    "    \n",
    "    X_val = prepare_X(df_val)\n",
    "    y_pred = w0 + X_val.dot(w)\n",
    "    score = rmse(y_val, y_pred)\n",
    "    \n",
    "    print(f\"regularization:{i}, bias:{w0}, RMSE:{score:.2f}\")"
   ]
  },
  {
   "cell_type": "markdown",
   "id": "4a93875b-3cb5-465c-b61b-297bff7982f7",
   "metadata": {},
   "source": [
    "## RMSE spread"
   ]
  },
  {
   "cell_type": "code",
   "execution_count": 25,
   "id": "5e56ba9d-df6c-40bd-b489-9c32ecdb29e9",
   "metadata": {},
   "outputs": [
    {
     "name": "stdout",
     "output_type": "stream",
     "text": [
      "Seed: 0, Bias: 547.5696, RMSE: 565.45\n",
      "Seed: 1, Bias: 594.4197, RMSE: 636.80\n",
      "Seed: 2, Bias: 649.4685, RMSE: 588.96\n",
      "Seed: 3, Bias: 571.9459, RMSE: 597.81\n",
      "Seed: 4, Bias: 629.3882, RMSE: 571.96\n",
      "Seed: 5, Bias: 580.7647, RMSE: 573.24\n",
      "Seed: 6, Bias: 783.7684, RMSE: 647.34\n",
      "Seed: 7, Bias: 376.4359, RMSE: 550.44\n",
      "Seed: 8, Bias: 572.8852, RMSE: 587.33\n",
      "Seed: 9, Bias: 663.3793, RMSE: 576.10\n",
      "\n",
      "Average RMSE over 10 seeds: 589.54\n"
     ]
    }
   ],
   "source": [
    "rmse_scores = []\n",
    "\n",
    "# Define the list of random seeds for reproducibility\n",
    "seeds = list(range(10))\n",
    "\n",
    "# Iterate over each seed to perform data shuffling and model evaluation\n",
    "for seed in seeds:\n",
    "    np.random.seed(seed)  # Set seed for reproducibility\n",
    "    \n",
    "    # Generate and shuffle indices\n",
    "    indices = np.arange(n)\n",
    "    np.random.shuffle(indices)\n",
    "    \n",
    "    # Split the dataset into training, validation, and test sets based on shuffled indices\n",
    "    df_train = df_new.iloc[indices[:n_train]].reset_index(drop=True)\n",
    "    df_val = df_new.iloc[indices[n_train:n_train + n_val]].reset_index(drop=True)\n",
    "    df_test = df_new.iloc[indices[n_train + n_val:]].reset_index(drop=True)\n",
    "    \n",
    "    # Extract the target variable 'final_price' for training and validation sets\n",
    "    y_train = df_train['final_price'].values\n",
    "    y_val = df_val['final_price'].values\n",
    "    \n",
    "    # Remove the target variable from feature sets\n",
    "    X_train_df = df_train.drop('final_price', axis=1)\n",
    "    X_val_df = df_val.drop('final_price', axis=1)\n",
    "    \n",
    "    # Prepare the feature matrices\n",
    "    X_train = prepare_X(X_train_df)\n",
    "    X_val = prepare_X(X_val_df)\n",
    "    \n",
    "    # Train the linear regression model\n",
    "    w0, w = train_linear_regression(X_train, y_train)\n",
    "    \n",
    "    # Make predictions on the validation set\n",
    "    y_pred = w0 + X_val.dot(w)\n",
    "    \n",
    "    # Calculate RMSE for the validation set\n",
    "    rmse_val = rmse(y_val, y_pred)\n",
    "    rmse_scores.append(rmse_val)  # Store the RMSE score\n",
    "\n",
    "    # Optional: Print the RMSE for the current seed\n",
    "    print(f\"Seed: {seed}, Bias: {w0:.4f}, RMSE: {rmse_val:.2f}\")\n",
    "\n",
    "# Optional: Display the average RMSE across all seeds\n",
    "average_rmse = np.mean(rmse_scores)\n",
    "print(f\"\\nAverage RMSE over {len(seeds)} seeds: {average_rmse:.2f}\")\n"
   ]
  },
  {
   "cell_type": "markdown",
   "id": "158decc7-6406-42b4-97ec-e1b69e3e329e",
   "metadata": {},
   "source": [
    "## RMSE on Test"
   ]
  },
  {
   "cell_type": "code",
   "execution_count": 26,
   "id": "3e7f8f5b-85c1-4280-80c2-9318bb2baec4",
   "metadata": {},
   "outputs": [
    {
     "name": "stdout",
     "output_type": "stream",
     "text": [
      "Test RMSE: 608.61\n"
     ]
    }
   ],
   "source": [
    "# Set random seed for reproducibility\n",
    "np.random.seed(9)\n",
    "\n",
    "# Shuffle the indices\n",
    "idx = np.arange(n)\n",
    "np.random.shuffle(idx)\n",
    "\n",
    "# Split the dataset into training, validation, and test sets\n",
    "df_train = df_new.iloc[idx[:n_train]].reset_index(drop=True)\n",
    "df_val = df_new.iloc[idx[n_train:n_train+n_val]].reset_index(drop=True)\n",
    "df_test = df_new.iloc[idx[n_train+n_val:]].reset_index(drop=True)\n",
    "\n",
    "# Concatenate training and validation sets into one final training set\n",
    "final_df = pd.concat([df_train, df_val]).reset_index(drop=True)\n",
    "\n",
    "# Extract the target variable for the final training and test sets\n",
    "y_final = final_df['final_price']\n",
    "y_test = df_test['final_price'].values\n",
    "\n",
    "# Remove 'final_price' from the feature sets\n",
    "train_df = final_df.drop('final_price', axis=1)\n",
    "test_df = df_test.drop('final_price', axis=1)\n",
    "\n",
    "# Prepare the feature matrices for training and test sets\n",
    "X_train = prepare_X(train_df)\n",
    "X_test = prepare_X(test_df)\n",
    "\n",
    "# Train the regularized linear regression model\n",
    "w0, w = linear_regression_regularized(X_train, y_final, r=0.001)\n",
    "\n",
    "# Make predictions on the test set\n",
    "y_pred = w0 + X_test.dot(w)\n",
    "\n",
    "# Calculate and print the RMSE for the test set\n",
    "rmse_val = round(rmse(y_test, y_pred), 2)\n",
    "print(f\"Test RMSE: {rmse_val}\")\n"
   ]
  },
  {
   "cell_type": "markdown",
   "id": "d08e0840-28f0-4dd2-9c72-a49ec28bdf1d",
   "metadata": {},
   "source": [
    "## [EDA] Test 2"
   ]
  },
  {
   "cell_type": "code",
   "execution_count": 62,
   "id": "a867c93e-510a-4371-9c76-9f7307b8864e",
   "metadata": {},
   "outputs": [],
   "source": [
    "from matplotlib import pyplot as plt\n",
    "%matplotlib inline\n",
    "import matplotlib.pyplot as plt"
   ]
  },
  {
   "cell_type": "markdown",
   "id": "1de32e00-47fa-4b79-b861-63957517a7e1",
   "metadata": {},
   "source": [
    "## Preparing the dataset"
   ]
  },
  {
   "cell_type": "code",
   "execution_count": 28,
   "id": "e0c29090-4fac-4027-ba59-d71939952a11",
   "metadata": {},
   "outputs": [
    {
     "data": {
      "text/plain": [
       "2160"
      ]
     },
     "execution_count": 28,
     "metadata": {},
     "output_type": "execute_result"
    }
   ],
   "source": [
    "df = pd.read_csv('laptops.csv')\n",
    "len(df)"
   ]
  },
  {
   "cell_type": "code",
   "execution_count": 29,
   "id": "edd245f5-7987-48ea-b953-0dfba306ab89",
   "metadata": {},
   "outputs": [
    {
     "data": {
      "text/html": [
       "<div>\n",
       "<style scoped>\n",
       "    .dataframe tbody tr th:only-of-type {\n",
       "        vertical-align: middle;\n",
       "    }\n",
       "\n",
       "    .dataframe tbody tr th {\n",
       "        vertical-align: top;\n",
       "    }\n",
       "\n",
       "    .dataframe thead th {\n",
       "        text-align: right;\n",
       "    }\n",
       "</style>\n",
       "<table border=\"1\" class=\"dataframe\">\n",
       "  <thead>\n",
       "    <tr style=\"text-align: right;\">\n",
       "      <th></th>\n",
       "      <th>Laptop</th>\n",
       "      <th>Status</th>\n",
       "      <th>Brand</th>\n",
       "      <th>Model</th>\n",
       "      <th>CPU</th>\n",
       "      <th>RAM</th>\n",
       "      <th>Storage</th>\n",
       "      <th>Storage type</th>\n",
       "      <th>GPU</th>\n",
       "      <th>Screen</th>\n",
       "      <th>Touch</th>\n",
       "      <th>Final Price</th>\n",
       "    </tr>\n",
       "  </thead>\n",
       "  <tbody>\n",
       "    <tr>\n",
       "      <th>0</th>\n",
       "      <td>ASUS ExpertBook B1 B1502CBA-EJ0436X Intel Core...</td>\n",
       "      <td>New</td>\n",
       "      <td>Asus</td>\n",
       "      <td>ExpertBook</td>\n",
       "      <td>Intel Core i5</td>\n",
       "      <td>8</td>\n",
       "      <td>512</td>\n",
       "      <td>SSD</td>\n",
       "      <td>NaN</td>\n",
       "      <td>15.6</td>\n",
       "      <td>No</td>\n",
       "      <td>1009.00</td>\n",
       "    </tr>\n",
       "    <tr>\n",
       "      <th>1</th>\n",
       "      <td>Alurin Go Start Intel Celeron N4020/8GB/256GB ...</td>\n",
       "      <td>New</td>\n",
       "      <td>Alurin</td>\n",
       "      <td>Go</td>\n",
       "      <td>Intel Celeron</td>\n",
       "      <td>8</td>\n",
       "      <td>256</td>\n",
       "      <td>SSD</td>\n",
       "      <td>NaN</td>\n",
       "      <td>15.6</td>\n",
       "      <td>No</td>\n",
       "      <td>299.00</td>\n",
       "    </tr>\n",
       "    <tr>\n",
       "      <th>2</th>\n",
       "      <td>ASUS ExpertBook B1 B1502CBA-EJ0424X Intel Core...</td>\n",
       "      <td>New</td>\n",
       "      <td>Asus</td>\n",
       "      <td>ExpertBook</td>\n",
       "      <td>Intel Core i3</td>\n",
       "      <td>8</td>\n",
       "      <td>256</td>\n",
       "      <td>SSD</td>\n",
       "      <td>NaN</td>\n",
       "      <td>15.6</td>\n",
       "      <td>No</td>\n",
       "      <td>789.00</td>\n",
       "    </tr>\n",
       "    <tr>\n",
       "      <th>3</th>\n",
       "      <td>MSI Katana GF66 12UC-082XES Intel Core i7-1270...</td>\n",
       "      <td>New</td>\n",
       "      <td>MSI</td>\n",
       "      <td>Katana</td>\n",
       "      <td>Intel Core i7</td>\n",
       "      <td>16</td>\n",
       "      <td>1000</td>\n",
       "      <td>SSD</td>\n",
       "      <td>RTX 3050</td>\n",
       "      <td>15.6</td>\n",
       "      <td>No</td>\n",
       "      <td>1199.00</td>\n",
       "    </tr>\n",
       "    <tr>\n",
       "      <th>4</th>\n",
       "      <td>HP 15S-FQ5085NS Intel Core i5-1235U/16GB/512GB...</td>\n",
       "      <td>New</td>\n",
       "      <td>HP</td>\n",
       "      <td>15S</td>\n",
       "      <td>Intel Core i5</td>\n",
       "      <td>16</td>\n",
       "      <td>512</td>\n",
       "      <td>SSD</td>\n",
       "      <td>NaN</td>\n",
       "      <td>15.6</td>\n",
       "      <td>No</td>\n",
       "      <td>669.01</td>\n",
       "    </tr>\n",
       "    <tr>\n",
       "      <th>5</th>\n",
       "      <td>MSI Crosshair 17 C12VF-264XES Intel Core i7-12...</td>\n",
       "      <td>New</td>\n",
       "      <td>MSI</td>\n",
       "      <td>Crosshair</td>\n",
       "      <td>Intel Core i7</td>\n",
       "      <td>32</td>\n",
       "      <td>1000</td>\n",
       "      <td>SSD</td>\n",
       "      <td>RTX 4060</td>\n",
       "      <td>17.3</td>\n",
       "      <td>No</td>\n",
       "      <td>1699.00</td>\n",
       "    </tr>\n",
       "    <tr>\n",
       "      <th>6</th>\n",
       "      <td>Lenovo Thinkpad E14 Gen 4 AMD Ryzen 5 5625U/8G...</td>\n",
       "      <td>New</td>\n",
       "      <td>Lenovo</td>\n",
       "      <td>ThinkPad</td>\n",
       "      <td>AMD Ryzen 5</td>\n",
       "      <td>8</td>\n",
       "      <td>256</td>\n",
       "      <td>SSD</td>\n",
       "      <td>NaN</td>\n",
       "      <td>14.0</td>\n",
       "      <td>No</td>\n",
       "      <td>909.00</td>\n",
       "    </tr>\n",
       "    <tr>\n",
       "      <th>7</th>\n",
       "      <td>ASUS VivoBook 15 F515JA-EJ2882W Intel Core i7-...</td>\n",
       "      <td>New</td>\n",
       "      <td>Asus</td>\n",
       "      <td>VivoBook</td>\n",
       "      <td>Intel Core i7</td>\n",
       "      <td>8</td>\n",
       "      <td>512</td>\n",
       "      <td>SSD</td>\n",
       "      <td>NaN</td>\n",
       "      <td>15.6</td>\n",
       "      <td>No</td>\n",
       "      <td>809.01</td>\n",
       "    </tr>\n",
       "    <tr>\n",
       "      <th>8</th>\n",
       "      <td>Medion Akoya E15415 Intel Core i5-10210U/8GB/2...</td>\n",
       "      <td>New</td>\n",
       "      <td>Medion</td>\n",
       "      <td>Akoya</td>\n",
       "      <td>Intel Core i5</td>\n",
       "      <td>8</td>\n",
       "      <td>256</td>\n",
       "      <td>SSD</td>\n",
       "      <td>NaN</td>\n",
       "      <td>15.6</td>\n",
       "      <td>No</td>\n",
       "      <td>519.00</td>\n",
       "    </tr>\n",
       "    <tr>\n",
       "      <th>9</th>\n",
       "      <td>HP Victus 16-d1038ns Intel Core i7-12700H/16GB...</td>\n",
       "      <td>New</td>\n",
       "      <td>HP</td>\n",
       "      <td>Victus</td>\n",
       "      <td>Intel Core i7</td>\n",
       "      <td>16</td>\n",
       "      <td>512</td>\n",
       "      <td>SSD</td>\n",
       "      <td>RTX 3050</td>\n",
       "      <td>16.1</td>\n",
       "      <td>No</td>\n",
       "      <td>1149.00</td>\n",
       "    </tr>\n",
       "  </tbody>\n",
       "</table>\n",
       "</div>"
      ],
      "text/plain": [
       "                                              Laptop Status   Brand  \\\n",
       "0  ASUS ExpertBook B1 B1502CBA-EJ0436X Intel Core...    New    Asus   \n",
       "1  Alurin Go Start Intel Celeron N4020/8GB/256GB ...    New  Alurin   \n",
       "2  ASUS ExpertBook B1 B1502CBA-EJ0424X Intel Core...    New    Asus   \n",
       "3  MSI Katana GF66 12UC-082XES Intel Core i7-1270...    New     MSI   \n",
       "4  HP 15S-FQ5085NS Intel Core i5-1235U/16GB/512GB...    New      HP   \n",
       "5  MSI Crosshair 17 C12VF-264XES Intel Core i7-12...    New     MSI   \n",
       "6  Lenovo Thinkpad E14 Gen 4 AMD Ryzen 5 5625U/8G...    New  Lenovo   \n",
       "7  ASUS VivoBook 15 F515JA-EJ2882W Intel Core i7-...    New    Asus   \n",
       "8  Medion Akoya E15415 Intel Core i5-10210U/8GB/2...    New  Medion   \n",
       "9  HP Victus 16-d1038ns Intel Core i7-12700H/16GB...    New      HP   \n",
       "\n",
       "        Model            CPU  RAM  Storage Storage type       GPU  Screen  \\\n",
       "0  ExpertBook  Intel Core i5    8      512          SSD       NaN    15.6   \n",
       "1          Go  Intel Celeron    8      256          SSD       NaN    15.6   \n",
       "2  ExpertBook  Intel Core i3    8      256          SSD       NaN    15.6   \n",
       "3      Katana  Intel Core i7   16     1000          SSD  RTX 3050    15.6   \n",
       "4         15S  Intel Core i5   16      512          SSD       NaN    15.6   \n",
       "5   Crosshair  Intel Core i7   32     1000          SSD  RTX 4060    17.3   \n",
       "6    ThinkPad    AMD Ryzen 5    8      256          SSD       NaN    14.0   \n",
       "7    VivoBook  Intel Core i7    8      512          SSD       NaN    15.6   \n",
       "8       Akoya  Intel Core i5    8      256          SSD       NaN    15.6   \n",
       "9      Victus  Intel Core i7   16      512          SSD  RTX 3050    16.1   \n",
       "\n",
       "  Touch  Final Price  \n",
       "0    No      1009.00  \n",
       "1    No       299.00  \n",
       "2    No       789.00  \n",
       "3    No      1199.00  \n",
       "4    No       669.01  \n",
       "5    No      1699.00  \n",
       "6    No       909.00  \n",
       "7    No       809.01  \n",
       "8    No       519.00  \n",
       "9    No      1149.00  "
      ]
     },
     "execution_count": 29,
     "metadata": {},
     "output_type": "execute_result"
    }
   ],
   "source": [
    "df.head(10)"
   ]
  },
  {
   "cell_type": "code",
   "execution_count": 30,
   "id": "dfae9001-b931-44a2-9172-7bcf20d89bbe",
   "metadata": {},
   "outputs": [
    {
     "data": {
      "text/plain": [
       "Index(['laptop', 'status', 'brand', 'model', 'cpu', 'ram', 'storage',\n",
       "       'storage_type', 'gpu', 'screen', 'touch', 'final_price'],\n",
       "      dtype='object')"
      ]
     },
     "execution_count": 30,
     "metadata": {},
     "output_type": "execute_result"
    }
   ],
   "source": [
    "df.columns = df.columns.str.lower().str.replace(' ', '_')\n",
    "df.columns"
   ]
  },
  {
   "cell_type": "code",
   "execution_count": 31,
   "id": "3a44f5e8-4742-49d9-9346-be4fde76bc6e",
   "metadata": {},
   "outputs": [
    {
     "data": {
      "text/html": [
       "<div>\n",
       "<style scoped>\n",
       "    .dataframe tbody tr th:only-of-type {\n",
       "        vertical-align: middle;\n",
       "    }\n",
       "\n",
       "    .dataframe tbody tr th {\n",
       "        vertical-align: top;\n",
       "    }\n",
       "\n",
       "    .dataframe thead th {\n",
       "        text-align: right;\n",
       "    }\n",
       "</style>\n",
       "<table border=\"1\" class=\"dataframe\">\n",
       "  <thead>\n",
       "    <tr style=\"text-align: right;\">\n",
       "      <th></th>\n",
       "      <th>ram</th>\n",
       "      <th>storage</th>\n",
       "      <th>screen</th>\n",
       "      <th>final_price</th>\n",
       "    </tr>\n",
       "  </thead>\n",
       "  <tbody>\n",
       "    <tr>\n",
       "      <th>0</th>\n",
       "      <td>8</td>\n",
       "      <td>512</td>\n",
       "      <td>15.6</td>\n",
       "      <td>1009.00</td>\n",
       "    </tr>\n",
       "    <tr>\n",
       "      <th>1</th>\n",
       "      <td>8</td>\n",
       "      <td>256</td>\n",
       "      <td>15.6</td>\n",
       "      <td>299.00</td>\n",
       "    </tr>\n",
       "    <tr>\n",
       "      <th>2</th>\n",
       "      <td>8</td>\n",
       "      <td>256</td>\n",
       "      <td>15.6</td>\n",
       "      <td>789.00</td>\n",
       "    </tr>\n",
       "    <tr>\n",
       "      <th>3</th>\n",
       "      <td>16</td>\n",
       "      <td>1000</td>\n",
       "      <td>15.6</td>\n",
       "      <td>1199.00</td>\n",
       "    </tr>\n",
       "    <tr>\n",
       "      <th>4</th>\n",
       "      <td>16</td>\n",
       "      <td>512</td>\n",
       "      <td>15.6</td>\n",
       "      <td>669.01</td>\n",
       "    </tr>\n",
       "    <tr>\n",
       "      <th>5</th>\n",
       "      <td>32</td>\n",
       "      <td>1000</td>\n",
       "      <td>17.3</td>\n",
       "      <td>1699.00</td>\n",
       "    </tr>\n",
       "    <tr>\n",
       "      <th>6</th>\n",
       "      <td>8</td>\n",
       "      <td>256</td>\n",
       "      <td>14.0</td>\n",
       "      <td>909.00</td>\n",
       "    </tr>\n",
       "    <tr>\n",
       "      <th>7</th>\n",
       "      <td>8</td>\n",
       "      <td>512</td>\n",
       "      <td>15.6</td>\n",
       "      <td>809.01</td>\n",
       "    </tr>\n",
       "    <tr>\n",
       "      <th>8</th>\n",
       "      <td>8</td>\n",
       "      <td>256</td>\n",
       "      <td>15.6</td>\n",
       "      <td>519.00</td>\n",
       "    </tr>\n",
       "    <tr>\n",
       "      <th>9</th>\n",
       "      <td>16</td>\n",
       "      <td>512</td>\n",
       "      <td>16.1</td>\n",
       "      <td>1149.00</td>\n",
       "    </tr>\n",
       "  </tbody>\n",
       "</table>\n",
       "</div>"
      ],
      "text/plain": [
       "   ram  storage  screen  final_price\n",
       "0    8      512    15.6      1009.00\n",
       "1    8      256    15.6       299.00\n",
       "2    8      256    15.6       789.00\n",
       "3   16     1000    15.6      1199.00\n",
       "4   16      512    15.6       669.01\n",
       "5   32     1000    17.3      1699.00\n",
       "6    8      256    14.0       909.00\n",
       "7    8      512    15.6       809.01\n",
       "8    8      256    15.6       519.00\n",
       "9   16      512    16.1      1149.00"
      ]
     },
     "execution_count": 31,
     "metadata": {},
     "output_type": "execute_result"
    }
   ],
   "source": [
    "df_redux = df[['ram', 'storage', 'screen', 'final_price']]\n",
    "df_redux.head(10)"
   ]
  },
  {
   "cell_type": "markdown",
   "id": "6a0f4df0-157e-4513-9ad0-b69e2f40d625",
   "metadata": {},
   "source": [
    "## EDA"
   ]
  },
  {
   "cell_type": "code",
   "execution_count": 32,
   "id": "bb2422e9-0663-4cd0-96cd-6df9989ed600",
   "metadata": {},
   "outputs": [
    {
     "data": {
      "image/png": "[encoded data removed]",
      "text/plain": [
       "<Figure size 600x400 with 1 Axes>"
      ]
     },
     "metadata": {},
     "output_type": "display_data"
    }
   ],
   "source": [
    "# Plot the distribution of 'final_price' with pink color\n",
    "plt.figure(figsize=(6, 4))\n",
    "\n",
    "# Create a histogram with 40 bins and set the color to pink\n",
    "sns.histplot(df_redux['final_price'], bins=40, color='pink')\n",
    "\n",
    "# Set the axis labels and title\n",
    "plt.ylabel('Frequency')\n",
    "plt.xlabel('Price')\n",
    "plt.title('Distribution of Prices')\n",
    "\n",
    "plt.show()"
   ]
  },
  {
   "cell_type": "code",
   "execution_count": 33,
   "id": "defdb912-b48a-4f4b-8a9e-724c0b26a54f",
   "metadata": {},
   "outputs": [
    {
     "data": {
      "image/png": "[encoded data removed]",
      "text/plain": [
       "<Figure size 600x400 with 1 Axes>"
      ]
     },
     "metadata": {},
     "output_type": "display_data"
    }
   ],
   "source": [
    "# Plot the distribution of 'final_price' with values less than 4000\n",
    "plt.figure(figsize=(6, 4))\n",
    "\n",
    "# Create a histogram for prices below 4000 with 40 bins\n",
    "sns.histplot(df_redux['final_price'][df_redux['final_price'] < 4000], bins=40)\n",
    "\n",
    "# Set the axis labels and title\n",
    "plt.ylabel('Frequency')\n",
    "plt.xlabel('Price')\n",
    "plt.title('Distribution of Prices (Below 4000)')\n",
    "\n",
    "plt.show()"
   ]
  },
  {
   "cell_type": "code",
   "execution_count": 34,
   "id": "ca212c1a-f0d8-4158-9811-f82e6f6dea16",
   "metadata": {},
   "outputs": [
    {
     "data": {
      "image/png": "[encoded data removed]",
      "text/plain": [
       "<Figure size 600x400 with 1 Axes>"
      ]
     },
     "metadata": {},
     "output_type": "display_data"
    }
   ],
   "source": [
    "# Apply log transformation to 'final_price'\n",
    "log_price = np.log1p(df_redux['final_price'])\n",
    "\n",
    "# Plot the distribution of log-transformed prices\n",
    "plt.figure(figsize=(6, 4))\n",
    "\n",
    "# Create a histogram with 40 bins and set the color to green\n",
    "sns.histplot(log_price, bins=40, color='green')\n",
    "\n",
    "# Set the axis labels\n",
    "plt.ylabel('Frequency')\n",
    "plt.xlabel('Log(Price + 1)')\n",
    "plt.title('Distribution of Prices After Log Transformation')\n",
    "\n",
    "plt.show()"
   ]
  },
  {
   "cell_type": "code",
   "execution_count": 35,
   "id": "5bbc480f-0002-4e3e-8ed4-0b81918d3fb3",
   "metadata": {},
   "outputs": [
    {
     "data": {
      "image/png": "[encoded data removed]",
      "text/plain": [
       "<Figure size 600x400 with 1 Axes>"
      ]
     },
     "metadata": {},
     "output_type": "display_data"
    }
   ],
   "source": [
    "# Plot the boxplot of log-transformed prices\n",
    "plt.figure(figsize=(6, 4))\n",
    "sns.boxplot(x=log_price, color='lightblue')\n",
    "plt.xlabel('Log(Price + 1)')\n",
    "plt.title('Boxplot of Log-Transformed Prices')\n",
    "plt.show()"
   ]
  },
  {
   "cell_type": "code",
   "execution_count": 36,
   "id": "571950bc-6754-418b-9e85-5360fc121e6d",
   "metadata": {},
   "outputs": [
    {
     "data": {
      "image/png": "[encoded data removed]",
      "text/plain": [
       "<Figure size 600x400 with 1 Axes>"
      ]
     },
     "metadata": {},
     "output_type": "display_data"
    }
   ],
   "source": [
    "# Plot the violin plot of log-transformed prices\n",
    "plt.figure(figsize=(6, 4))\n",
    "sns.violinplot(x=log_price, color='purple')\n",
    "plt.xlabel('Log(Price + 1)')\n",
    "plt.title('Violin Plot of Log-Transformed Prices')\n",
    "plt.show()\n"
   ]
  },
  {
   "cell_type": "markdown",
   "id": "e1b39b06-ffd3-4e98-b8e8-36ecbfbf3df7",
   "metadata": {},
   "source": [
    "### 1. Missing values"
   ]
  },
  {
   "cell_type": "code",
   "execution_count": 37,
   "id": "163eae30-7465-4c27-af1e-33068b7063c2",
   "metadata": {},
   "outputs": [
    {
     "data": {
      "text/plain": [
       "ram            0\n",
       "storage        0\n",
       "screen         4\n",
       "final_price    0\n",
       "dtype: int64"
      ]
     },
     "execution_count": 37,
     "metadata": {},
     "output_type": "execute_result"
    }
   ],
   "source": [
    "df_redux.isna().sum()"
   ]
  },
  {
   "cell_type": "markdown",
   "id": "deaf2584-d10c-4341-9943-087e3fd7d64e",
   "metadata": {},
   "source": [
    "### 2. Median for RAM"
   ]
  },
  {
   "cell_type": "code",
   "execution_count": 38,
   "id": "48ad400b-f168-44a2-ac95-2fdea8a9b275",
   "metadata": {},
   "outputs": [
    {
     "name": "stdout",
     "output_type": "stream",
     "text": [
      "16.0\n"
     ]
    }
   ],
   "source": [
    "print(df_redux['ram'].median())"
   ]
  },
  {
   "cell_type": "markdown",
   "id": "28761294-2c0e-4441-a82c-b8a559827fab",
   "metadata": {},
   "source": [
    "## Prepare and split the dataset"
   ]
  },
  {
   "cell_type": "code",
   "execution_count": 39,
   "id": "9dc996fc-2199-4bf3-afb6-61643b563ad0",
   "metadata": {},
   "outputs": [],
   "source": [
    "n = len(df_redux)\n",
    "\n",
    "n_val = int(0.2 * n)\n",
    "n_test = int(0.2 * n)\n",
    "n_train = n - (n_val + n_test)"
   ]
  },
  {
   "cell_type": "code",
   "execution_count": 41,
   "id": "c63fef20-b006-4d38-a86e-05cdeba663ea",
   "metadata": {},
   "outputs": [
    {
     "name": "stdout",
     "output_type": "stream",
     "text": [
      "Validation RMSE: 576.10179\n"
     ]
    }
   ],
   "source": [
    "def extract_features_and_target(df, target_column='final_price'):\n",
    "    # Check if the target column exists in the dataframe\n",
    "    if target_column in df.columns:\n",
    "        # Separate features (X) and target (y)\n",
    "        X = df.drop(columns=[target_column])\n",
    "        y = df[target_column]\n",
    "        return X, y\n",
    "    else:\n",
    "        # Print a warning if the target column is not found and return None\n",
    "        print(f\"Warning: Column '{target_column}' not found in dataframe. Skipping this dataset.\")\n",
    "        return None, None\n",
    "\n",
    "def ensure_dataframe(data):\n",
    "    # Ensure that the input data is a pandas DataFrame\n",
    "    return data if isinstance(data, pd.DataFrame) else pd.DataFrame(data)\n",
    "\n",
    "def train_and_evaluate(df_train, df_val, prepare_fn, train_fn, eval_fn):\n",
    "    # Extracting features and targets from training and validation data\n",
    "    X_train, y_train = extract_features_and_target(df_train)\n",
    "    X_val, y_val = extract_features_and_target(df_val)\n",
    "\n",
    "    # Check if extraction was successful\n",
    "    if X_train is None or y_train is None or X_val is None or y_val is None:\n",
    "        print(\"Error: Unable to proceed due to missing target column.\")\n",
    "        return\n",
    "\n",
    "    # Ensuring that the extracted features are in DataFrame format\n",
    "    X_train = ensure_dataframe(X_train)\n",
    "    X_val = ensure_dataframe(X_val)\n",
    "\n",
    "    # Preparing the data using the provided preparation function\n",
    "    X_train_prepared = prepare_fn(X_train)\n",
    "    X_val_prepared = prepare_fn(X_val)\n",
    "\n",
    "    # Training the model using the provided training function\n",
    "    w0, w = train_fn(X_train_prepared, y_train)\n",
    "\n",
    "    # Making predictions on the validation set\n",
    "    y_pred = w0 + X_val_prepared.dot(w)\n",
    "\n",
    "    # Evaluating the model using the provided evaluation function\n",
    "    rmse_val = round(eval_fn(y_val, y_pred), 5)\n",
    "    print(f\"Validation RMSE: {rmse_val}\")\n",
    "\n",
    "train_and_evaluate(df_train, df_val, prepare_X, train_linear_regression, rmse)"
   ]
  },
  {
   "cell_type": "code",
   "execution_count": 42,
   "id": "a6b2852d-6416-4de4-9169-ca1a8edcc709",
   "metadata": {},
   "outputs": [],
   "source": [
    " df_train, y_train, df_val, y_val, df_test, y_test = prepare_datasets(42)"
   ]
  },
  {
   "cell_type": "code",
   "execution_count": 43,
   "id": "2e1c98b0-b77b-42ef-823b-1222cc3d3772",
   "metadata": {},
   "outputs": [
    {
     "data": {
      "text/plain": [
       "(1296, 432, 432)"
      ]
     },
     "execution_count": 43,
     "metadata": {},
     "output_type": "execute_result"
    }
   ],
   "source": [
    "len(df_train), len(df_val), len(df_test)"
   ]
  },
  {
   "cell_type": "markdown",
   "id": "bccc5963-ecd5-4730-85f1-ad2bbfb1ad41",
   "metadata": {},
   "source": [
    "### 3. Filling NAs"
   ]
  },
  {
   "cell_type": "code",
   "execution_count": 44,
   "id": "d8fd1ec0-bfa9-4038-bb24-6477d8c5469a",
   "metadata": {},
   "outputs": [],
   "source": [
    "def train_linear_regression(X, y):\n",
    "    ones = np.ones(X.shape[0])\n",
    "    X = np.column_stack([ones, X])\n",
    "\n",
    "    XTX = X.T.dot(X)\n",
    "    XTX_inv = np.linalg.inv(XTX)\n",
    "    w = XTX_inv.dot(X.T).dot(y)\n",
    "    \n",
    "    return w[0], w[1:]"
   ]
  },
  {
   "cell_type": "code",
   "execution_count": 45,
   "id": "e5ee8215-0ebe-4906-8764-bfac1ee44c10",
   "metadata": {},
   "outputs": [],
   "source": [
    "def rmse(y, y_pred):\n",
    "    se = (y - y_pred) ** 2\n",
    "    mse = se.mean()\n",
    "    rmse = np.sqrt(mse)\n",
    "    score = rmse.round(2)\n",
    "    return score"
   ]
  },
  {
   "cell_type": "markdown",
   "id": "84bac2ad-22c8-49de-9ba0-58a57cf12d4c",
   "metadata": {},
   "source": [
    "### Option 1. Fill 'screen' missing values with 0"
   ]
  },
  {
   "cell_type": "code",
   "execution_count": 47,
   "id": "5f06d178-119b-4abf-926b-9703d03d7031",
   "metadata": {},
   "outputs": [
    {
     "name": "stdout",
     "output_type": "stream",
     "text": [
      "597.36\n"
     ]
    }
   ],
   "source": [
    "# Create a copy of the training DataFrame\n",
    "df1_train = df_train.copy()\n",
    "# Fill missing values with 0 and convert the DataFrame to a NumPy array\n",
    "X1_train = df1_train.fillna(0).values\n",
    "w0, w = train_linear_regression(X1_train, y_train)\n",
    "\n",
    "df1_val = df_val.copy()\n",
    "\n",
    "# Fill missing values with 0 and convert the DataFrame to a NumPy array\n",
    "X1_val = df1_val.fillna(0).values\n",
    "\n",
    "# Generate predictions for the validation data using the learned weights\n",
    "y_pred = w0 + X1_val.dot(w)\n",
    "\n",
    "# Calculate and print the root mean squared error (RMSE) for validation data\n",
    "print(rmse(y_val, y_pred))"
   ]
  },
  {
   "cell_type": "markdown",
   "id": "1f95bda2-9a20-49c7-84dc-88c2145ac2bd",
   "metadata": {},
   "source": [
    "### Option 2: Fill 'screen' missing values with the mean from df_train"
   ]
  },
  {
   "cell_type": "code",
   "execution_count": 48,
   "id": "d71b3886-2f99-45f6-933f-9ea03277cbe3",
   "metadata": {},
   "outputs": [
    {
     "name": "stdout",
     "output_type": "stream",
     "text": [
      "600.27\n"
     ]
    }
   ],
   "source": [
    "# Create a copy of the training DataFrame\n",
    "df2_train = df_train.copy()\n",
    "\n",
    "# Fill missing values with the mean of the 'screen' column and convert to a NumPy array\n",
    "X2_train = df2_train.fillna(df_train['screen'].mean()).values\n",
    "w0, w = train_linear_regression(X2_train, y_train)\n",
    "\n",
    "df2_val = df_val.copy()\n",
    "X2_val = df2_val.fillna(df_train['screen'].mean()).values\n",
    "\n",
    "y_pred = w0 + X2_val.dot(w)\n",
    "# Calculate and print the root mean squared error (RMSE) for validation data\n",
    "print(rmse(y_val, y_pred))"
   ]
  },
  {
   "cell_type": "markdown",
   "id": "6f85bd2f-2ba6-4cfe-825f-fc23e968ca1f",
   "metadata": {},
   "source": [
    "###  4. Regularization"
   ]
  },
  {
   "cell_type": "code",
   "execution_count": 50,
   "id": "80931aeb-a651-4070-ba4b-0eff98f02a70",
   "metadata": {},
   "outputs": [],
   "source": [
    "# Add a column of ones to X for the intercept term (bias)\n",
    "def train_linear_regression_reg(X, y, r):\n",
    "    ones = np.ones(X.shape[0])\n",
    "    X = np.column_stack([ones, X])\n",
    "\n",
    "    XTX = X.T.dot(X)\n",
    "    XTX = XTX + r * np.eye(XTX.shape[0])\n",
    "\n",
    "    XTX_inv = np.linalg.inv(XTX)\n",
    "    w = XTX_inv.dot(X.T).dot(y)\n",
    "\n",
    "    # Return the intercept and the remaining weights separately\n",
    "    return w[0], w[1:]"
   ]
  },
  {
   "cell_type": "code",
   "execution_count": 52,
   "id": "637a3ef4-e721-4d70-9544-1cb759990a49",
   "metadata": {},
   "outputs": [
    {
     "name": "stdout",
     "output_type": "stream",
     "text": [
      "   0.0 676.8954853003995 597.36\n",
      "  0.01 676.2736817205587 597.36\n",
      "   0.1 670.7284836314063 597.35\n",
      "     1 619.9030834108207 597.21\n",
      "     5 463.7771697142356 597.01\n",
      "    10 352.79713367679835 597.06\n",
      "   100 66.92071440181994 597.9\n"
     ]
    }
   ],
   "source": [
    "for r in [0.0, 0.01, 0.1, 1, 5, 10, 100]:\n",
    "    X_train = df_train.fillna(0).values\n",
    "    # Train a regularized linear regression model with the given r    \n",
    "    w0, w = train_linear_regression_reg(X_train, y_train, r=r)\n",
    "\n",
    "    X_val = df_val.fillna(0).values\n",
    "    y_pred = w0 + X_val.dot(w)\n",
    "    # Calculate the RMSE for the validation data\n",
    "    score = rmse(y_val, y_pred)\n",
    "    \n",
    "    print('%6s' %r, w0, score)"
   ]
  },
  {
   "cell_type": "markdown",
   "id": "d67bf4d5-201a-4c65-92ab-590bf83bb253",
   "metadata": {},
   "source": [
    "### 5. RMSE spread"
   ]
  },
  {
   "cell_type": "code",
   "execution_count": 54,
   "id": "d79cd547-5cb3-4778-b172-c9d142d8b533",
   "metadata": {},
   "outputs": [
    {
     "name": "stdout",
     "output_type": "stream",
     "text": [
      "Standard Deviation of RMSE results: 29.176\n"
     ]
    }
   ],
   "source": [
    "# Define the range of seeds for data splitting and initialization\n",
    "seeds = range(10)\n",
    "results = []\n",
    "\n",
    "for seed in seeds:\n",
    "    df_train, y_train, df_val, y_val, df_test, y_test = prepare_datasets(seed)\n",
    "    df_train.fillna(0, inplace=True)\n",
    "    df_val.fillna(0, inplace=True)\n",
    "    df_test.fillna(0, inplace=True)\n",
    "    X_train = df_train.values\n",
    "    w0, w = train_linear_regression(X_train, y_train)\n",
    "\n",
    "    X_val = df_val.values\n",
    "    y_pred = w0 + X_val.dot(w)\n",
    "\n",
    "    score = rmse(y_val, y_pred)\n",
    "    results.append(score)\n",
    "\n",
    "# Calculate and print the standard deviation of RMSE results across all seeds\n",
    "std_dev = np.std(results).round(3)\n",
    "print(f'Standard Deviation of RMSE results: {std_dev}')"
   ]
  },
  {
   "cell_type": "markdown",
   "id": "4dd6e9ef-f3d9-407c-864e-68b865407796",
   "metadata": {},
   "source": [
    "### 6. RMSE on Test"
   ]
  },
  {
   "cell_type": "code",
   "execution_count": 55,
   "id": "51d48640-e1d2-4a02-927e-556619673b46",
   "metadata": {},
   "outputs": [],
   "source": [
    "df_train, y_train, df_val, y_val, df_test, y_test = prepare_datasets(9)"
   ]
  },
  {
   "cell_type": "code",
   "execution_count": 56,
   "id": "1562fd76-71b7-4a84-b198-d7becae677b1",
   "metadata": {},
   "outputs": [],
   "source": [
    "df_train.fillna(0, inplace=True)\n",
    "df_val.fillna(0, inplace=True)\n",
    "df_test.fillna(0, inplace=True)"
   ]
  },
  {
   "cell_type": "code",
   "execution_count": 57,
   "id": "5763c1d8-ddd2-4284-86fd-e08d60248e39",
   "metadata": {},
   "outputs": [],
   "source": [
    "# Concatenate training and validation datasets into a single DataFrame\n",
    "df_full_train = pd.concat([df_train, df_val])\n",
    "\n",
    "# Reset the index of the concatenated DataFrame to avoid duplicate indices\n",
    "df_full_train = df_full_train.reset_index(drop=True)"
   ]
  },
  {
   "cell_type": "code",
   "execution_count": 58,
   "id": "4cc06fba-9e0e-4273-8e3a-4d7fd84705a1",
   "metadata": {},
   "outputs": [],
   "source": [
    "y_full_train = np.concatenate([y_train, y_val])"
   ]
  },
  {
   "cell_type": "code",
   "execution_count": 59,
   "id": "1548c7ed-dc7a-4a95-8940-e71dd7dfb92e",
   "metadata": {},
   "outputs": [],
   "source": [
    "# Convert the full training DataFrame to a NumPy array\n",
    "X_full_train = df_full_train.values\n",
    "\n",
    "# Train a regularized linear regression model on the full training data with regularization parameter r=0.001\n",
    "w0, w = train_linear_regression_reg(X_full_train, y_full_train, r=0.001)"
   ]
  },
  {
   "cell_type": "code",
   "execution_count": 60,
   "id": "fd6c0adb-ee76-4aa7-93f3-c02f48fe020b",
   "metadata": {},
   "outputs": [],
   "source": [
    "X_test = df_test.values\n",
    "y_pred = w0 + X_test.dot(w)\n",
    "score = rmse(y_test, y_pred)"
   ]
  },
  {
   "cell_type": "code",
   "execution_count": 61,
   "id": "0ea960f7-7e42-47f3-8390-0b6aef68a465",
   "metadata": {},
   "outputs": [
    {
     "name": "stdout",
     "output_type": "stream",
     "text": [
      "608.61\n"
     ]
    }
   ],
   "source": [
    "print(score)"
   ]
  },
  {
   "cell_type": "code",
   "execution_count": 65,
   "id": "ce0ab82d-ff03-44fe-9883-27ef2bfb78b1",
   "metadata": {},
   "outputs": [
    {
     "data": {
      "image/png": "[encoded data removed]",
      "text/plain": [
       "<Figure size 800x600 with 1 Axes>"
      ]
     },
     "metadata": {},
     "output_type": "display_data"
    }
   ],
   "source": [
    "y_test = np.random.rand(100) * 100  # Dummy test values\n",
    "y_pred = y_test + (np.random.randn(100) * 10)  # Predicted values with some noise\n",
    "score = 608.61\n",
    "\n",
    "# Plotting the actual vs predicted values for better analysis\n",
    "plt.figure(figsize=(8, 6))\n",
    "plt.scatter(y_test, y_pred, alpha=0.7)\n",
    "plt.plot([min(y_test), max(y_test)], [min(y_test), max(y_test)], color='red', linestyle='--', label='Perfect prediction')\n",
    "plt.title(f'Actual vs Predicted Values (RMSE: {score:.2f})')\n",
    "plt.xlabel('Actual Values (y_test)')\n",
    "plt.ylabel('Predicted Values (y_pred)')\n",
    "plt.legend()\n",
    "plt.grid(True)\n",
    "\n",
    "plt.show()"
   ]
  }
 ],
 "metadata": {
  "kernelspec": {
   "display_name": "Python 3 (ipykernel)",
   "language": "python",
   "name": "python3"
  },
  "language_info": {
   "codemirror_mode": {
    "name": "ipython",
    "version": 3
   },
   "file_extension": ".py",
   "mimetype": "text/x-python",
   "name": "python",
   "nbconvert_exporter": "python",
   "pygments_lexer": "ipython3",
   "version": "3.12.1"
  }
 },
 "nbformat": 4,
 "nbformat_minor": 5
}
