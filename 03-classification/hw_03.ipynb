{
 "cells": [
  {
   "cell_type": "markdown",
   "id": "62665a30-17ea-477a-a46a-9a9db4b1949a",
   "metadata": {},
   "source": [
    "# Machine Learning for Classification"
   ]
  },
  {
   "cell_type": "markdown",
   "id": "4b1ca8ad-234e-4963-968d-1557f45cc1d1",
   "metadata": {},
   "source": [
    "## Churn Prediction"
   ]
  },
  {
   "cell_type": "markdown",
   "id": "ecbd3f84-329e-4caf-977b-86ee2c6b7695",
   "metadata": {},
   "source": [
    "### Data Preparation"
   ]
  },
  {
   "cell_type": "markdown",
   "id": "da3a2ac9-ea08-4884-8e98-a7f345d669aa",
   "metadata": {},
   "source": [
    "- Download the data, read it with pandas\n",
    "- Look at the data\n",
    "- Make column names and values look uniform\n",
    "- Check if all the columns read correctly\n",
    "- Check if the churn variable needs any preparation"
   ]
  }
 ],
 "metadata": {
  "kernelspec": {
   "display_name": "Python 3 (ipykernel)",
   "language": "python",
   "name": "python3"
  },
  "language_info": {
   "codemirror_mode": {
    "name": "ipython",
    "version": 3
   },
   "file_extension": ".py",
   "mimetype": "text/x-python",
   "name": "python",
   "nbconvert_exporter": "python",
   "pygments_lexer": "ipython3",
   "version": "3.12.1"
  }
 },
 "nbformat": 4,
 "nbformat_minor": 5
}
