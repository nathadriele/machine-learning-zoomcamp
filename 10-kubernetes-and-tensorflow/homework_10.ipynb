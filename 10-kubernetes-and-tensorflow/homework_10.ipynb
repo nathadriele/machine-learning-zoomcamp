{
 "cells": [
  {
   "cell_type": "markdown",
   "metadata": {},
   "source": [
    "### Kubernetes and TensorFlow Serving for Machine Learning Zoomcamp"
   ]
  },
  {
   "cell_type": "markdown",
   "metadata": {},
   "source": [
    "This notebook demonstrates a workflow for:\n",
    "\n",
    "1. Building a Docker image of a model.\n",
    "2. Testing the model locally within a container.\n",
    "3. Creating and managing a local Kubernetes cluster using Kind.\n",
    "4. Deploying the model to the Kubernetes cluster.\n",
    "5. Exposing the model via a Kubernetes Service.\n",
    "6. (Optional) Setting up and observing a Horizontal Pod Autoscaler (HPA)"
   ]
  },
  {
   "cell_type": "markdown",
   "metadata": {},
   "source": [
    "**Prerequisites:**\n",
    "- Docker installed and running\n",
    "- Kubernetes CLI (kubectl) installed\n",
    "- Kind installed\n",
    "- Python 3.11.5 (adjust as needed)"
   ]
  },
  {
   "cell_type": "markdown",
   "metadata": {},
   "source": [
    "### Checking versions"
   ]
  },
  {
   "cell_type": "markdown",
   "metadata": {},
   "source": [
    "!docker --version\n",
    "!kubectl version --client\n",
    "!kind --version"
   ]
  },
  {
   "cell_type": "markdown",
   "metadata": {},
   "source": [
    "### Cloning the Repository"
   ]
  },
  {
   "cell_type": "markdown",
   "metadata": {},
   "source": [
    "We will clone the repository to access the base code and `q6_test.py`."
   ]
  },
  {
   "cell_type": "markdown",
   "metadata": {},
   "source": [
    "!git clone https://github.com/DataTalksClub/machine-learning-zoomcamp.git\n",
    "%cd machine-learning-zoomcamp/cohorts/2024/05-deployment/homework"
   ]
  },
  {
   "cell_type": "markdown",
   "metadata": {},
   "source": [
    "### Building the Docker Image"
   ]
  },
  {
   "cell_type": "markdown",
   "metadata": {},
   "source": [
    "We define environment variables for the image name and tag."
   ]
  },
  {
   "cell_type": "markdown",
   "metadata": {},
   "source": [
    "IMAGE_NAME = \"zoomcamp-model\"\n",
    "IMAGE_TAG = \"3.11.5-hw10\"\n",
    "FULL_IMAGE_NAME = f\"{IMAGE_NAME}:{IMAGE_TAG}\"\n",
    "FULL_IMAGE_NAME"
   ]
  },
  {
   "cell_type": "markdown",
   "metadata": {},
   "source": [
    "### Building the Docker image locally"
   ]
  },
  {
   "cell_type": "markdown",
   "metadata": {},
   "source": [
    "!docker build -t {FULL_IMAGE_NAME} ."
   ]
  },
  {
   "cell_type": "markdown",
   "metadata": {},
   "source": [
    "### Testing the Image Locally"
   ]
  },
  {
   "cell_type": "markdown",
   "metadata": {},
   "source": [
    "We will run the container and use `q6_test.py` to validate the model’s response."
   ]
  },
  {
   "cell_type": "markdown",
   "metadata": {},
   "source": [
    "!docker run -d --name subscription_test -p 9696:9696 {FULL_IMAGE_NAME}"
   ]
  },
  {
   "cell_type": "markdown",
   "metadata": {},
   "source": [
    "!python q6_test.py"
   ]
  },
  {
   "cell_type": "markdown",
   "metadata": {},
   "source": [
    "{'has_subscribed': True, 'has_subscribed_probability': 0.7567...}"
   ]
  },
  {
   "cell_type": "markdown",
   "metadata": {},
   "source": [
    "### Stopping and removing the test container"
   ]
  },
  {
   "cell_type": "markdown",
   "metadata": {},
   "source": [
    "!docker stop subscription_test\n",
    "!docker rm subscription_test"
   ]
  },
  {
   "cell_type": "markdown",
   "metadata": {},
   "source": [
    "### Creating and Testing the Kubernetes Cluster with Kind"
   ]
  },
  {
   "cell_type": "markdown",
   "metadata": {},
   "source": [
    "Now, we will create a local Kubernetes cluster using Kind."
   ]
  },
  {
   "cell_type": "markdown",
   "metadata": {},
   "source": [
    "!kind create cluster"
   ]
  },
  {
   "cell_type": "markdown",
   "metadata": {},
   "source": [
    "!kubectl cluster-info\n",
    "!kubectl get services"
   ]
  },
  {
   "cell_type": "markdown",
   "metadata": {},
   "source": [
    "Expected Output: Check the kubernetes service with type ClusterIP."
   ]
  },
  {
   "cell_type": "markdown",
   "metadata": {},
   "source": [
    "### Loading the Docker Image into the Kind Cluster"
   ]
  },
  {
   "cell_type": "markdown",
   "metadata": {},
   "source": [
    "We need to make the locally built image available inside the Kind cluster."
   ]
  },
  {
   "cell_type": "markdown",
   "metadata": {},
   "source": [
    "!kind load docker-image {FULL_IMAGE_NAME}"
   ]
  },
  {
   "cell_type": "markdown",
   "metadata": {},
   "source": [
    "### Creating the Kubernetes Deployment"
   ]
  },
  {
   "cell_type": "code",
   "execution_count": null,
   "metadata": {
    "vscode": {
     "languageId": "plaintext"
    }
   },
   "outputs": [],
   "source": [
    "%%writefile deployment.yaml\n",
    "apiVersion: apps/v1\n",
    "kind: Deployment\n",
    "metadata:\n",
    "  name: subscription\n",
    "spec:\n",
    "  replicas: 1\n",
    "  selector:\n",
    "    matchLabels:\n",
    "      app: subscription\n",
    "  template:\n",
    "    metadata:\n",
    "      labels:\n",
    "        app: subscription\n",
    "    spec:\n",
    "      containers:\n",
    "      - name: subscription\n",
    "        image: zoomcamp-model:3.11.5-hw10\n",
    "        resources:\n",
    "          requests:\n",
    "            memory: \"64Mi\"\n",
    "            cpu: \"100m\"\n",
    "          limits:\n",
    "            memory: \"128Mi\"\n",
    "            cpu: \"200m\"\n",
    "        ports:\n",
    "        - containerPort: 9696"
   ]
  },
  {
   "cell_type": "markdown",
   "metadata": {},
   "source": [
    "!kubectl apply -f deployment.yaml\n",
    "!kubectl get deployments\n",
    "!kubectl get pods"
   ]
  },
  {
   "cell_type": "markdown",
   "metadata": {},
   "source": [
    "### Creating the Service"
   ]
  },
  {
   "cell_type": "markdown",
   "metadata": {},
   "source": [
    "%%writefile service.yaml\n",
    "apiVersion: v1\n",
    "kind: Service\n",
    "metadata:\n",
    "  name: subscription-service\n",
    "spec:\n",
    "  type: LoadBalancer\n",
    "  selector:\n",
    "    app: subscription\n",
    "  ports:\n",
    "    - port: 80\n",
    "      targetPort: 9696"
   ]
  },
  {
   "cell_type": "markdown",
   "metadata": {},
   "source": [
    "!kubectl apply -f service.yaml\n",
    "!kubectl get services"
   ]
  },
  {
   "cell_type": "markdown",
   "metadata": {},
   "source": [
    "## Testing the Service via Port-Forwarding"
   ]
  },
  {
   "cell_type": "markdown",
   "metadata": {},
   "source": [
    "Since `LoadBalancer` with Kind typically won't have an external IP, we'll use port forwarding:"
   ]
  },
  {
   "cell_type": "markdown",
   "metadata": {},
   "source": [
    "import subprocess, time\n",
    "\n",
    "port_forward_process = subprocess.Popen([\"kubectl\", \"port-forward\", \"service/subscription-service\", \"9696:80\"])\n",
    "time.sleep(5)"
   ]
  },
  {
   "cell_type": "markdown",
   "metadata": {},
   "source": [
    "!python q6_test.py"
   ]
  },
  {
   "cell_type": "code",
   "execution_count": null,
   "metadata": {
    "vscode": {
     "languageId": "plaintext"
    }
   },
   "outputs": [],
   "source": [
    "{'has_subscribed': True, 'has_subscribed_probability': 0.756743795240796}"
   ]
  },
  {
   "cell_type": "markdown",
   "metadata": {},
   "source": [
    "port_forward_process.terminate()"
   ]
  },
  {
   "cell_type": "markdown",
   "metadata": {},
   "source": [
    "### Optional: Autoscaling with Horizontal Pod Autoscaler (HPA)"
   ]
  },
  {
   "cell_type": "markdown",
   "metadata": {},
   "source": [
    "!kubectl apply -f https://github.com/kubernetes-sigs/metrics-server/releases/latest/download/components.yaml"
   ]
  },
  {
   "cell_type": "markdown",
   "metadata": {},
   "source": [
    "!kubectl autoscale deployment subscription --name subscription-hpa --cpu-percent=20 --min=1 --max=3\n",
    "!kubectl get hpa"
   ]
  },
  {
   "cell_type": "markdown",
   "metadata": {},
   "source": [
    "### Generate load and observe scaling"
   ]
  },
  {
   "cell_type": "markdown",
   "metadata": {},
   "source": [
    "# In another terminal/environment:\n",
    "# while True:\n",
    "#     sleep 0.1\n",
    "#     python q6_test.py\n",
    "\n",
    "# kubectl get hpa subscription-hpa --watch"
   ]
  },
  {
   "cell_type": "markdown",
   "metadata": {},
   "source": [
    "### Cleanup"
   ]
  },
  {
   "cell_type": "markdown",
   "metadata": {},
   "source": [
    "Remove the Kind cluster after testing:"
   ]
  },
  {
   "cell_type": "markdown",
   "metadata": {},
   "source": [
    "!kind delete cluster"
   ]
  }
 ],
 "metadata": {
  "language_info": {
   "name": "python"
  }
 },
 "nbformat": 4,
 "nbformat_minor": 2
}
