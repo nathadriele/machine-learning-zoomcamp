{
 "cells": [
  {
   "cell_type": "markdown",
   "id": "13d4192a-400b-4e3d-ade6-901662895ba4",
   "metadata": {},
   "source": [
    "# Hypertension Prediction Project - Midterm Notebook"
   ]
  },
  {
   "cell_type": "markdown",
   "id": "bf038f50-7557-4933-b6a6-5242b5b97516",
   "metadata": {},
   "source": [
    "## 1. Introduction\n",
    "\n",
    "In this notebook, we aim to predict the risk of hypertension for individuals based on various health parameters. Hypertension, also known as high blood pressure, is a condition that significantly increases the risk of heart disease, stroke, and other health problems. The goal of this study is to build a machine learning model that can effectively classify individuals as being at risk for hypertension. We will follow the standard process of data analysis, which includes data preparation, exploratory data analysis (EDA), feature engineering, model training, evaluation, and selection."
   ]
  },
  {
   "cell_type": "markdown",
   "id": "451925ba-fdc4-436c-b535-1b3019383995",
   "metadata": {},
   "source": [
    "## 2. Data Preparation"
   ]
  },
  {
   "cell_type": "code",
   "execution_count": 4,
   "id": "babe7a0e-194f-4e7b-8c35-9ae81079c013",
   "metadata": {},
   "outputs": [
    {
     "name": "stdout",
     "output_type": "stream",
     "text": [
      "NumMedicalVisits,Cholesterol,BloodPressure,PhysicalActivity,SodiumIntake,BMI,HypertensionPedigreeFunction,Age,Outcome\n",
      "6,290,109,125,3361,27.5,0.83,31,0\n",
      "3,286,172,233,4356,32.8,0.14,74,0\n",
      "10,176,170,7,2705,24.1,0.93,74,0\n",
      "7,271,151,128,2185,24.7,2.36,25,1\n",
      "4,154,162,263,3351,35.4,1.6,25,0\n",
      "6,178,115,156,4935,27.8,1.68,44,0\n",
      "9,232,155,4,1687,35.6,1.58,79,1\n",
      "2,285,162,85,3119,36.1,0.5,29,1\n",
      "6,258,162,174,3187,36.9,1.05,18,0\n"
     ]
    },
    {
     "data": {
      "text/html": [
       "<div>\n",
       "<style scoped>\n",
       "    .dataframe tbody tr th:only-of-type {\n",
       "        vertical-align: middle;\n",
       "    }\n",
       "\n",
       "    .dataframe tbody tr th {\n",
       "        vertical-align: top;\n",
       "    }\n",
       "\n",
       "    .dataframe thead th {\n",
       "        text-align: right;\n",
       "    }\n",
       "</style>\n",
       "<table border=\"1\" class=\"dataframe\">\n",
       "  <thead>\n",
       "    <tr style=\"text-align: right;\">\n",
       "      <th></th>\n",
       "      <th>NumMedicalVisits</th>\n",
       "      <th>Cholesterol</th>\n",
       "      <th>BloodPressure</th>\n",
       "      <th>PhysicalActivity</th>\n",
       "      <th>SodiumIntake</th>\n",
       "      <th>BMI</th>\n",
       "      <th>HypertensionPedigreeFunction</th>\n",
       "      <th>Age</th>\n",
       "      <th>Outcome</th>\n",
       "    </tr>\n",
       "  </thead>\n",
       "  <tbody>\n",
       "    <tr>\n",
       "      <th>0</th>\n",
       "      <td>6</td>\n",
       "      <td>290</td>\n",
       "      <td>109</td>\n",
       "      <td>125</td>\n",
       "      <td>3361</td>\n",
       "      <td>27.5</td>\n",
       "      <td>0.83</td>\n",
       "      <td>31</td>\n",
       "      <td>0</td>\n",
       "    </tr>\n",
       "    <tr>\n",
       "      <th>1</th>\n",
       "      <td>3</td>\n",
       "      <td>286</td>\n",
       "      <td>172</td>\n",
       "      <td>233</td>\n",
       "      <td>4356</td>\n",
       "      <td>32.8</td>\n",
       "      <td>0.14</td>\n",
       "      <td>74</td>\n",
       "      <td>0</td>\n",
       "    </tr>\n",
       "    <tr>\n",
       "      <th>2</th>\n",
       "      <td>10</td>\n",
       "      <td>176</td>\n",
       "      <td>170</td>\n",
       "      <td>7</td>\n",
       "      <td>2705</td>\n",
       "      <td>24.1</td>\n",
       "      <td>0.93</td>\n",
       "      <td>74</td>\n",
       "      <td>0</td>\n",
       "    </tr>\n",
       "    <tr>\n",
       "      <th>3</th>\n",
       "      <td>7</td>\n",
       "      <td>271</td>\n",
       "      <td>151</td>\n",
       "      <td>128</td>\n",
       "      <td>2185</td>\n",
       "      <td>24.7</td>\n",
       "      <td>2.36</td>\n",
       "      <td>25</td>\n",
       "      <td>1</td>\n",
       "    </tr>\n",
       "    <tr>\n",
       "      <th>4</th>\n",
       "      <td>4</td>\n",
       "      <td>154</td>\n",
       "      <td>162</td>\n",
       "      <td>263</td>\n",
       "      <td>3351</td>\n",
       "      <td>35.4</td>\n",
       "      <td>1.60</td>\n",
       "      <td>25</td>\n",
       "      <td>0</td>\n",
       "    </tr>\n",
       "    <tr>\n",
       "      <th>5</th>\n",
       "      <td>6</td>\n",
       "      <td>178</td>\n",
       "      <td>115</td>\n",
       "      <td>156</td>\n",
       "      <td>4935</td>\n",
       "      <td>27.8</td>\n",
       "      <td>1.68</td>\n",
       "      <td>44</td>\n",
       "      <td>0</td>\n",
       "    </tr>\n",
       "    <tr>\n",
       "      <th>6</th>\n",
       "      <td>9</td>\n",
       "      <td>232</td>\n",
       "      <td>155</td>\n",
       "      <td>4</td>\n",
       "      <td>1687</td>\n",
       "      <td>35.6</td>\n",
       "      <td>1.58</td>\n",
       "      <td>79</td>\n",
       "      <td>1</td>\n",
       "    </tr>\n",
       "    <tr>\n",
       "      <th>7</th>\n",
       "      <td>2</td>\n",
       "      <td>285</td>\n",
       "      <td>162</td>\n",
       "      <td>85</td>\n",
       "      <td>3119</td>\n",
       "      <td>36.1</td>\n",
       "      <td>0.50</td>\n",
       "      <td>29</td>\n",
       "      <td>1</td>\n",
       "    </tr>\n",
       "    <tr>\n",
       "      <th>8</th>\n",
       "      <td>6</td>\n",
       "      <td>258</td>\n",
       "      <td>162</td>\n",
       "      <td>174</td>\n",
       "      <td>3187</td>\n",
       "      <td>36.9</td>\n",
       "      <td>1.05</td>\n",
       "      <td>18</td>\n",
       "      <td>0</td>\n",
       "    </tr>\n",
       "    <tr>\n",
       "      <th>9</th>\n",
       "      <td>10</td>\n",
       "      <td>214</td>\n",
       "      <td>129</td>\n",
       "      <td>289</td>\n",
       "      <td>2484</td>\n",
       "      <td>38.2</td>\n",
       "      <td>1.88</td>\n",
       "      <td>60</td>\n",
       "      <td>1</td>\n",
       "    </tr>\n",
       "  </tbody>\n",
       "</table>\n",
       "</div>"
      ],
      "text/plain": [
       "   NumMedicalVisits  Cholesterol  BloodPressure  PhysicalActivity  \\\n",
       "0                 6          290            109               125   \n",
       "1                 3          286            172               233   \n",
       "2                10          176            170                 7   \n",
       "3                 7          271            151               128   \n",
       "4                 4          154            162               263   \n",
       "5                 6          178            115               156   \n",
       "6                 9          232            155                 4   \n",
       "7                 2          285            162                85   \n",
       "8                 6          258            162               174   \n",
       "9                10          214            129               289   \n",
       "\n",
       "   SodiumIntake   BMI  HypertensionPedigreeFunction  Age  Outcome  \n",
       "0          3361  27.5                          0.83   31        0  \n",
       "1          4356  32.8                          0.14   74        0  \n",
       "2          2705  24.1                          0.93   74        0  \n",
       "3          2185  24.7                          2.36   25        1  \n",
       "4          3351  35.4                          1.60   25        0  \n",
       "5          4935  27.8                          1.68   44        0  \n",
       "6          1687  35.6                          1.58   79        1  \n",
       "7          3119  36.1                          0.50   29        1  \n",
       "8          3187  36.9                          1.05   18        0  \n",
       "9          2484  38.2                          1.88   60        1  "
      ]
     },
     "execution_count": 4,
     "metadata": {},
     "output_type": "execute_result"
    }
   ],
   "source": [
    "import pandas as pd\n",
    "import numpy as np\n",
    "from sklearn.metrics import mutual_info_score, accuracy_score, roc_curve, roc_auc_score\n",
    "from sklearn.metrics import classification_report, precision_score, recall_score, f1_score\n",
    "from sklearn.model_selection import train_test_split, KFold\n",
    "from sklearn.feature_extraction import DictVectorizer\n",
    "from sklearn.ensemble import RandomForestClassifier\n",
    "from sklearn.tree import DecisionTreeClassifier, export_text\n",
    "from sklearn.linear_model import LogisticRegression\n",
    "from sklearn.model_selection import GridSearchCV\n",
    "from tqdm.auto import tqdm\n",
    "import pickle\n",
    "import seaborn as sns\n",
    "from matplotlib import pyplot as plt\n",
    "import warnings\n",
    "\n",
    "warnings.filterwarnings(\"ignore\", category=FutureWarning)\n",
    "%matplotlib inline\n",
    "\n",
    "data = './hypertension_dataset.csv'\n",
    "!head $data\n",
    "\n",
    "df = pd.read_csv(data)\n",
    "df.head(10)"
   ]
  },
  {
   "cell_type": "markdown",
   "id": "5b4d4841-fa24-4dde-a184-1f2ed52efe5f",
   "metadata": {},
   "source": [
    "## 3. Exploratory Data Analysis (EDA)"
   ]
  },
  {
   "cell_type": "code",
   "execution_count": 5,
   "id": "0511b550-d428-42de-bfc8-9702373f0c1c",
   "metadata": {},
   "outputs": [
    {
     "name": "stdout",
     "output_type": "stream",
     "text": [
      "<class 'pandas.core.frame.DataFrame'>\n",
      "RangeIndex: 650 entries, 0 to 649\n",
      "Data columns (total 9 columns):\n",
      " #   Column                        Non-Null Count  Dtype  \n",
      "---  ------                        --------------  -----  \n",
      " 0   NumMedicalVisits              650 non-null    int64  \n",
      " 1   Cholesterol                   650 non-null    int64  \n",
      " 2   BloodPressure                 650 non-null    int64  \n",
      " 3   PhysicalActivity              650 non-null    int64  \n",
      " 4   SodiumIntake                  650 non-null    int64  \n",
      " 5   BMI                           650 non-null    float64\n",
      " 6   HypertensionPedigreeFunction  650 non-null    float64\n",
      " 7   Age                           650 non-null    int64  \n",
      " 8   Outcome                       650 non-null    int64  \n",
      "dtypes: float64(2), int64(7)\n",
      "memory usage: 45.8 KB\n"
     ]
    },
    {
     "data": {
      "text/plain": [
       "NumMedicalVisits                0\n",
       "Cholesterol                     0\n",
       "BloodPressure                   0\n",
       "PhysicalActivity                0\n",
       "SodiumIntake                    0\n",
       "BMI                             0\n",
       "HypertensionPedigreeFunction    0\n",
       "Age                             0\n",
       "Outcome                         0\n",
       "dtype: int64"
      ]
     },
     "execution_count": 5,
     "metadata": {},
     "output_type": "execute_result"
    }
   ],
   "source": [
    "df.columns\n",
    "df.info()\n",
    "df.describe()\n",
    "\n",
    "df.isnull().sum()"
   ]
  },
  {
   "cell_type": "code",
   "execution_count": 6,
   "id": "cb8dd51d-697f-4deb-b67a-7448ca43a522",
   "metadata": {},
   "outputs": [
    {
     "data": {
      "image/png": "[encoded data removed]",
      "text/plain": [
       "<Figure size 1200x600 with 1 Axes>"
      ]
     },
     "metadata": {},
     "output_type": "display_data"
    }
   ],
   "source": [
    "def show_boxplot(df):\n",
    "    df_melted = df.melt(var_name='Variable', value_name='Value')\n",
    "    plt.figure(figsize=(12, 6))\n",
    "    sns.boxplot(x='Variable', y='Value', data=df_melted)\n",
    "    plt.title('Boxplot for Multiple Columns')\n",
    "    plt.show()\n",
    "\n",
    "show_boxplot(df)"
   ]
  },
  {
   "cell_type": "markdown",
   "id": "3ee6e146-d478-44ac-92cf-e3a88d894388",
   "metadata": {},
   "source": [
    "## 4. Data Cleaning and Feature Engineering"
   ]
  },
  {
   "cell_type": "code",
   "execution_count": 7,
   "id": "f332fb0c-40d3-43d2-ae89-de0a77dca822",
   "metadata": {},
   "outputs": [
    {
     "name": "stdout",
     "output_type": "stream",
     "text": [
      "<class 'pandas.core.frame.DataFrame'>\n",
      "RangeIndex: 650 entries, 0 to 649\n",
      "Data columns (total 9 columns):\n",
      " #   Column                        Non-Null Count  Dtype  \n",
      "---  ------                        --------------  -----  \n",
      " 0   NumMedicalVisits              650 non-null    int64  \n",
      " 1   Cholesterol                   650 non-null    int64  \n",
      " 2   BloodPressure                 650 non-null    int64  \n",
      " 3   PhysicalActivity              650 non-null    int64  \n",
      " 4   SodiumIntake                  650 non-null    int64  \n",
      " 5   BMI                           650 non-null    float64\n",
      " 6   HypertensionPedigreeFunction  650 non-null    float64\n",
      " 7   Age                           650 non-null    int64  \n",
      " 8   Outcome                       650 non-null    int64  \n",
      "dtypes: float64(2), int64(7)\n",
      "memory usage: 45.8 KB\n"
     ]
    }
   ],
   "source": [
    "def remove_outliers_iqr(df, column):\n",
    "    Q1 = df.quantile(0.25)\n",
    "    Q3 = df.quantile(0.75)\n",
    "    IQR = Q3 - Q1\n",
    "    lower_bound = Q1 - 1.5 * IQR\n",
    "    upper_bound = Q3 + 1.5 * IQR\n",
    "    return df[~((df < lower_bound) | (df > upper_bound)).any(axis=1)]\n",
    "\n",
    "df = remove_outliers_iqr(df, 'BloodPressure')\n",
    "df = remove_outliers_iqr(df, 'Age')\n",
    "df = remove_outliers_iqr(df, 'BMI')\n",
    "\n",
    "df.info()"
   ]
  },
  {
   "cell_type": "code",
   "execution_count": null,
   "id": "6ed58050-92d5-4bfd-a602-db8a0d22864b",
   "metadata": {},
   "outputs": [],
   "source": []
  }
 ],
 "metadata": {
  "kernelspec": {
   "display_name": "Python 3 (ipykernel)",
   "language": "python",
   "name": "python3"
  },
  "language_info": {
   "codemirror_mode": {
    "name": "ipython",
    "version": 3
   },
   "file_extension": ".py",
   "mimetype": "text/x-python",
   "name": "python",
   "nbconvert_exporter": "python",
   "pygments_lexer": "ipython3",
   "version": "3.12.1"
  }
 },
 "nbformat": 4,
 "nbformat_minor": 5
}
