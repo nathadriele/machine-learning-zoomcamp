{
 "cells": [
  {
   "cell_type": "markdown",
   "id": "9a495bd0-6adf-4ade-a242-d85f7e40e213",
   "metadata": {},
   "source": [
    "## Neural Networks and Deep Learning"
   ]
  },
  {
   "cell_type": "code",
   "execution_count": 21,
   "id": "da10a5d9-806d-4d47-8d3e-928f7291ea2e",
   "metadata": {},
   "outputs": [],
   "source": [
    "import os\n",
    "\n",
    "os.environ[\"CUDA_VISIBLE_DEVICES\"] = \"-1\""
   ]
  },
  {
   "cell_type": "code",
   "execution_count": 22,
   "id": "80f48223-d759-4e6b-bf0a-ae40730b51bf",
   "metadata": {},
   "outputs": [],
   "source": [
    "import numpy as np\n",
    "import matplotlib.pyplot as plt\n",
    "import tensorflow as tf\n",
    "from tensorflow.keras import layers, models, optimizers\n",
    "from tensorflow.keras.preprocessing.image import ImageDataGenerator, load_img, img_to_array, array_to_img"
   ]
  },
  {
   "cell_type": "code",
   "execution_count": 23,
   "id": "78a1b2eb-cc2e-4731-a629-5d3477ba6ce4",
   "metadata": {},
   "outputs": [],
   "source": [
    "SEED = 42\n",
    "np.random.seed(SEED)\n",
    "tf.random.set_seed(SEED)"
   ]
  },
  {
   "cell_type": "code",
   "execution_count": 24,
   "id": "9553f297-ff3c-4002-a8c8-245cca45c4ed",
   "metadata": {},
   "outputs": [],
   "source": [
    "DATA_URL = \"https://github.com/SVizor42/ML_Zoomcamp/releases/download/straight-curly-data/data.zip\"\n",
    "DATA_ZIP = \"data.zip\"\n",
    "DATA_DIR = \"data\""
   ]
  },
  {
   "cell_type": "code",
   "execution_count": 25,
   "id": "274b15e3-eb3c-4ca0-aeaa-77f3ce25edd8",
   "metadata": {},
   "outputs": [],
   "source": [
    "def download_dataset(url, zip_path):\n",
    "    if not os.path.exists(zip_path):\n",
    "        print(f\"Baixando o dataset de {url}...\")\n",
    "        os.system(f\"wget {url} -O {zip_path}\")\n",
    "    else:\n",
    "        print(f\"O arquivo '{zip_path}' já existe. Nenhuma necessidade de baixar novamente.\")\n",
    "\n",
    "def extract_dataset(zip_path, extract_to):\n",
    "    if not os.path.exists(extract_to):\n",
    "        print(f\"Extraindo o dataset para '{extract_to}'...\")\n",
    "        os.system(f\"unzip {zip_path} -d {extract_to}\")\n",
    "    else:\n",
    "        print(f\"A pasta '{extract_to}' já existe. Nenhuma necessidade de extrair novamente.\")"
   ]
  },
  {
   "cell_type": "code",
   "execution_count": 26,
   "id": "95c289d7-caa3-42c2-9dd7-2502a6906083",
   "metadata": {},
   "outputs": [
    {
     "name": "stdout",
     "output_type": "stream",
     "text": [
      "O arquivo 'data.zip' já existe. Nenhuma necessidade de baixar novamente.\n",
      "A pasta 'data' já existe. Nenhuma necessidade de extrair novamente.\n"
     ]
    }
   ],
   "source": [
    "download_dataset(DATA_URL, DATA_ZIP)\n",
    "extract_dataset(DATA_ZIP, DATA_DIR)"
   ]
  },
  {
   "cell_type": "code",
   "execution_count": null,
   "id": "d4c57499-f26a-48f0-8fdd-6357a75289b3",
   "metadata": {},
   "outputs": [],
   "source": []
  }
 ],
 "metadata": {
  "kernelspec": {
   "display_name": "Python 3 (ipykernel)",
   "language": "python",
   "name": "python3"
  },
  "language_info": {
   "codemirror_mode": {
    "name": "ipython",
    "version": 3
   },
   "file_extension": ".py",
   "mimetype": "text/x-python",
   "name": "python",
   "nbconvert_exporter": "python",
   "pygments_lexer": "ipython3",
   "version": "3.12.1"
  }
 },
 "nbformat": 4,
 "nbformat_minor": 5
}
