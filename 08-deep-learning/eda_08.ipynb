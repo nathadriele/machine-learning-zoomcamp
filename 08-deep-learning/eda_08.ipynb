{
 "cells": [
  {
   "cell_type": "markdown",
   "id": "787b26fd-8c25-4f16-ab2b-4dd2479954e2",
   "metadata": {},
   "source": [
    "# Neural networks and deep learning"
   ]
  },
  {
   "cell_type": "code",
   "execution_count": null,
   "id": "104f662f-8abc-4556-a166-30e765fbc554",
   "metadata": {},
   "outputs": [
    {
     "name": "stdout",
     "output_type": "stream",
     "text": [
      "Cloning into 'clothing-dataset-small'...\n",
      "The authenticity of host 'github.com (140.82.114.3)' can't be established.\n",
      "ECDSA key fingerprint is SHA256:p2QAMXNIC1TJYWeIOttrVc98/R1BUFWu3/LiyKgUfQM.\n",
      "Are you sure you want to continue connecting (yes/no/[fingerprint])? "
     ]
    }
   ],
   "source": [
    "!git clone git@github.com:alexeygrigorev/clothing-dataset-small.git"
   ]
  },
  {
   "cell_type": "code",
   "execution_count": null,
   "id": "e783a16c-cc18-4a19-96fe-7d45a9855fc9",
   "metadata": {},
   "outputs": [],
   "source": [
    "import numpy as np\n",
    "import matplotlib.pyplot as plt\n",
    "\n",
    "%matplotlib inline"
   ]
  },
  {
   "cell_type": "code",
   "execution_count": null,
   "id": "08bdb20c-fc0e-45c4-945b-335ca3969f9c",
   "metadata": {},
   "outputs": [],
   "source": [
    "import tensorflow as tf\n",
    "from tensorflow import keras"
   ]
  },
  {
   "cell_type": "code",
   "execution_count": null,
   "id": "1a043ba4-c34d-46eb-90a9-90fdeab93d83",
   "metadata": {},
   "outputs": [],
   "source": [
    "from tensorflow.keras.preprocessing.image import load_img"
   ]
  },
  {
   "cell_type": "code",
   "execution_count": null,
   "id": "2d906cad-f18e-4009-86bd-6fbabc5a4d7c",
   "metadata": {},
   "outputs": [],
   "source": [
    "path = './clothing-dataset-small/train/t-shirt'\n",
    "name = '5f0a3fa0-6a3d-4b68-b213-72766a643de7.jpg'\n",
    "fullname = f'{path}/{name}'"
   ]
  },
  {
   "cell_type": "code",
   "execution_count": null,
   "id": "e6dd5489-acdd-483a-aa4d-68832d3158f9",
   "metadata": {},
   "outputs": [],
   "source": [
    "img = load_img(fullname, target_size=(299, 299))"
   ]
  },
  {
   "cell_type": "code",
   "execution_count": null,
   "id": "c9fcad21-e2d0-4b39-aa41-6f83e8f95829",
   "metadata": {},
   "outputs": [],
   "source": [
    "x = np.array(img)\n",
    "x.shape"
   ]
  },
  {
   "cell_type": "markdown",
   "id": "bc81cb69-70b1-4195-8f41-43a34c5a6ec4",
   "metadata": {},
   "source": [
    "## Pre-trained convolutional neural networks"
   ]
  },
  {
   "cell_type": "code",
   "execution_count": null,
   "id": "0f43d598-0d4a-44aa-bd2a-53bb9fba037a",
   "metadata": {},
   "outputs": [],
   "source": [
    "from tensorflow.keras.applications.xception import Xception\n",
    "from tensorflow.keras.applications.xception import preprocess_input\n",
    "from tensorflow.keras.applications.xception import decode_predictions"
   ]
  },
  {
   "cell_type": "code",
   "execution_count": null,
   "id": "c2659a19-ce18-437d-84d8-f48f402a7121",
   "metadata": {},
   "outputs": [],
   "source": [
    "model = Xception(weights='imagenet', input_shape=(299, 299, 3))"
   ]
  },
  {
   "cell_type": "code",
   "execution_count": null,
   "id": "ad81c644-31b3-410b-8a26-4064f7b4c80e",
   "metadata": {},
   "outputs": [],
   "source": [
    "X = np.array([x])"
   ]
  },
  {
   "cell_type": "code",
   "execution_count": null,
   "id": "fd79221d-fcf4-46eb-a1d0-75303245ce75",
   "metadata": {},
   "outputs": [],
   "source": [
    "X.shape"
   ]
  },
  {
   "cell_type": "code",
   "execution_count": null,
   "id": "bf539a70-8f83-48f9-9231-fd160667fe18",
   "metadata": {},
   "outputs": [],
   "source": [
    "X = preprocess_input(X)"
   ]
  },
  {
   "cell_type": "code",
   "execution_count": null,
   "id": "22cef463-5bdc-4112-9e7e-671f5e328fa4",
   "metadata": {},
   "outputs": [],
   "source": [
    "pred = model.predict(X)"
   ]
  },
  {
   "cell_type": "code",
   "execution_count": null,
   "id": "a32d6d24-58cf-4849-aa30-d88249cbe1da",
   "metadata": {},
   "outputs": [],
   "source": [
    "decode_predictions(pred)"
   ]
  },
  {
   "cell_type": "code",
   "execution_count": null,
   "id": "2eab846c-de6d-449c-8a58-56a730d154a2",
   "metadata": {},
   "outputs": [],
   "source": []
  }
 ],
 "metadata": {
  "kernelspec": {
   "display_name": "Python 3 (ipykernel)",
   "language": "python",
   "name": "python3"
  },
  "language_info": {
   "codemirror_mode": {
    "name": "ipython",
    "version": 3
   },
   "file_extension": ".py",
   "mimetype": "text/x-python",
   "name": "python",
   "nbconvert_exporter": "python",
   "pygments_lexer": "ipython3",
   "version": "3.12.1"
  }
 },
 "nbformat": 4,
 "nbformat_minor": 5
}
