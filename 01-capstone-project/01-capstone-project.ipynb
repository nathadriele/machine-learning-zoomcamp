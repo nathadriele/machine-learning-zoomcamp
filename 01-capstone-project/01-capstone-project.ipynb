{
 "cells": [
  {
   "cell_type": "markdown",
   "id": "c24b6e78-84ac-4385-836c-0d2d83417748",
   "metadata": {},
   "source": [
    "## Capstone Project 1"
   ]
  },
  {
   "cell_type": "markdown",
   "id": "16669c82-f7ce-483b-86f5-7cd84cfacda8",
   "metadata": {},
   "source": [
    "This Jupyter Notebook documents the development of a Machine Learning project focused on predicting the price of Ford cars. The project aims to create a reliable and scalable solution for car price prediction using historical data, exploring patterns in features like mileage, year, and specifications."
   ]
  },
  {
   "cell_type": "markdown",
   "id": "f41e73c3-6649-4543-b440-ed9376158d44",
   "metadata": {},
   "source": [
    "### Project Overview"
   ]
  },
  {
   "cell_type": "markdown",
   "id": "b48ce686-ecf1-4135-8fff-93a3c1edd763",
   "metadata": {},
   "source": [
    "The objective is to predict the price of Ford cars based on their attributes. Accurate price predictions are crucial for car dealerships, online platforms, and individual sellers to make data-driven pricing decisions. This project provides a structured approach, from data exploration to model deployment, ensuring the solution is practical and usable."
   ]
  },
  {
   "cell_type": "markdown",
   "id": "572702d7-91ef-404c-a2ea-29f08e1b1859",
   "metadata": {},
   "source": [
    "### Data preparation"
   ]
  },
  {
   "cell_type": "code",
   "execution_count": 20,
   "id": "8e0c6b71-2529-4f27-8737-d39e870f2874",
   "metadata": {},
   "outputs": [
    {
     "ename": "ModuleNotFoundError",
     "evalue": "No module named 'xgboost'",
     "output_type": "error",
     "traceback": [
      "\u001b[0;31m---------------------------------------------------------------------------\u001b[0m",
      "\u001b[0;31mModuleNotFoundError\u001b[0m                       Traceback (most recent call last)",
      "Cell \u001b[0;32mIn[20], line 12\u001b[0m\n\u001b[1;32m     10\u001b[0m \u001b[38;5;28;01mfrom\u001b[39;00m \u001b[38;5;21;01msklearn\u001b[39;00m\u001b[38;5;21;01m.\u001b[39;00m\u001b[38;5;21;01mpreprocessing\u001b[39;00m \u001b[38;5;28;01mimport\u001b[39;00m OneHotEncoder, StandardScaler\n\u001b[1;32m     11\u001b[0m \u001b[38;5;28;01mfrom\u001b[39;00m \u001b[38;5;21;01msklearn\u001b[39;00m\u001b[38;5;21;01m.\u001b[39;00m\u001b[38;5;21;01mlinear_model\u001b[39;00m \u001b[38;5;28;01mimport\u001b[39;00m LinearRegression, Ridge, Lasso\n\u001b[0;32m---> 12\u001b[0m \u001b[38;5;28;01mfrom\u001b[39;00m \u001b[38;5;21;01mxgboost\u001b[39;00m \u001b[38;5;28;01mimport\u001b[39;00m XGBRegressor\n\u001b[1;32m     13\u001b[0m \u001b[38;5;28;01mfrom\u001b[39;00m \u001b[38;5;21;01msklearn\u001b[39;00m\u001b[38;5;21;01m.\u001b[39;00m\u001b[38;5;21;01mmetrics\u001b[39;00m \u001b[38;5;28;01mimport\u001b[39;00m mean_squared_error, r2_score\n\u001b[1;32m     14\u001b[0m \u001b[38;5;28;01mimport\u001b[39;00m \u001b[38;5;21;01mjoblib\u001b[39;00m\n",
      "\u001b[0;31mModuleNotFoundError\u001b[0m: No module named 'xgboost'"
     ]
    }
   ],
   "source": [
    "import pandas as pd\n",
    "import numpy as np\n",
    "import seaborn as sns\n",
    "from matplotlib import pyplot as plt\n",
    "%matplotlib inline\n",
    "\n",
    "from sklearn.model_selection import train_test_split, GridSearchCV\n",
    "from sklearn.pipeline import Pipeline\n",
    "from sklearn.compose import ColumnTransformer\n",
    "from sklearn.preprocessing import OneHotEncoder, StandardScaler\n",
    "from sklearn.linear_model import LinearRegression, Ridge, Lasso\n",
    "from xgboost import XGBRegressor\n",
    "from sklearn.metrics import mean_squared_error, r2_score\n",
    "import joblib"
   ]
  },
  {
   "cell_type": "markdown",
   "id": "ec4b4e43-0507-4ffd-a9b1-acc4335c2f06",
   "metadata": {},
   "source": [
    "# 1. Data Loading"
   ]
  },
  {
   "cell_type": "code",
   "execution_count": 21,
   "id": "a72befb7-207c-4526-be55-c3b53ef5988a",
   "metadata": {},
   "outputs": [],
   "source": [
    "data = pd.read_csv(\"ford_car_price_prediction.csv\")\n",
    "data.columns = data.columns.str.lower().str.replace(' ', '_')"
   ]
  },
  {
   "cell_type": "markdown",
   "id": "bfaf0586-8561-4d3e-ab30-b5546a051ce9",
   "metadata": {},
   "source": [
    "# Basic overview"
   ]
  },
  {
   "cell_type": "code",
   "execution_count": 22,
   "id": "84fc3dcc-3b8e-4407-ba83-fbdd0e37bff6",
   "metadata": {},
   "outputs": [
    {
     "name": "stdout",
     "output_type": "stream",
     "text": [
      "     model  year  price transmission  mileage fueltype  tax   mpg  enginesize\n",
      "0   Fiesta  2017  12000    Automatic    15944   Petrol  150  57.7         1.0\n",
      "1    Focus  2018  14000       Manual     9083   Petrol  150  57.7         1.0\n",
      "2    Focus  2017  13000       Manual    12456   Petrol  150  57.7         1.0\n",
      "3   Fiesta  2019  17500       Manual    10460   Petrol  145  40.3         1.5\n",
      "4   Fiesta  2019  16500    Automatic     1482   Petrol  145  48.7         1.0\n",
      "<class 'pandas.core.frame.DataFrame'>\n",
      "RangeIndex: 1460 entries, 0 to 1459\n",
      "Data columns (total 9 columns):\n",
      " #   Column        Non-Null Count  Dtype  \n",
      "---  ------        --------------  -----  \n",
      " 0   model         1460 non-null   object \n",
      " 1   year          1460 non-null   int64  \n",
      " 2   price         1460 non-null   int64  \n",
      " 3   transmission  1460 non-null   object \n",
      " 4   mileage       1460 non-null   int64  \n",
      " 5   fueltype      1460 non-null   object \n",
      " 6   tax           1460 non-null   int64  \n",
      " 7   mpg           1460 non-null   float64\n",
      " 8   enginesize    1460 non-null   float64\n",
      "dtypes: float64(2), int64(4), object(3)\n",
      "memory usage: 102.8+ KB\n",
      "None\n",
      "              year         price       mileage          tax          mpg  \\\n",
      "count  1460.000000   1460.000000   1460.000000  1460.000000  1460.000000   \n",
      "mean   2016.993836  12280.198630  21907.027397   108.205479    58.609726   \n",
      "std       1.632212   4447.710936  15874.464065    62.334075     9.577440   \n",
      "min    2013.000000   3691.000000      5.000000     0.000000    20.900000   \n",
      "25%    2016.000000   9000.000000  10174.000000    30.000000    54.300000   \n",
      "50%    2017.000000  11199.000000  17863.500000   145.000000    58.900000   \n",
      "75%    2018.000000  14998.000000  29859.750000   145.000000    65.700000   \n",
      "max    2020.000000  42489.000000  88927.000000   570.000000    88.300000   \n",
      "\n",
      "        enginesize  \n",
      "count  1460.000000  \n",
      "mean      1.361438  \n",
      "std       0.436243  \n",
      "min       1.000000  \n",
      "25%       1.000000  \n",
      "50%       1.200000  \n",
      "75%       1.500000  \n",
      "max       5.000000  \n",
      "model           0\n",
      "year            0\n",
      "price           0\n",
      "transmission    0\n",
      "mileage         0\n",
      "fueltype        0\n",
      "tax             0\n",
      "mpg             0\n",
      "enginesize      0\n",
      "dtype: int64\n"
     ]
    }
   ],
   "source": [
    "print(data.head())\n",
    "print(data.info())\n",
    "print(data.describe())\n",
    "print(data.isnull().sum())"
   ]
  },
  {
   "cell_type": "markdown",
   "id": "b5777363-2f1f-4eb1-80ce-07c83eb3677f",
   "metadata": {},
   "source": [
    "# Target definition"
   ]
  },
  {
   "cell_type": "code",
   "execution_count": 23,
   "id": "36737c6d-974e-4d47-92f1-1ef6d5e9ca36",
   "metadata": {},
   "outputs": [],
   "source": [
    "target_label = 'price'"
   ]
  },
  {
   "cell_type": "markdown",
   "id": "a56f1677-9d37-4e81-adf6-35cda7254d52",
   "metadata": {},
   "source": [
    "# Identify columns"
   ]
  },
  {
   "cell_type": "code",
   "execution_count": 24,
   "id": "64a5d799-bd4f-49db-9d8c-ed71803929c5",
   "metadata": {},
   "outputs": [],
   "source": [
    "numerical_cols = data.select_dtypes(include=[np.number]).columns.tolist()\n",
    "if target_label in numerical_cols:\n",
    "    numerical_cols.remove(target_label)\n",
    "\n",
    "categorical_cols = data.select_dtypes(include=['object']).columns.tolist()"
   ]
  },
  {
   "cell_type": "markdown",
   "id": "c61eee5e-69bd-46c1-8fdf-1dc11c653ece",
   "metadata": {},
   "source": [
    "# 2. Exploratory Data Analysis (EDA)"
   ]
  },
  {
   "cell_type": "markdown",
   "id": "8d646cec-4e77-435d-b677-1c61f5c83677",
   "metadata": {},
   "source": [
    "# (A) Histogram of Price"
   ]
  },
  {
   "cell_type": "code",
   "execution_count": null,
   "id": "c54146c7-d551-438e-b3d9-67abd61254b3",
   "metadata": {},
   "outputs": [],
   "source": [
    "plt.figure(figsize=(8,4))\n",
    "sns.histplot(data[target_label], kde=True, color='purple')\n",
    "plt.title(\"Histogram and Price Distribution\")\n",
    "plt.xlabel(\"Price (£)\")\n",
    "plt.ylabel(\"Count\")\n",
    "plt.show()"
   ]
  },
  {
   "cell_type": "markdown",
   "id": "931c30a1-6c4a-4da5-b0ab-c14f74995222",
   "metadata": {},
   "source": [
    "# (B) Histograms/KDE of Numerical Columns"
   ]
  },
  {
   "cell_type": "code",
   "execution_count": null,
   "id": "31833888-47f7-4f27-be61-3dfaed019f04",
   "metadata": {},
   "outputs": [],
   "source": [
    "for col in numerical_cols:\n",
    "    plt.figure(figsize=(6,4))\n",
    "    sns.histplot(data[col], kde=True)\n",
    "    plt.title(f\"Distribution of {col}\")\n",
    "    plt.show()"
   ]
  },
  {
   "cell_type": "markdown",
   "id": "1ae0d35b-4f82-4f87-bcb6-ada2c8a74112",
   "metadata": {},
   "source": [
    "# (C) Countplot of a Categorical Feature (Example: Brand)"
   ]
  },
  {
   "cell_type": "code",
   "execution_count": null,
   "id": "6552338a-99b3-4e29-8594-82141a167069",
   "metadata": {},
   "outputs": [],
   "source": [
    "if 'brand' in categorical_cols:\n",
    "    plt.figure(figsize=(8,4))\n",
    "    sns.countplot(x='brand', data=data, order=data['brand'].value_counts().index)\n",
    "    plt.title(\"Count of Cars by Brand\")\n",
    "    plt.xticks(rotation=45)\n",
    "    plt.show()"
   ]
  },
  {
   "cell_type": "markdown",
   "id": "769d776b-4054-4d2d-8344-8c0bd0c06a11",
   "metadata": {},
   "source": [
    "# (D) Violinplot: Brand vs. Price"
   ]
  },
  {
   "cell_type": "code",
   "execution_count": null,
   "id": "be321e14-d881-478d-96c7-ac2f6c77cba2",
   "metadata": {},
   "outputs": [],
   "source": [
    "if 'brand' in categorical_cols:\n",
    "    plt.figure(figsize=(8,4))\n",
    "    sns.violinplot(x='brand', y=target_label, data=data, palette='pastel', inner='quartile')\n",
    "    plt.title(\"Price Distribution by Brand (Violinplot)\")\n",
    "    plt.xticks(rotation=45)\n",
    "    plt.show()"
   ]
  },
  {
   "cell_type": "markdown",
   "id": "1dd42cfc-0982-4b2c-b9d9-9435808310e5",
   "metadata": {},
   "source": [
    "# (E) Stripplot with Hue"
   ]
  },
  {
   "cell_type": "code",
   "execution_count": null,
   "id": "8b3df212-6daa-45ec-975c-19e1dc535fbc",
   "metadata": {},
   "outputs": [],
   "source": [
    "if 'brand' in categorical_cols and 'transmission' in categorical_cols:\n",
    "    plt.figure(figsize=(10,5))\n",
    "    sns.stripplot(x='brand', y='price', hue='transmission', data=data, jitter=True, alpha=0.6)\n",
    "    plt.title(\"Price Distribution by Brand and Transmission\")\n",
    "    plt.xticks(rotation=45)\n",
    "    plt.show()"
   ]
  },
  {
   "cell_type": "markdown",
   "id": "fa34d3f6-fe5f-469e-b413-031d433f06d3",
   "metadata": {},
   "source": [
    "# (F) Boxplot of mpg vs Brand (if both exist)"
   ]
  },
  {
   "cell_type": "code",
   "execution_count": null,
   "id": "1eeb666b-5f67-4d63-b89d-bfa5fa85f576",
   "metadata": {},
   "outputs": [],
   "source": [
    "if 'mpg' in numerical_cols and 'brand' in categorical_cols:\n",
    "    plt.figure(figsize=(8,4))\n",
    "    sns.boxplot(x='brand', y='mpg', data=data, palette='Set3')\n",
    "    plt.title(\"MPG Distribution by Brand (Boxplot)\")\n",
    "    plt.xticks(rotation=45)\n",
    "    plt.show()"
   ]
  },
  {
   "cell_type": "markdown",
   "id": "b686d7f8-0154-41ac-a4df-5f3dfe697d3d",
   "metadata": {},
   "source": [
    "# (G) Scatterplot mpg vs price, hue=transmission"
   ]
  },
  {
   "cell_type": "code",
   "execution_count": null,
   "id": "9ff46b63-b5b7-474f-a14a-8a49bd04f73c",
   "metadata": {},
   "outputs": [],
   "source": [
    "if 'mpg' in numerical_cols and 'transmission' in categorical_cols:\n",
    "    plt.figure(figsize=(8,5))\n",
    "    sns.scatterplot(x='mpg', y='price', hue='transmission', data=data, alpha=0.7)\n",
    "    plt.title(\"MPG vs Price Colored by Transmission\")\n",
    "    plt.show()"
   ]
  },
  {
   "cell_type": "markdown",
   "id": "3f3c9408-7350-4e36-9b71-6911bfe40d49",
   "metadata": {},
   "source": [
    "# (H) Jointplot of Mileage vs. Price"
   ]
  },
  {
   "cell_type": "code",
   "execution_count": null,
   "id": "12646d66-8a30-4717-830e-f78a45a2e926",
   "metadata": {},
   "outputs": [],
   "source": [
    "if 'mileage' in numerical_cols:\n",
    "    sns.jointplot(x='mileage', y='price', data=data, kind='reg', height=6)\n",
    "    plt.suptitle(\"Mileage vs Price (Jointplot)\", y=1.02)\n",
    "    plt.show()"
   ]
  },
  {
   "cell_type": "markdown",
   "id": "e2cbe7a8-43a9-4b7a-af7e-bba5fb9193e8",
   "metadata": {},
   "source": [
    "# (I) Regplot of Engine Size vs Price"
   ]
  },
  {
   "cell_type": "code",
   "execution_count": null,
   "id": "a4640978-945f-4e60-a57a-53ff7c73d79d",
   "metadata": {},
   "outputs": [],
   "source": [
    "if 'engine_size' in numerical_cols:\n",
    "    plt.figure(figsize=(6,4))\n",
    "    sns.regplot(x='engine_size', y='price', data=data, scatter_kws={'alpha':0.5}, line_kws={\"color\":\"red\"})\n",
    "    plt.title(\"Engine Size vs Price with Regression Line\")\n",
    "    plt.show()"
   ]
  },
  {
   "cell_type": "markdown",
   "id": "82be6723-4c52-4133-9a9e-432568e29845",
   "metadata": {},
   "source": [
    "# (J) Correlation Heatmap (Numerical + Price)"
   ]
  },
  {
   "cell_type": "code",
   "execution_count": null,
   "id": "8c5694dc-ca7d-4141-a4ac-ccd05ddcba00",
   "metadata": {},
   "outputs": [],
   "source": [
    "corr = data[numerical_cols + [target_label]].corr()\n",
    "plt.figure(figsize=(8,6))\n",
    "sns.heatmap(corr, annot=True, cmap='YlGnBu')\n",
    "plt.title(\"Correlation Heatmap (Numerical)\")\n",
    "plt.show()"
   ]
  },
  {
   "cell_type": "markdown",
   "id": "567e9f20-46ab-45be-ad64-0f8b71cc0441",
   "metadata": {},
   "source": [
    "# (K) Pairplot"
   ]
  },
  {
   "cell_type": "code",
   "execution_count": null,
   "id": "f1ee6cb7-87f8-4d57-8013-d0aadcd182d6",
   "metadata": {},
   "outputs": [],
   "source": [
    "sns.pairplot(data, vars=numerical_cols + [target_label], corner=True)\n",
    "plt.suptitle(\"Pairplot of Numerical Features\", y=1.02)\n",
    "plt.show()"
   ]
  },
  {
   "cell_type": "markdown",
   "id": "7f7c7d45-2c35-4333-8dfd-57733c495f43",
   "metadata": {},
   "source": [
    "# 3. Data Preparation / Train-Test Split"
   ]
  },
  {
   "cell_type": "code",
   "execution_count": null,
   "id": "0e195f66-22a6-40df-adc3-d74fb1c47f76",
   "metadata": {},
   "outputs": [],
   "source": [
    "df_full_train, df_test = train_test_split(data, test_size=0.2, random_state=42)\n",
    "df_full_train = df_full_train.reset_index(drop=True)\n",
    "df_test = df_test.reset_index(drop=True)\n",
    "\n",
    "y_full_train = df_full_train[target_label].values\n",
    "y_test_final = df_test[target_label].values\n",
    "\n",
    "X_full_train = df_full_train.drop(columns=[target_label])\n",
    "X_test_final = df_test.drop(columns=[target_label])"
   ]
  },
  {
   "cell_type": "markdown",
   "id": "1eb8354a-1b0a-4b8d-b457-aad9ed62159b",
   "metadata": {},
   "source": [
    "# 4. Preprocessing Pipeline"
   ]
  },
  {
   "cell_type": "code",
   "execution_count": null,
   "id": "3cd5a249-565e-4421-a2b7-9a25eee82363",
   "metadata": {},
   "outputs": [],
   "source": [
    "numeric_transformer = StandardScaler()\n",
    "categorical_transformer = OneHotEncoder(drop='first', handle_unknown='ignore')\n",
    "\n",
    "preprocessor = ColumnTransformer(\n",
    "    transformers=[\n",
    "        ('num', numeric_transformer, numerical_cols),\n",
    "        ('cat', categorical_transformer, categorical_cols)\n",
    "    ]\n",
    ")"
   ]
  },
  {
   "cell_type": "markdown",
   "id": "e265db30-336d-4499-bce9-dbff73eea3bc",
   "metadata": {},
   "source": [
    "# 5. Multiple Models"
   ]
  },
  {
   "cell_type": "code",
   "execution_count": null,
   "id": "ae9373ca-2109-4de5-8a2e-88c944c9d58a",
   "metadata": {},
   "outputs": [],
   "source": [
    "pipelines = {\n",
    "    'LinearRegression': Pipeline(steps=[('preprocessor', preprocessor),\n",
    "                                        ('model', LinearRegression())]),\n",
    "    'Ridge': Pipeline(steps=[('preprocessor', preprocessor),\n",
    "                             ('model', Ridge())]),\n",
    "    'Lasso': Pipeline(steps=[('preprocessor', preprocessor),\n",
    "                             ('model', Lasso())]),\n",
    "    'XGBoost': Pipeline(steps=[('preprocessor', preprocessor),\n",
    "                               ('model', XGBRegressor(objective='reg:squarederror',\n",
    "                                                      random_state=42))])\n",
    "}\n",
    "\n",
    "param_grids = {\n",
    "    'LinearRegression': {},\n",
    "    'Ridge': {\n",
    "        'model__alpha': np.logspace(-4, 4, 10)\n",
    "    },\n",
    "    'Lasso': {\n",
    "        'model__alpha': np.logspace(-4, 4, 10)\n",
    "    },\n",
    "    'XGBoost': {\n",
    "        'model__n_estimators': [50, 100, 200],\n",
    "        'model__learning_rate': [0.01, 0.1, 0.2],\n",
    "        'model__max_depth': [3, 5, 7]\n",
    "    }\n",
    "}\n",
    "\n",
    "best_params = {}\n",
    "results_list = []\n",
    "\n",
    "for name, pipeline in pipelines.items():\n",
    "    print(name)\n",
    "    if param_grids[name]:\n",
    "        grid = GridSearchCV(estimator=pipeline,\n",
    "                            param_grid=param_grids[name],\n",
    "                            scoring='neg_mean_squared_error',\n",
    "                            cv=5)\n",
    "        grid.fit(X_full_train, y_full_train)\n",
    "        best_params[name] = grid.best_params_\n",
    "        best_model = grid.best_estimator_\n",
    "    else:\n",
    "        pipeline.fit(X_full_train, y_full_train)\n",
    "        best_model = pipeline\n",
    "        best_params[name] = 'No parameter tuning'\n",
    "    preds = best_model.predict(X_test_final)\n",
    "    rmse = mean_squared_error(y_test_final, preds, squared=False)\n",
    "    r2 = r2_score(y_test_final, preds)\n",
    "    results_list.append((name, rmse, r2))\n",
    "\n",
    "for item in results_list:\n",
    "    print(item[0], \"RMSE:\", item[1], \"R2:\", item[2])"
   ]
  },
  {
   "cell_type": "markdown",
   "id": "dc8c5472-425f-4bec-bb65-1cbbd7c76779",
   "metadata": {},
   "source": [
    "# 6. Final XGBoost Model with Chosen Hyperparams"
   ]
  },
  {
   "cell_type": "code",
   "execution_count": null,
   "id": "9b5e89d5-3e41-4171-b158-1084f40a449a",
   "metadata": {},
   "outputs": [],
   "source": [
    "params = {'learning_rate': 0.01, 'max_depth': 3, 'n_estimators': 50,\n",
    "          \"random_state\": 42, \"n_jobs\": -1, \"objective\": \"reg:squarederror\"}\n",
    "final_pipeline = Pipeline(\n",
    "    steps=[('preprocessor', preprocessor),\n",
    "           ('model', XGBRegressor(**params))]\n",
    ")\n",
    "final_pipeline.fit(X_full_train, y_full_train)\n",
    "final_preds = final_pipeline.predict(X_test_final)\n",
    "rmse_final = mean_squared_error(y_test_final, final_preds, squared=False)\n",
    "r2_final = r2_score(y_test_final, final_preds)\n",
    "print(\"Final XGBoost Model RMSE:\", rmse_final, \"R2:\", r2_final)\n"
   ]
  },
  {
   "cell_type": "markdown",
   "id": "edac71a4-6057-41c2-8555-070ef86956b2",
   "metadata": {},
   "source": [
    "# 7. Save Pipeline"
   ]
  }
 ],
 "metadata": {
  "kernelspec": {
   "display_name": "Python 3 (ipykernel)",
   "language": "python",
   "name": "python3"
  },
  "language_info": {
   "codemirror_mode": {
    "name": "ipython",
    "version": 3
   },
   "file_extension": ".py",
   "mimetype": "text/x-python",
   "name": "python",
   "nbconvert_exporter": "python",
   "pygments_lexer": "ipython3",
   "version": "3.12.1"
  }
 },
 "nbformat": 4,
 "nbformat_minor": 5
}
