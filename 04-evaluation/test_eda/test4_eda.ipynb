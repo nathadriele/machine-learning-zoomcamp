{
 "cells": [
  {
   "cell_type": "code",
   "execution_count": 93,
   "id": "596caae2-d47e-4e36-bda6-11390b17118e",
   "metadata": {},
   "outputs": [],
   "source": [
    "# Import libraries for data manipulation and visualization\n",
    "import pandas as pd\n",
    "import numpy as np\n",
    "import matplotlib.pyplot as plt\n",
    "import urllib.request\n",
    "import os\n",
    "import seaborn as sns\n",
    "\n",
    "# Configure NumPy's print options for backward compatibility\n",
    "np.set_printoptions(legacy='1.25')\n",
    "\n",
    "# Import scikit-learn modules for model training and evaluation\n",
    "from sklearn.model_selection import train_test_split\n",
    "from sklearn.feature_extraction import DictVectorizer\n",
    "from sklearn.linear_model import LogisticRegression\n",
    "from sklearn.metrics import accuracy_score\n",
    "from collections import Counter\n",
    "from sklearn.preprocessing import StandardScaler\n",
    "from sklearn.metrics import roc_curve"
   ]
  },
  {
   "cell_type": "code",
   "execution_count": 94,
   "id": "b443fef9-c6eb-492a-9746-8d57e6264090",
   "metadata": {},
   "outputs": [
    {
     "name": "stdout",
     "output_type": "stream",
     "text": [
      "Dataset already exists. Loading from file...\n",
      "Total missing values in 'totalcharges': 0\n"
     ]
    }
   ],
   "source": [
    "# File path for the dataset\n",
    "dataset_path = 'WA_Fn-UseC_-Telco-Customer-Churn.csv'\n",
    "\n",
    "# Check if the dataset file already exists to avoid re-downloading\n",
    "if os.path.exists(dataset_path):\n",
    "    print(\"Dataset already exists. Loading from file...\")\n",
    "    df = pd.read_csv(dataset_path)\n",
    "else:\n",
    "    print(\"Dataset not found. Downloading...\")\n",
    "    df = pd.read_csv(dataset_path)\n",
    "\n",
    "# Standardize column names: lowercase and replace spaces with underscores\n",
    "df.columns = df.columns.str.lower().str.replace(' ', '_')\n",
    "\n",
    "# Identify categorical columns\n",
    "categorical_columns = list(df.dtypes[df.dtypes == 'object'].index)\n",
    "\n",
    "for c in categorical_columns:\n",
    "    df[c] = df[c].str.lower().str.replace(' ', '_')\n",
    "\n",
    "# Convert 'totalcharges' to numeric, coercing errors to NaN\n",
    "df.totalcharges = pd.to_numeric(df.totalcharges, errors='coerce')\n",
    "\n",
    "# Fill NaN values in 'totalcharges' with 0\n",
    "df.totalcharges = df.totalcharges.fillna(0)\n",
    "\n",
    "# Encode 'churn' column: 'yes' -> 1, 'no' -> 0\n",
    "df.churn = (df.churn == 'yes').astype(int)\n",
    "\n",
    "# Check for missing values in 'totalcharges' column\n",
    "num_missing = df.totalcharges.isna().sum()\n",
    "print(f\"Total missing values in 'totalcharges': {num_missing}\")"
   ]
  },
  {
   "cell_type": "code",
   "execution_count": 95,
   "id": "6c850698-edd8-4ab6-96a1-9bf65cb37024",
   "metadata": {},
   "outputs": [
    {
     "name": "stdout",
     "output_type": "stream",
     "text": [
      "Total missing values in 'totalcharges': 0\n"
     ]
    }
   ],
   "source": [
    "# Load the dataset\n",
    "df = pd.read_csv('WA_Fn-UseC_-Telco-Customer-Churn.csv')\n",
    "\n",
    "# Standardize column names: lowercase and replace spaces with underscores\n",
    "df.columns = df.columns.str.lower().str.replace(' ', '_')\n",
    "\n",
    "# Identify categorical columns\n",
    "categorical_columns = list(df.dtypes[df.dtypes == 'object'].index)\n",
    "\n",
    "# Clean categorical columns: lowercase and replace spaces with underscores\n",
    "for c in categorical_columns:\n",
    "    df[c] = df[c].str.lower().str.replace(' ', '_')\n",
    "\n",
    "# Convert 'totalcharges' to numeric, coercing errors to NaN\n",
    "df.totalcharges = pd.to_numeric(df.totalcharges, errors='coerce')\n",
    "\n",
    "# Fill NaN values in 'totalcharges' with 0\n",
    "df.totalcharges = df.totalcharges.fillna(0)\n",
    "\n",
    "# Encode 'churn' column: 'yes' -> 1, 'no' -> 0\n",
    "df.churn = (df.churn == 'yes').astype(int)\n",
    "\n",
    "num_missing = df.totalcharges.isna().sum()\n",
    "print(f\"Total missing values in 'totalcharges': {num_missing}\")"
   ]
  },
  {
   "cell_type": "code",
   "execution_count": 96,
   "id": "2cbed641-f124-4e69-882d-aacdefd95d2e",
   "metadata": {},
   "outputs": [],
   "source": [
    "# Function to split the dataset and reset index\n",
    "def prepare_datasets(df, target_col, test_size=0.2, val_size=0.25, random_state=1):\n",
    "    # Split the dataset into train and test\n",
    "    df_full_train, df_test = train_test_split(df, test_size=test_size, random_state=random_state)\n",
    "    \n",
    "    # Split the train dataset into training and validation sets\n",
    "    df_train, df_val = train_test_split(df_full_train, test_size=val_size, random_state=random_state)\n",
    "    \n",
    "    # Reset index for all datasets\n",
    "    df_train = df_train.reset_index(drop=True)\n",
    "    df_val = df_val.reset_index(drop=True)\n",
    "    df_test = df_test.reset_index(drop=True)\n",
    "    \n",
    "    # Separate features and target\n",
    "    y_train = df_train[target_col].values\n",
    "    y_val = df_val[target_col].values\n",
    "    y_test = df_test[target_col].values\n",
    "    \n",
    "    # Drop target column from features\n",
    "    df_train = df_train.drop(columns=[target_col])\n",
    "    df_val = df_val.drop(columns=[target_col])\n",
    "    df_test = df_test.drop(columns=[target_col])\n",
    "    \n",
    "    return df_train, df_val, df_test, y_train, y_val, y_test\n",
    "\n",
    "# Usage\n",
    "df_train, df_val, df_test, y_train, y_val, y_test = prepare_datasets(df, target_col='churn')"
   ]
  },
  {
   "cell_type": "code",
   "execution_count": 97,
   "id": "c3339c03-efab-4c14-9cf8-7aed2277f182",
   "metadata": {},
   "outputs": [],
   "source": [
    "# Numerical feature columns\n",
    "numerical = ['tenure', 'monthlycharges', 'totalcharges']\n",
    "\n",
    "# Define categorical feature columns\n",
    "categorical = [\n",
    "    'gender',\n",
    "    'seniorcitizen',\n",
    "    'partner',\n",
    "    'dependents',\n",
    "    'phoneservice',\n",
    "    'multiplelines',\n",
    "    'internetservice',\n",
    "    'onlinesecurity',\n",
    "    'onlinebackup',\n",
    "    'deviceprotection',\n",
    "    'techsupport',\n",
    "    'streamingtv',\n",
    "    'streamingmovies',\n",
    "    'contract',\n",
    "    'paperlessbilling',\n",
    "    'paymentmethod',\n",
    "]"
   ]
  },
  {
   "cell_type": "code",
   "execution_count": 98,
   "id": "a3c12bd2-708f-4be5-88f2-d380dca305a5",
   "metadata": {},
   "outputs": [
    {
     "data": {
      "text/html": [
       "<style>#sk-container-id-4 {\n",
       "  /* Definition of color scheme common for light and dark mode */\n",
       "  --sklearn-color-text: black;\n",
       "  --sklearn-color-line: gray;\n",
       "  /* Definition of color scheme for unfitted estimators */\n",
       "  --sklearn-color-unfitted-level-0: #fff5e6;\n",
       "  --sklearn-color-unfitted-level-1: #f6e4d2;\n",
       "  --sklearn-color-unfitted-level-2: #ffe0b3;\n",
       "  --sklearn-color-unfitted-level-3: chocolate;\n",
       "  /* Definition of color scheme for fitted estimators */\n",
       "  --sklearn-color-fitted-level-0: #f0f8ff;\n",
       "  --sklearn-color-fitted-level-1: #d4ebff;\n",
       "  --sklearn-color-fitted-level-2: #b3dbfd;\n",
       "  --sklearn-color-fitted-level-3: cornflowerblue;\n",
       "\n",
       "  /* Specific color for light theme */\n",
       "  --sklearn-color-text-on-default-background: var(--sg-text-color, var(--theme-code-foreground, var(--jp-content-font-color1, black)));\n",
       "  --sklearn-color-background: var(--sg-background-color, var(--theme-background, var(--jp-layout-color0, white)));\n",
       "  --sklearn-color-border-box: var(--sg-text-color, var(--theme-code-foreground, var(--jp-content-font-color1, black)));\n",
       "  --sklearn-color-icon: #696969;\n",
       "\n",
       "  @media (prefers-color-scheme: dark) {\n",
       "    /* Redefinition of color scheme for dark theme */\n",
       "    --sklearn-color-text-on-default-background: var(--sg-text-color, var(--theme-code-foreground, var(--jp-content-font-color1, white)));\n",
       "    --sklearn-color-background: var(--sg-background-color, var(--theme-background, var(--jp-layout-color0, #111)));\n",
       "    --sklearn-color-border-box: var(--sg-text-color, var(--theme-code-foreground, var(--jp-content-font-color1, white)));\n",
       "    --sklearn-color-icon: #878787;\n",
       "  }\n",
       "}\n",
       "\n",
       "#sk-container-id-4 {\n",
       "  color: var(--sklearn-color-text);\n",
       "}\n",
       "\n",
       "#sk-container-id-4 pre {\n",
       "  padding: 0;\n",
       "}\n",
       "\n",
       "#sk-container-id-4 input.sk-hidden--visually {\n",
       "  border: 0;\n",
       "  clip: rect(1px 1px 1px 1px);\n",
       "  clip: rect(1px, 1px, 1px, 1px);\n",
       "  height: 1px;\n",
       "  margin: -1px;\n",
       "  overflow: hidden;\n",
       "  padding: 0;\n",
       "  position: absolute;\n",
       "  width: 1px;\n",
       "}\n",
       "\n",
       "#sk-container-id-4 div.sk-dashed-wrapped {\n",
       "  border: 1px dashed var(--sklearn-color-line);\n",
       "  margin: 0 0.4em 0.5em 0.4em;\n",
       "  box-sizing: border-box;\n",
       "  padding-bottom: 0.4em;\n",
       "  background-color: var(--sklearn-color-background);\n",
       "}\n",
       "\n",
       "#sk-container-id-4 div.sk-container {\n",
       "  /* jupyter's `normalize.less` sets `[hidden] { display: none; }`\n",
       "     but bootstrap.min.css set `[hidden] { display: none !important; }`\n",
       "     so we also need the `!important` here to be able to override the\n",
       "     default hidden behavior on the sphinx rendered scikit-learn.org.\n",
       "     See: https://github.com/scikit-learn/scikit-learn/issues/21755 */\n",
       "  display: inline-block !important;\n",
       "  position: relative;\n",
       "}\n",
       "\n",
       "#sk-container-id-4 div.sk-text-repr-fallback {\n",
       "  display: none;\n",
       "}\n",
       "\n",
       "div.sk-parallel-item,\n",
       "div.sk-serial,\n",
       "div.sk-item {\n",
       "  /* draw centered vertical line to link estimators */\n",
       "  background-image: linear-gradient(var(--sklearn-color-text-on-default-background), var(--sklearn-color-text-on-default-background));\n",
       "  background-size: 2px 100%;\n",
       "  background-repeat: no-repeat;\n",
       "  background-position: center center;\n",
       "}\n",
       "\n",
       "/* Parallel-specific style estimator block */\n",
       "\n",
       "#sk-container-id-4 div.sk-parallel-item::after {\n",
       "  content: \"\";\n",
       "  width: 100%;\n",
       "  border-bottom: 2px solid var(--sklearn-color-text-on-default-background);\n",
       "  flex-grow: 1;\n",
       "}\n",
       "\n",
       "#sk-container-id-4 div.sk-parallel {\n",
       "  display: flex;\n",
       "  align-items: stretch;\n",
       "  justify-content: center;\n",
       "  background-color: var(--sklearn-color-background);\n",
       "  position: relative;\n",
       "}\n",
       "\n",
       "#sk-container-id-4 div.sk-parallel-item {\n",
       "  display: flex;\n",
       "  flex-direction: column;\n",
       "}\n",
       "\n",
       "#sk-container-id-4 div.sk-parallel-item:first-child::after {\n",
       "  align-self: flex-end;\n",
       "  width: 50%;\n",
       "}\n",
       "\n",
       "#sk-container-id-4 div.sk-parallel-item:last-child::after {\n",
       "  align-self: flex-start;\n",
       "  width: 50%;\n",
       "}\n",
       "\n",
       "#sk-container-id-4 div.sk-parallel-item:only-child::after {\n",
       "  width: 0;\n",
       "}\n",
       "\n",
       "/* Serial-specific style estimator block */\n",
       "\n",
       "#sk-container-id-4 div.sk-serial {\n",
       "  display: flex;\n",
       "  flex-direction: column;\n",
       "  align-items: center;\n",
       "  background-color: var(--sklearn-color-background);\n",
       "  padding-right: 1em;\n",
       "  padding-left: 1em;\n",
       "}\n",
       "\n",
       "\n",
       "/* Toggleable style: style used for estimator/Pipeline/ColumnTransformer box that is\n",
       "clickable and can be expanded/collapsed.\n",
       "- Pipeline and ColumnTransformer use this feature and define the default style\n",
       "- Estimators will overwrite some part of the style using the `sk-estimator` class\n",
       "*/\n",
       "\n",
       "/* Pipeline and ColumnTransformer style (default) */\n",
       "\n",
       "#sk-container-id-4 div.sk-toggleable {\n",
       "  /* Default theme specific background. It is overwritten whether we have a\n",
       "  specific estimator or a Pipeline/ColumnTransformer */\n",
       "  background-color: var(--sklearn-color-background);\n",
       "}\n",
       "\n",
       "/* Toggleable label */\n",
       "#sk-container-id-4 label.sk-toggleable__label {\n",
       "  cursor: pointer;\n",
       "  display: block;\n",
       "  width: 100%;\n",
       "  margin-bottom: 0;\n",
       "  padding: 0.5em;\n",
       "  box-sizing: border-box;\n",
       "  text-align: center;\n",
       "}\n",
       "\n",
       "#sk-container-id-4 label.sk-toggleable__label-arrow:before {\n",
       "  /* Arrow on the left of the label */\n",
       "  content: \"▸\";\n",
       "  float: left;\n",
       "  margin-right: 0.25em;\n",
       "  color: var(--sklearn-color-icon);\n",
       "}\n",
       "\n",
       "#sk-container-id-4 label.sk-toggleable__label-arrow:hover:before {\n",
       "  color: var(--sklearn-color-text);\n",
       "}\n",
       "\n",
       "/* Toggleable content - dropdown */\n",
       "\n",
       "#sk-container-id-4 div.sk-toggleable__content {\n",
       "  max-height: 0;\n",
       "  max-width: 0;\n",
       "  overflow: hidden;\n",
       "  text-align: left;\n",
       "  /* unfitted */\n",
       "  background-color: var(--sklearn-color-unfitted-level-0);\n",
       "}\n",
       "\n",
       "#sk-container-id-4 div.sk-toggleable__content.fitted {\n",
       "  /* fitted */\n",
       "  background-color: var(--sklearn-color-fitted-level-0);\n",
       "}\n",
       "\n",
       "#sk-container-id-4 div.sk-toggleable__content pre {\n",
       "  margin: 0.2em;\n",
       "  border-radius: 0.25em;\n",
       "  color: var(--sklearn-color-text);\n",
       "  /* unfitted */\n",
       "  background-color: var(--sklearn-color-unfitted-level-0);\n",
       "}\n",
       "\n",
       "#sk-container-id-4 div.sk-toggleable__content.fitted pre {\n",
       "  /* unfitted */\n",
       "  background-color: var(--sklearn-color-fitted-level-0);\n",
       "}\n",
       "\n",
       "#sk-container-id-4 input.sk-toggleable__control:checked~div.sk-toggleable__content {\n",
       "  /* Expand drop-down */\n",
       "  max-height: 200px;\n",
       "  max-width: 100%;\n",
       "  overflow: auto;\n",
       "}\n",
       "\n",
       "#sk-container-id-4 input.sk-toggleable__control:checked~label.sk-toggleable__label-arrow:before {\n",
       "  content: \"▾\";\n",
       "}\n",
       "\n",
       "/* Pipeline/ColumnTransformer-specific style */\n",
       "\n",
       "#sk-container-id-4 div.sk-label input.sk-toggleable__control:checked~label.sk-toggleable__label {\n",
       "  color: var(--sklearn-color-text);\n",
       "  background-color: var(--sklearn-color-unfitted-level-2);\n",
       "}\n",
       "\n",
       "#sk-container-id-4 div.sk-label.fitted input.sk-toggleable__control:checked~label.sk-toggleable__label {\n",
       "  background-color: var(--sklearn-color-fitted-level-2);\n",
       "}\n",
       "\n",
       "/* Estimator-specific style */\n",
       "\n",
       "/* Colorize estimator box */\n",
       "#sk-container-id-4 div.sk-estimator input.sk-toggleable__control:checked~label.sk-toggleable__label {\n",
       "  /* unfitted */\n",
       "  background-color: var(--sklearn-color-unfitted-level-2);\n",
       "}\n",
       "\n",
       "#sk-container-id-4 div.sk-estimator.fitted input.sk-toggleable__control:checked~label.sk-toggleable__label {\n",
       "  /* fitted */\n",
       "  background-color: var(--sklearn-color-fitted-level-2);\n",
       "}\n",
       "\n",
       "#sk-container-id-4 div.sk-label label.sk-toggleable__label,\n",
       "#sk-container-id-4 div.sk-label label {\n",
       "  /* The background is the default theme color */\n",
       "  color: var(--sklearn-color-text-on-default-background);\n",
       "}\n",
       "\n",
       "/* On hover, darken the color of the background */\n",
       "#sk-container-id-4 div.sk-label:hover label.sk-toggleable__label {\n",
       "  color: var(--sklearn-color-text);\n",
       "  background-color: var(--sklearn-color-unfitted-level-2);\n",
       "}\n",
       "\n",
       "/* Label box, darken color on hover, fitted */\n",
       "#sk-container-id-4 div.sk-label.fitted:hover label.sk-toggleable__label.fitted {\n",
       "  color: var(--sklearn-color-text);\n",
       "  background-color: var(--sklearn-color-fitted-level-2);\n",
       "}\n",
       "\n",
       "/* Estimator label */\n",
       "\n",
       "#sk-container-id-4 div.sk-label label {\n",
       "  font-family: monospace;\n",
       "  font-weight: bold;\n",
       "  display: inline-block;\n",
       "  line-height: 1.2em;\n",
       "}\n",
       "\n",
       "#sk-container-id-4 div.sk-label-container {\n",
       "  text-align: center;\n",
       "}\n",
       "\n",
       "/* Estimator-specific */\n",
       "#sk-container-id-4 div.sk-estimator {\n",
       "  font-family: monospace;\n",
       "  border: 1px dotted var(--sklearn-color-border-box);\n",
       "  border-radius: 0.25em;\n",
       "  box-sizing: border-box;\n",
       "  margin-bottom: 0.5em;\n",
       "  /* unfitted */\n",
       "  background-color: var(--sklearn-color-unfitted-level-0);\n",
       "}\n",
       "\n",
       "#sk-container-id-4 div.sk-estimator.fitted {\n",
       "  /* fitted */\n",
       "  background-color: var(--sklearn-color-fitted-level-0);\n",
       "}\n",
       "\n",
       "/* on hover */\n",
       "#sk-container-id-4 div.sk-estimator:hover {\n",
       "  /* unfitted */\n",
       "  background-color: var(--sklearn-color-unfitted-level-2);\n",
       "}\n",
       "\n",
       "#sk-container-id-4 div.sk-estimator.fitted:hover {\n",
       "  /* fitted */\n",
       "  background-color: var(--sklearn-color-fitted-level-2);\n",
       "}\n",
       "\n",
       "/* Specification for estimator info (e.g. \"i\" and \"?\") */\n",
       "\n",
       "/* Common style for \"i\" and \"?\" */\n",
       "\n",
       ".sk-estimator-doc-link,\n",
       "a:link.sk-estimator-doc-link,\n",
       "a:visited.sk-estimator-doc-link {\n",
       "  float: right;\n",
       "  font-size: smaller;\n",
       "  line-height: 1em;\n",
       "  font-family: monospace;\n",
       "  background-color: var(--sklearn-color-background);\n",
       "  border-radius: 1em;\n",
       "  height: 1em;\n",
       "  width: 1em;\n",
       "  text-decoration: none !important;\n",
       "  margin-left: 1ex;\n",
       "  /* unfitted */\n",
       "  border: var(--sklearn-color-unfitted-level-1) 1pt solid;\n",
       "  color: var(--sklearn-color-unfitted-level-1);\n",
       "}\n",
       "\n",
       ".sk-estimator-doc-link.fitted,\n",
       "a:link.sk-estimator-doc-link.fitted,\n",
       "a:visited.sk-estimator-doc-link.fitted {\n",
       "  /* fitted */\n",
       "  border: var(--sklearn-color-fitted-level-1) 1pt solid;\n",
       "  color: var(--sklearn-color-fitted-level-1);\n",
       "}\n",
       "\n",
       "/* On hover */\n",
       "div.sk-estimator:hover .sk-estimator-doc-link:hover,\n",
       ".sk-estimator-doc-link:hover,\n",
       "div.sk-label-container:hover .sk-estimator-doc-link:hover,\n",
       ".sk-estimator-doc-link:hover {\n",
       "  /* unfitted */\n",
       "  background-color: var(--sklearn-color-unfitted-level-3);\n",
       "  color: var(--sklearn-color-background);\n",
       "  text-decoration: none;\n",
       "}\n",
       "\n",
       "div.sk-estimator.fitted:hover .sk-estimator-doc-link.fitted:hover,\n",
       ".sk-estimator-doc-link.fitted:hover,\n",
       "div.sk-label-container:hover .sk-estimator-doc-link.fitted:hover,\n",
       ".sk-estimator-doc-link.fitted:hover {\n",
       "  /* fitted */\n",
       "  background-color: var(--sklearn-color-fitted-level-3);\n",
       "  color: var(--sklearn-color-background);\n",
       "  text-decoration: none;\n",
       "}\n",
       "\n",
       "/* Span, style for the box shown on hovering the info icon */\n",
       ".sk-estimator-doc-link span {\n",
       "  display: none;\n",
       "  z-index: 9999;\n",
       "  position: relative;\n",
       "  font-weight: normal;\n",
       "  right: .2ex;\n",
       "  padding: .5ex;\n",
       "  margin: .5ex;\n",
       "  width: min-content;\n",
       "  min-width: 20ex;\n",
       "  max-width: 50ex;\n",
       "  color: var(--sklearn-color-text);\n",
       "  box-shadow: 2pt 2pt 4pt #999;\n",
       "  /* unfitted */\n",
       "  background: var(--sklearn-color-unfitted-level-0);\n",
       "  border: .5pt solid var(--sklearn-color-unfitted-level-3);\n",
       "}\n",
       "\n",
       ".sk-estimator-doc-link.fitted span {\n",
       "  /* fitted */\n",
       "  background: var(--sklearn-color-fitted-level-0);\n",
       "  border: var(--sklearn-color-fitted-level-3);\n",
       "}\n",
       "\n",
       ".sk-estimator-doc-link:hover span {\n",
       "  display: block;\n",
       "}\n",
       "\n",
       "/* \"?\"-specific style due to the `<a>` HTML tag */\n",
       "\n",
       "#sk-container-id-4 a.estimator_doc_link {\n",
       "  float: right;\n",
       "  font-size: 1rem;\n",
       "  line-height: 1em;\n",
       "  font-family: monospace;\n",
       "  background-color: var(--sklearn-color-background);\n",
       "  border-radius: 1rem;\n",
       "  height: 1rem;\n",
       "  width: 1rem;\n",
       "  text-decoration: none;\n",
       "  /* unfitted */\n",
       "  color: var(--sklearn-color-unfitted-level-1);\n",
       "  border: var(--sklearn-color-unfitted-level-1) 1pt solid;\n",
       "}\n",
       "\n",
       "#sk-container-id-4 a.estimator_doc_link.fitted {\n",
       "  /* fitted */\n",
       "  border: var(--sklearn-color-fitted-level-1) 1pt solid;\n",
       "  color: var(--sklearn-color-fitted-level-1);\n",
       "}\n",
       "\n",
       "/* On hover */\n",
       "#sk-container-id-4 a.estimator_doc_link:hover {\n",
       "  /* unfitted */\n",
       "  background-color: var(--sklearn-color-unfitted-level-3);\n",
       "  color: var(--sklearn-color-background);\n",
       "  text-decoration: none;\n",
       "}\n",
       "\n",
       "#sk-container-id-4 a.estimator_doc_link.fitted:hover {\n",
       "  /* fitted */\n",
       "  background-color: var(--sklearn-color-fitted-level-3);\n",
       "}\n",
       "</style><div id=\"sk-container-id-4\" class=\"sk-top-container\"><div class=\"sk-text-repr-fallback\"><pre>LogisticRegression(C=0.1, max_iter=5000, solver=&#x27;saga&#x27;)</pre><b>In a Jupyter environment, please rerun this cell to show the HTML representation or trust the notebook. <br />On GitHub, the HTML representation is unable to render, please try loading this page with nbviewer.org.</b></div><div class=\"sk-container\" hidden><div class=\"sk-item\"><div class=\"sk-estimator fitted sk-toggleable\"><input class=\"sk-toggleable__control sk-hidden--visually\" id=\"sk-estimator-id-4\" type=\"checkbox\" checked><label for=\"sk-estimator-id-4\" class=\"sk-toggleable__label fitted sk-toggleable__label-arrow fitted\">&nbsp;&nbsp;LogisticRegression<a class=\"sk-estimator-doc-link fitted\" rel=\"noreferrer\" target=\"_blank\" href=\"https://scikit-learn.org/1.5/modules/generated/sklearn.linear_model.LogisticRegression.html\">?<span>Documentation for LogisticRegression</span></a><span class=\"sk-estimator-doc-link fitted\">i<span>Fitted</span></span></label><div class=\"sk-toggleable__content fitted\"><pre>LogisticRegression(C=0.1, max_iter=5000, solver=&#x27;saga&#x27;)</pre></div> </div></div></div></div>"
      ],
      "text/plain": [
       "LogisticRegression(C=0.1, max_iter=5000, solver='saga')"
      ]
     },
     "execution_count": 98,
     "metadata": {},
     "output_type": "execute_result"
    }
   ],
   "source": [
    "# DictVectorizer for categorical and numerical feature transformation\n",
    "dv = DictVectorizer(sparse=False)\n",
    "\n",
    "# Convert training data to dictionary format for DictVectorizer\n",
    "train_dict = df_train[categorical + numerical].to_dict(orient='records')\n",
    "\n",
    "# Apply transformation to convert dictionaries into feature vectors\n",
    "X_train = dv.fit_transform(train_dict)\n",
    "\n",
    "# Scale the numerical features\n",
    "scaler = StandardScaler()\n",
    "X_train[:, -len(numerical):] = scaler.fit_transform(X_train[:, -len(numerical):])\n",
    "\n",
    "# Logistic regression model with increased max_iter and alternative solver\n",
    "model = LogisticRegression(max_iter=5000, solver='saga', C=0.1)\n",
    "\n",
    "# Fit the model with training data\n",
    "model.fit(X_train, y_train)"
   ]
  },
  {
   "cell_type": "code",
   "execution_count": 99,
   "id": "dd8015ff-e15d-464a-af26-6e1cd31c2ac4",
   "metadata": {},
   "outputs": [
    {
     "name": "stdout",
     "output_type": "stream",
     "text": [
      "Validation accuracy: 0.2761\n"
     ]
    }
   ],
   "source": [
    "# Convert validation data to dictionary format for DictVectorizer\n",
    "val_dict = df_val[categorical + numerical].to_dict(orient='records')\n",
    "\n",
    "# Transform validation data using the fitted DictVectorizer\n",
    "X_val = dv.transform(val_dict)\n",
    "\n",
    "# Predict probabilities for the validation data\n",
    "y_pred = model.predict_proba(X_val)[:, 1]\n",
    "\n",
    "# Make churn decision based on probability threshold of 0.5\n",
    "churn_decision = (y_pred >= 0.5)\n",
    "\n",
    "# Calculate accuracy of the predictions\n",
    "accuracy = (y_val == churn_decision).mean()\n",
    "\n",
    "# Print validation\n",
    "print(f\"Validation accuracy: {accuracy:.4f}\")"
   ]
  },
  {
   "cell_type": "code",
   "execution_count": 100,
   "id": "7439e4eb-e738-456d-8442-7478381bd615",
   "metadata": {},
   "outputs": [
    {
     "name": "stdout",
     "output_type": "stream",
     "text": [
      "Length of y_val: 1409\n"
     ]
    }
   ],
   "source": [
    "# Print\n",
    "print(f\"Length of y_val: {len(y_val)}\")"
   ]
  },
  {
   "cell_type": "code",
   "execution_count": 101,
   "id": "e23ddd55-db2b-451b-95c7-728aac7538a1",
   "metadata": {},
   "outputs": [
    {
     "name": "stdout",
     "output_type": "stream",
     "text": [
      "Number of correct predictions: 389\n",
      "Validation accuracy: 0.2761\n"
     ]
    }
   ],
   "source": [
    "# Calculate the number of correct predictions\n",
    "correct_predictions = (y_val == churn_decision).sum()\n",
    "\n",
    "# Print\n",
    "print(f\"Number of correct predictions: {correct_predictions}\")\n",
    "\n",
    "accuracy = (y_val == churn_decision).mean()\n",
    "print(f\"Validation accuracy: {accuracy:.4f}\")"
   ]
  },
  {
   "cell_type": "code",
   "execution_count": 102,
   "id": "adc895f4-eb6b-4f2f-a638-91646642b8b2",
   "metadata": {},
   "outputs": [
    {
     "name": "stdout",
     "output_type": "stream",
     "text": [
      "Accuracy: 0.8034\n"
     ]
    }
   ],
   "source": [
    "accuracy = 1132 / 1409\n",
    "print(f\"Accuracy: {accuracy:.4f}\")"
   ]
  },
  {
   "cell_type": "code",
   "execution_count": 103,
   "id": "4356bead-08a5-4be2-8ccb-aff44248e1c9",
   "metadata": {},
   "outputs": [
    {
     "data": {
      "text/plain": [
       "0.27608232789212206"
      ]
     },
     "execution_count": 103,
     "metadata": {},
     "output_type": "execute_result"
    }
   ],
   "source": [
    "accuracy_score(y_val, y_pred >= 0.5)"
   ]
  },
  {
   "cell_type": "code",
   "execution_count": 104,
   "id": "a9294bc7-cd96-49ef-8dea-8fb54fab3521",
   "metadata": {},
   "outputs": [
    {
     "name": "stdout",
     "output_type": "stream",
     "text": [
      "Threshold: 0.00, Accuracy: 0.274\n",
      "Threshold: 0.05, Accuracy: 0.276\n",
      "Threshold: 0.10, Accuracy: 0.276\n",
      "Threshold: 0.15, Accuracy: 0.276\n",
      "Threshold: 0.20, Accuracy: 0.276\n",
      "Threshold: 0.25, Accuracy: 0.276\n",
      "Threshold: 0.30, Accuracy: 0.276\n",
      "Threshold: 0.35, Accuracy: 0.276\n",
      "Threshold: 0.40, Accuracy: 0.276\n",
      "Threshold: 0.45, Accuracy: 0.276\n",
      "Threshold: 0.50, Accuracy: 0.276\n",
      "Threshold: 0.55, Accuracy: 0.276\n",
      "Threshold: 0.60, Accuracy: 0.276\n",
      "Threshold: 0.65, Accuracy: 0.276\n",
      "Threshold: 0.70, Accuracy: 0.276\n",
      "Threshold: 0.75, Accuracy: 0.276\n",
      "Threshold: 0.80, Accuracy: 0.276\n",
      "Threshold: 0.85, Accuracy: 0.276\n",
      "Threshold: 0.90, Accuracy: 0.276\n",
      "Threshold: 0.95, Accuracy: 0.280\n",
      "Threshold: 1.00, Accuracy: 0.288\n"
     ]
    }
   ],
   "source": [
    "# Thresholds from 0 to 1 in steps of 0.05\n",
    "thresholds = np.linspace(0, 1, 21)\n",
    "\n",
    "# List to store accuracy scores for each threshold\n",
    "scores = []\n",
    "\n",
    "# Iterate over thresholds and calculate accuracy\n",
    "for t in thresholds:\n",
    "    # Make churn predictions based on the current threshold\n",
    "    churn_decision = y_pred >= t\n",
    "    \n",
    "    # Calculate accuracy for the current threshold\n",
    "    score = accuracy_score(y_val, churn_decision)\n",
    "    \n",
    "    # Print the threshold and corresponding accuracy\n",
    "    print('Threshold: %.2f, Accuracy: %.3f' % (t, score))\n",
    "    \n",
    "    # Append the accuracy score to the list\n",
    "    scores.append(score)"
   ]
  },
  {
   "cell_type": "code",
   "execution_count": 105,
   "id": "8e363d32-5547-45ac-8767-124eeaa7f80f",
   "metadata": {},
   "outputs": [
    {
     "data": {
      "text/plain": [
       "[<matplotlib.lines.Line2D at 0x78c5da6e2b10>]"
      ]
     },
     "execution_count": 105,
     "metadata": {},
     "output_type": "execute_result"
    },
    {
     "data": {
      "image/png": "[encoded data removed]",
      "text/plain": [
       "<Figure size 640x480 with 1 Axes>"
      ]
     },
     "metadata": {},
     "output_type": "display_data"
    }
   ],
   "source": [
    "plt.plot(thresholds, scores)"
   ]
  },
  {
   "cell_type": "code",
   "execution_count": 106,
   "id": "11598399-d80c-4cd4-b5f8-4583a801ad32",
   "metadata": {},
   "outputs": [
    {
     "data": {
      "text/plain": [
       "Counter({True: 1235, False: 174})"
      ]
     },
     "execution_count": 106,
     "metadata": {},
     "output_type": "execute_result"
    }
   ],
   "source": [
    "# Prediction that every custumers are not churning\n",
    "Counter(y_pred >= 1.0) "
   ]
  },
  {
   "cell_type": "code",
   "execution_count": 107,
   "id": "29a4d1d7-b4cd-4dc1-b6cc-5ab3c15ada78",
   "metadata": {},
   "outputs": [
    {
     "name": "stdout",
     "output_type": "stream",
     "text": [
      "Proportion of non-churn: 0.7260\n"
     ]
    }
   ],
   "source": [
    "proportion_non_churn = 1 - y_val.mean()\n",
    "print(f\"Proportion of non-churn: {proportion_non_churn:.4f}\")"
   ]
  },
  {
   "cell_type": "code",
   "execution_count": 108,
   "id": "45a00484-8550-4ad2-a0d4-23cd0b83d600",
   "metadata": {},
   "outputs": [
    {
     "name": "stdout",
     "output_type": "stream",
     "text": [
      "Counter({0: 1023, 1: 386})\n"
     ]
    }
   ],
   "source": [
    "# Count occurrences of each class in y_val\n",
    "class_counts = Counter(y_val)\n",
    "\n",
    "print(class_counts)"
   ]
  },
  {
   "cell_type": "code",
   "execution_count": 109,
   "id": "166246ee-5e0a-4ca5-897f-3a07316fe64d",
   "metadata": {},
   "outputs": [
    {
     "name": "stdout",
     "output_type": "stream",
     "text": [
      "Number of actual positive (churn) cases: 386\n",
      "Number of actual negative (non-churn) cases: 1023\n"
     ]
    }
   ],
   "source": [
    "# Boolean masks for actual positive and negative instances\n",
    "actual_positive = (y_val == 1)  # Instances where churn occurred\n",
    "actual_negative = (y_val == 0)  # Instances where churn did not occur\n",
    "\n",
    "# Print number of actual positives and negatives\n",
    "print(f\"Number of actual positive (churn) cases: {actual_positive.sum()}\")\n",
    "print(f\"Number of actual negative (non-churn) cases: {actual_negative.sum()}\")"
   ]
  },
  {
   "cell_type": "code",
   "execution_count": 110,
   "id": "74a042c0-c9b0-4a24-ae5e-3ab93d26b031",
   "metadata": {},
   "outputs": [
    {
     "name": "stdout",
     "output_type": "stream",
     "text": [
      "Number of predicted positive (churn) cases: 1406\n",
      "Number of predicted negative (non-churn) cases: 3\n"
     ]
    }
   ],
   "source": [
    "# Set threshold for churn prediction\n",
    "t = 0.5\n",
    "\n",
    "# Create boolean masks for predicted positive (churn) and predicted negative (non-churn)\n",
    "predict_positive = (y_pred >= t)  # Predicted churn (True if probability >= 0.5)\n",
    "predict_negative = (y_pred < t)   # Predicted non-churn (True if probability < 0.5)\n",
    "\n",
    "# Print number of predicted positives and negatives\n",
    "print(f\"Number of predicted positive (churn) cases: {predict_positive.sum()}\")\n",
    "print(f\"Number of predicted negative (non-churn) cases: {predict_negative.sum()}\")"
   ]
  },
  {
   "cell_type": "code",
   "execution_count": 111,
   "id": "411e594a-74a9-42f9-93bf-902bc49d1097",
   "metadata": {},
   "outputs": [
    {
     "name": "stdout",
     "output_type": "stream",
     "text": [
      "True Positives (TP): 386\n",
      "True Negatives (TN): 3\n",
      "False Positives (FP): 1020\n",
      "False Negatives (FN): 0\n"
     ]
    }
   ],
   "source": [
    "# Calculate True Positives (TP): Correctly predicted churn cases\n",
    "tp = (predict_positive & actual_positive).sum()\n",
    "\n",
    "# Calculate True Negatives (TN): Correctly predicted non-churn cases\n",
    "tn = (predict_negative & actual_negative).sum()\n",
    "\n",
    "# Calculate False Positives (FP): Incorrectly predicted churn cases (predicted churn, actually non-churn)\n",
    "fp = (predict_positive & actual_negative).sum()\n",
    "\n",
    "# Calculate False Negatives (FN): Incorrectly predicted non-churn cases (predicted non-churn, actually churn)\n",
    "fn = (predict_negative & actual_positive).sum()\n",
    "\n",
    "# Print results\n",
    "print(f\"True Positives (TP): {tp}\")\n",
    "print(f\"True Negatives (TN): {tn}\")\n",
    "print(f\"False Positives (FP): {fp}\")\n",
    "print(f\"False Negatives (FN): {fn}\")"
   ]
  },
  {
   "cell_type": "code",
   "execution_count": 112,
   "id": "5c88c1ae-de86-4a01-b6f3-b890c86d1ebf",
   "metadata": {},
   "outputs": [
    {
     "name": "stdout",
     "output_type": "stream",
     "text": [
      "Confusion Matrix:\n",
      "[[   3 1020]\n",
      " [   0  386]]\n"
     ]
    },
    {
     "data": {
      "image/png": "[encoded data removed]",
      "text/plain": [
       "<Figure size 500x500 with 1 Axes>"
      ]
     },
     "metadata": {},
     "output_type": "display_data"
    }
   ],
   "source": [
    "# Calculate True Positives (TP), True Negatives (TN), False Positives (FP), False Negatives (FN)\n",
    "tp = (predict_positive & actual_positive).sum()\n",
    "tn = (predict_negative & actual_negative).sum()\n",
    "fp = (predict_positive & actual_negative).sum()\n",
    "fn = (predict_negative & actual_positive).sum()\n",
    "\n",
    "# Create confusion matrix as a 2x2 numpy array\n",
    "confusion_matrix = np.array([[tn, fp], \n",
    "                             [fn, tp]])\n",
    "\n",
    "# Print the confusion matrix values\n",
    "print(\"Confusion Matrix:\")\n",
    "print(confusion_matrix)\n",
    "\n",
    "# Plot the confusion matrix using seaborn heatmap\n",
    "plt.figure(figsize=(5, 5))\n",
    "sns.heatmap(confusion_matrix, annot=True, fmt=\"d\", cmap=\"Blues\", cbar=False, \n",
    "            xticklabels=[\"Predicted Non-Churn\", \"Predicted Churn\"], \n",
    "            yticklabels=[\"Actual Non-Churn\", \"Actual Churn\"])\n",
    "\n",
    "# Set axis labels and title\n",
    "plt.xlabel('Predicted')\n",
    "plt.ylabel('Actual')\n",
    "plt.title('Confusion Matrix')\n",
    "\n",
    "# Plot\n",
    "plt.show()"
   ]
  },
  {
   "cell_type": "code",
   "execution_count": 113,
   "id": "f4568b88-862b-45a1-bda8-94b074ae9e82",
   "metadata": {},
   "outputs": [
    {
     "name": "stdout",
     "output_type": "stream",
     "text": [
      "Confusion Matrix:\n",
      "[[   3 1020]\n",
      " [   0  386]]\n"
     ]
    }
   ],
   "source": [
    "# Create the confusion matrix\n",
    "confusion_matrix = np.array([\n",
    "    [tn, fp],  # Row for actual negative cases\n",
    "    [fn, tp]   # Row for actual positive cases\n",
    "])\n",
    "\n",
    "# Display confusion matrix\n",
    "print(\"Confusion Matrix:\")\n",
    "print(confusion_matrix)"
   ]
  },
  {
   "cell_type": "code",
   "execution_count": 114,
   "id": "f03e8c82-1820-46ee-984c-dead9b36fae3",
   "metadata": {},
   "outputs": [
    {
     "name": "stdout",
     "output_type": "stream",
     "text": [
      "Normalized Confusion Matrix:\n",
      "[[0.   0.72]\n",
      " [0.   0.27]]\n"
     ]
    }
   ],
   "source": [
    "# Normalize the confusion matrix by dividing each element by the total sum of the matrix\n",
    "normalized_confusion_matrix = (confusion_matrix / confusion_matrix.sum()).round(2)\n",
    "\n",
    "# Display normalized confusion matrix\n",
    "print(\"Normalized Confusion Matrix:\")\n",
    "print(normalized_confusion_matrix)"
   ]
  },
  {
   "cell_type": "code",
   "execution_count": 115,
   "id": "80677af3-9fcd-4dc2-81f7-c9695ab24e4a",
   "metadata": {},
   "outputs": [
    {
     "name": "stdout",
     "output_type": "stream",
     "text": [
      "Precision: 0.2745\n"
     ]
    }
   ],
   "source": [
    "# Calculate precision\n",
    "p = tp / (tp + fp)\n",
    "\n",
    "# Display precision value\n",
    "print(f\"Precision: {p:.4f}\")"
   ]
  },
  {
   "cell_type": "code",
   "execution_count": 116,
   "id": "7626fa2a-9939-4c44-ba92-3ee56b189deb",
   "metadata": {},
   "outputs": [
    {
     "name": "stdout",
     "output_type": "stream",
     "text": [
      "Recall: 1.0000\n"
     ]
    }
   ],
   "source": [
    "# Calculate recall (sensitivity)\n",
    "r = tp / (tp + fn)\n",
    "\n",
    "# Display recall value\n",
    "print(f\"Recall: {r:.4f}\")"
   ]
  },
  {
   "cell_type": "code",
   "execution_count": 117,
   "id": "7eea4965-c703-488d-a02e-0b1c51b3f70f",
   "metadata": {},
   "outputs": [
    {
     "name": "stdout",
     "output_type": "stream",
     "text": [
      "False Positive Rate (FPR): 0.9971\n"
     ]
    }
   ],
   "source": [
    "# Calculate false positive rate (FPR)\n",
    "fpr = fp / (fp + tn)\n",
    "\n",
    "# Display false positive rate\n",
    "print(f\"False Positive Rate (FPR): {fpr:.4f}\")"
   ]
  },
  {
   "cell_type": "code",
   "execution_count": 118,
   "id": "d80d29d7-b57c-48e5-8045-14887e9d9709",
   "metadata": {},
   "outputs": [
    {
     "data": {
      "text/plain": [
       "1.0"
      ]
     },
     "execution_count": 118,
     "metadata": {},
     "output_type": "execute_result"
    }
   ],
   "source": [
    "tpr = tp / (tp + fn)\n",
    "tpr"
   ]
  },
  {
   "cell_type": "code",
   "execution_count": 119,
   "id": "1170f9af-9946-4f3d-8d2a-7973ebe86dcc",
   "metadata": {},
   "outputs": [
    {
     "name": "stdout",
     "output_type": "stream",
     "text": [
      "Threshold: 0.00, TP: 386, FP: 1023, FN: 0, TN: 0\n",
      "Threshold: 0.01, TP: 386, FP: 1023, FN: 0, TN: 0\n",
      "Threshold: 0.02, TP: 386, FP: 1023, FN: 0, TN: 0\n",
      "Threshold: 0.03, TP: 386, FP: 1023, FN: 0, TN: 0\n",
      "Threshold: 0.04, TP: 386, FP: 1020, FN: 0, TN: 3\n",
      "Threshold: 0.05, TP: 386, FP: 1020, FN: 0, TN: 3\n",
      "Threshold: 0.06, TP: 386, FP: 1020, FN: 0, TN: 3\n",
      "Threshold: 0.07, TP: 386, FP: 1020, FN: 0, TN: 3\n",
      "Threshold: 0.08, TP: 386, FP: 1020, FN: 0, TN: 3\n",
      "Threshold: 0.09, TP: 386, FP: 1020, FN: 0, TN: 3\n",
      "Threshold: 0.10, TP: 386, FP: 1020, FN: 0, TN: 3\n",
      "Threshold: 0.11, TP: 386, FP: 1020, FN: 0, TN: 3\n",
      "Threshold: 0.12, TP: 386, FP: 1020, FN: 0, TN: 3\n",
      "Threshold: 0.13, TP: 386, FP: 1020, FN: 0, TN: 3\n",
      "Threshold: 0.14, TP: 386, FP: 1020, FN: 0, TN: 3\n",
      "Threshold: 0.15, TP: 386, FP: 1020, FN: 0, TN: 3\n",
      "Threshold: 0.16, TP: 386, FP: 1020, FN: 0, TN: 3\n",
      "Threshold: 0.17, TP: 386, FP: 1020, FN: 0, TN: 3\n",
      "Threshold: 0.18, TP: 386, FP: 1020, FN: 0, TN: 3\n",
      "Threshold: 0.19, TP: 386, FP: 1020, FN: 0, TN: 3\n",
      "Threshold: 0.20, TP: 386, FP: 1020, FN: 0, TN: 3\n",
      "Threshold: 0.21, TP: 386, FP: 1020, FN: 0, TN: 3\n",
      "Threshold: 0.22, TP: 386, FP: 1020, FN: 0, TN: 3\n",
      "Threshold: 0.23, TP: 386, FP: 1020, FN: 0, TN: 3\n",
      "Threshold: 0.24, TP: 386, FP: 1020, FN: 0, TN: 3\n",
      "Threshold: 0.25, TP: 386, FP: 1020, FN: 0, TN: 3\n",
      "Threshold: 0.26, TP: 386, FP: 1020, FN: 0, TN: 3\n",
      "Threshold: 0.27, TP: 386, FP: 1020, FN: 0, TN: 3\n",
      "Threshold: 0.28, TP: 386, FP: 1020, FN: 0, TN: 3\n",
      "Threshold: 0.29, TP: 386, FP: 1020, FN: 0, TN: 3\n",
      "Threshold: 0.30, TP: 386, FP: 1020, FN: 0, TN: 3\n",
      "Threshold: 0.31, TP: 386, FP: 1020, FN: 0, TN: 3\n",
      "Threshold: 0.32, TP: 386, FP: 1020, FN: 0, TN: 3\n",
      "Threshold: 0.33, TP: 386, FP: 1020, FN: 0, TN: 3\n",
      "Threshold: 0.34, TP: 386, FP: 1020, FN: 0, TN: 3\n",
      "Threshold: 0.35, TP: 386, FP: 1020, FN: 0, TN: 3\n",
      "Threshold: 0.36, TP: 386, FP: 1020, FN: 0, TN: 3\n",
      "Threshold: 0.37, TP: 386, FP: 1020, FN: 0, TN: 3\n",
      "Threshold: 0.38, TP: 386, FP: 1020, FN: 0, TN: 3\n",
      "Threshold: 0.39, TP: 386, FP: 1020, FN: 0, TN: 3\n",
      "Threshold: 0.40, TP: 386, FP: 1020, FN: 0, TN: 3\n",
      "Threshold: 0.41, TP: 386, FP: 1020, FN: 0, TN: 3\n",
      "Threshold: 0.42, TP: 386, FP: 1020, FN: 0, TN: 3\n",
      "Threshold: 0.43, TP: 386, FP: 1020, FN: 0, TN: 3\n",
      "Threshold: 0.44, TP: 386, FP: 1020, FN: 0, TN: 3\n",
      "Threshold: 0.45, TP: 386, FP: 1020, FN: 0, TN: 3\n",
      "Threshold: 0.46, TP: 386, FP: 1020, FN: 0, TN: 3\n",
      "Threshold: 0.47, TP: 386, FP: 1020, FN: 0, TN: 3\n",
      "Threshold: 0.48, TP: 386, FP: 1020, FN: 0, TN: 3\n",
      "Threshold: 0.49, TP: 386, FP: 1020, FN: 0, TN: 3\n",
      "Threshold: 0.50, TP: 386, FP: 1020, FN: 0, TN: 3\n",
      "Threshold: 0.51, TP: 386, FP: 1020, FN: 0, TN: 3\n",
      "Threshold: 0.52, TP: 386, FP: 1020, FN: 0, TN: 3\n",
      "Threshold: 0.53, TP: 386, FP: 1020, FN: 0, TN: 3\n",
      "Threshold: 0.54, TP: 386, FP: 1020, FN: 0, TN: 3\n",
      "Threshold: 0.55, TP: 386, FP: 1020, FN: 0, TN: 3\n",
      "Threshold: 0.56, TP: 386, FP: 1020, FN: 0, TN: 3\n",
      "Threshold: 0.57, TP: 386, FP: 1020, FN: 0, TN: 3\n",
      "Threshold: 0.58, TP: 386, FP: 1020, FN: 0, TN: 3\n",
      "Threshold: 0.59, TP: 386, FP: 1020, FN: 0, TN: 3\n",
      "Threshold: 0.60, TP: 386, FP: 1020, FN: 0, TN: 3\n",
      "Threshold: 0.61, TP: 386, FP: 1020, FN: 0, TN: 3\n",
      "Threshold: 0.62, TP: 386, FP: 1020, FN: 0, TN: 3\n",
      "Threshold: 0.63, TP: 386, FP: 1020, FN: 0, TN: 3\n",
      "Threshold: 0.64, TP: 386, FP: 1020, FN: 0, TN: 3\n",
      "Threshold: 0.65, TP: 386, FP: 1020, FN: 0, TN: 3\n",
      "Threshold: 0.66, TP: 386, FP: 1020, FN: 0, TN: 3\n",
      "Threshold: 0.67, TP: 386, FP: 1020, FN: 0, TN: 3\n",
      "Threshold: 0.68, TP: 386, FP: 1020, FN: 0, TN: 3\n",
      "Threshold: 0.69, TP: 386, FP: 1020, FN: 0, TN: 3\n",
      "Threshold: 0.70, TP: 386, FP: 1020, FN: 0, TN: 3\n",
      "Threshold: 0.71, TP: 386, FP: 1020, FN: 0, TN: 3\n",
      "Threshold: 0.72, TP: 386, FP: 1020, FN: 0, TN: 3\n",
      "Threshold: 0.73, TP: 386, FP: 1020, FN: 0, TN: 3\n",
      "Threshold: 0.74, TP: 386, FP: 1020, FN: 0, TN: 3\n",
      "Threshold: 0.75, TP: 386, FP: 1020, FN: 0, TN: 3\n",
      "Threshold: 0.76, TP: 386, FP: 1020, FN: 0, TN: 3\n",
      "Threshold: 0.77, TP: 386, FP: 1020, FN: 0, TN: 3\n",
      "Threshold: 0.78, TP: 386, FP: 1020, FN: 0, TN: 3\n",
      "Threshold: 0.79, TP: 386, FP: 1020, FN: 0, TN: 3\n",
      "Threshold: 0.80, TP: 386, FP: 1020, FN: 0, TN: 3\n",
      "Threshold: 0.81, TP: 386, FP: 1020, FN: 0, TN: 3\n",
      "Threshold: 0.82, TP: 386, FP: 1020, FN: 0, TN: 3\n",
      "Threshold: 0.83, TP: 386, FP: 1020, FN: 0, TN: 3\n",
      "Threshold: 0.84, TP: 386, FP: 1020, FN: 0, TN: 3\n",
      "Threshold: 0.85, TP: 386, FP: 1020, FN: 0, TN: 3\n",
      "Threshold: 0.86, TP: 386, FP: 1020, FN: 0, TN: 3\n",
      "Threshold: 0.87, TP: 386, FP: 1020, FN: 0, TN: 3\n",
      "Threshold: 0.88, TP: 386, FP: 1020, FN: 0, TN: 3\n",
      "Threshold: 0.89, TP: 386, FP: 1020, FN: 0, TN: 3\n",
      "Threshold: 0.90, TP: 386, FP: 1020, FN: 0, TN: 3\n",
      "Threshold: 0.91, TP: 386, FP: 1020, FN: 0, TN: 3\n",
      "Threshold: 0.92, TP: 386, FP: 1020, FN: 0, TN: 3\n",
      "Threshold: 0.93, TP: 386, FP: 1020, FN: 0, TN: 3\n",
      "Threshold: 0.94, TP: 386, FP: 1014, FN: 0, TN: 9\n",
      "Threshold: 0.95, TP: 383, FP: 1011, FN: 3, TN: 12\n",
      "Threshold: 0.96, TP: 382, FP: 1005, FN: 4, TN: 18\n",
      "Threshold: 0.97, TP: 378, FP: 1002, FN: 8, TN: 21\n",
      "Threshold: 0.98, TP: 378, FP: 1002, FN: 8, TN: 21\n",
      "Threshold: 0.99, TP: 378, FP: 1002, FN: 8, TN: 21\n",
      "Threshold: 1.00, TP: 309, FP: 926, FN: 77, TN: 97\n"
     ]
    }
   ],
   "source": [
    "# Initialize an empty list to store scores for each threshold\n",
    "scores = []\n",
    "\n",
    "# Define thresholds from 0 to 1 with 101 steps\n",
    "thresholds = np.linspace(0, 1, 101)\n",
    "\n",
    "# Loop over each threshold and calculate TP, FP, FN, TN\n",
    "for t in thresholds:\n",
    "    # Define actual positive and negative cases\n",
    "    actual_positive = (y_val == 1)\n",
    "    actual_negative = (y_val == 0)\n",
    "    \n",
    "    # Define predicted positive and negative cases based on threshold t\n",
    "    predict_positive = (y_pred >= t)\n",
    "    predict_negative = (y_pred < t)\n",
    "\n",
    "    # Calculate TP, TN, FP, FN\n",
    "    tp = (predict_positive & actual_positive).sum()\n",
    "    tn = (predict_negative & actual_negative).sum()\n",
    "    fp = (predict_positive & actual_negative).sum()\n",
    "    fn = (predict_negative & actual_positive).sum()\n",
    "    \n",
    "    # Append the threshold and the corresponding metrics to the scores list\n",
    "    scores.append((t, tp, fp, fn, tn))\n",
    "\n",
    "# Print the results\n",
    "for score in scores:\n",
    "    print(f\"Threshold: {score[0]:.2f}, TP: {score[1]}, FP: {score[2]}, FN: {score[3]}, TN: {score[4]}\")"
   ]
  },
  {
   "cell_type": "code",
   "execution_count": 120,
   "id": "e0d3b6cc-b330-49ef-95b2-a2ea87705357",
   "metadata": {},
   "outputs": [
    {
     "name": "stdout",
     "output_type": "stream",
     "text": [
      "   threshold   tp    fp  fn  tn  tpr       fpr\n",
      "0       0.00  386  1023   0   0  1.0  1.000000\n",
      "1       0.01  386  1023   0   0  1.0  1.000000\n",
      "2       0.02  386  1023   0   0  1.0  1.000000\n",
      "3       0.03  386  1023   0   0  1.0  1.000000\n",
      "4       0.04  386  1020   0   3  1.0  0.997067\n"
     ]
    }
   ],
   "source": [
    "# Columns for the DataFrame\n",
    "columns = ['threshold', 'tp', 'fp', 'fn', 'tn']\n",
    "\n",
    "# Create a DataFrame from the scores list\n",
    "df_scores = pd.DataFrame(scores, columns=columns)\n",
    "\n",
    "# Calculate True Positive Rate (TPR) - also known as Recall or Sensitivity\n",
    "df_scores['tpr'] = df_scores.tp / (df_scores.tp + df_scores.fn)\n",
    "\n",
    "# Calculate False Positive Rate (FPR)\n",
    "df_scores['fpr'] = df_scores.fp / (df_scores.fp + df_scores.tn)\n",
    "\n",
    "# Display DataFrame\n",
    "print(df_scores.head())"
   ]
  },
  {
   "cell_type": "code",
   "execution_count": 121,
   "id": "5ae018aa-03ae-49ef-8ff6-b26ca3794576",
   "metadata": {},
   "outputs": [
    {
     "data": {
      "text/html": [
       "<div>\n",
       "<style scoped>\n",
       "    .dataframe tbody tr th:only-of-type {\n",
       "        vertical-align: middle;\n",
       "    }\n",
       "\n",
       "    .dataframe tbody tr th {\n",
       "        vertical-align: top;\n",
       "    }\n",
       "\n",
       "    .dataframe thead th {\n",
       "        text-align: right;\n",
       "    }\n",
       "</style>\n",
       "<table border=\"1\" class=\"dataframe\">\n",
       "  <thead>\n",
       "    <tr style=\"text-align: right;\">\n",
       "      <th></th>\n",
       "      <th>threshold</th>\n",
       "      <th>tp</th>\n",
       "      <th>fp</th>\n",
       "      <th>fn</th>\n",
       "      <th>tn</th>\n",
       "      <th>tpr</th>\n",
       "      <th>fpr</th>\n",
       "    </tr>\n",
       "  </thead>\n",
       "  <tbody>\n",
       "    <tr>\n",
       "      <th>0</th>\n",
       "      <td>0.0</td>\n",
       "      <td>386</td>\n",
       "      <td>1023</td>\n",
       "      <td>0</td>\n",
       "      <td>0</td>\n",
       "      <td>1.000000</td>\n",
       "      <td>1.000000</td>\n",
       "    </tr>\n",
       "    <tr>\n",
       "      <th>10</th>\n",
       "      <td>0.1</td>\n",
       "      <td>386</td>\n",
       "      <td>1020</td>\n",
       "      <td>0</td>\n",
       "      <td>3</td>\n",
       "      <td>1.000000</td>\n",
       "      <td>0.997067</td>\n",
       "    </tr>\n",
       "    <tr>\n",
       "      <th>20</th>\n",
       "      <td>0.2</td>\n",
       "      <td>386</td>\n",
       "      <td>1020</td>\n",
       "      <td>0</td>\n",
       "      <td>3</td>\n",
       "      <td>1.000000</td>\n",
       "      <td>0.997067</td>\n",
       "    </tr>\n",
       "    <tr>\n",
       "      <th>30</th>\n",
       "      <td>0.3</td>\n",
       "      <td>386</td>\n",
       "      <td>1020</td>\n",
       "      <td>0</td>\n",
       "      <td>3</td>\n",
       "      <td>1.000000</td>\n",
       "      <td>0.997067</td>\n",
       "    </tr>\n",
       "    <tr>\n",
       "      <th>40</th>\n",
       "      <td>0.4</td>\n",
       "      <td>386</td>\n",
       "      <td>1020</td>\n",
       "      <td>0</td>\n",
       "      <td>3</td>\n",
       "      <td>1.000000</td>\n",
       "      <td>0.997067</td>\n",
       "    </tr>\n",
       "    <tr>\n",
       "      <th>50</th>\n",
       "      <td>0.5</td>\n",
       "      <td>386</td>\n",
       "      <td>1020</td>\n",
       "      <td>0</td>\n",
       "      <td>3</td>\n",
       "      <td>1.000000</td>\n",
       "      <td>0.997067</td>\n",
       "    </tr>\n",
       "    <tr>\n",
       "      <th>60</th>\n",
       "      <td>0.6</td>\n",
       "      <td>386</td>\n",
       "      <td>1020</td>\n",
       "      <td>0</td>\n",
       "      <td>3</td>\n",
       "      <td>1.000000</td>\n",
       "      <td>0.997067</td>\n",
       "    </tr>\n",
       "    <tr>\n",
       "      <th>70</th>\n",
       "      <td>0.7</td>\n",
       "      <td>386</td>\n",
       "      <td>1020</td>\n",
       "      <td>0</td>\n",
       "      <td>3</td>\n",
       "      <td>1.000000</td>\n",
       "      <td>0.997067</td>\n",
       "    </tr>\n",
       "    <tr>\n",
       "      <th>80</th>\n",
       "      <td>0.8</td>\n",
       "      <td>386</td>\n",
       "      <td>1020</td>\n",
       "      <td>0</td>\n",
       "      <td>3</td>\n",
       "      <td>1.000000</td>\n",
       "      <td>0.997067</td>\n",
       "    </tr>\n",
       "    <tr>\n",
       "      <th>90</th>\n",
       "      <td>0.9</td>\n",
       "      <td>386</td>\n",
       "      <td>1020</td>\n",
       "      <td>0</td>\n",
       "      <td>3</td>\n",
       "      <td>1.000000</td>\n",
       "      <td>0.997067</td>\n",
       "    </tr>\n",
       "    <tr>\n",
       "      <th>100</th>\n",
       "      <td>1.0</td>\n",
       "      <td>309</td>\n",
       "      <td>926</td>\n",
       "      <td>77</td>\n",
       "      <td>97</td>\n",
       "      <td>0.800518</td>\n",
       "      <td>0.905181</td>\n",
       "    </tr>\n",
       "  </tbody>\n",
       "</table>\n",
       "</div>"
      ],
      "text/plain": [
       "     threshold   tp    fp  fn  tn       tpr       fpr\n",
       "0          0.0  386  1023   0   0  1.000000  1.000000\n",
       "10         0.1  386  1020   0   3  1.000000  0.997067\n",
       "20         0.2  386  1020   0   3  1.000000  0.997067\n",
       "30         0.3  386  1020   0   3  1.000000  0.997067\n",
       "40         0.4  386  1020   0   3  1.000000  0.997067\n",
       "50         0.5  386  1020   0   3  1.000000  0.997067\n",
       "60         0.6  386  1020   0   3  1.000000  0.997067\n",
       "70         0.7  386  1020   0   3  1.000000  0.997067\n",
       "80         0.8  386  1020   0   3  1.000000  0.997067\n",
       "90         0.9  386  1020   0   3  1.000000  0.997067\n",
       "100        1.0  309   926  77  97  0.800518  0.905181"
      ]
     },
     "execution_count": 121,
     "metadata": {},
     "output_type": "execute_result"
    }
   ],
   "source": [
    "df_scores[::10]"
   ]
  },
  {
   "cell_type": "code",
   "execution_count": 122,
   "id": "781a64db-66ad-4485-b1b3-31ea3b4d5506",
   "metadata": {},
   "outputs": [
    {
     "data": {
      "image/png": "[encoded data removed]",
      "text/plain": [
       "<Figure size 640x480 with 1 Axes>"
      ]
     },
     "metadata": {},
     "output_type": "display_data"
    }
   ],
   "source": [
    "# Define columns for the DataFrame\n",
    "columns = ['threshold', 'tp', 'fp', 'fn', 'tn']\n",
    "\n",
    "# Create a DataFrame from the scores list\n",
    "df_scores = pd.DataFrame(scores, columns=columns)\n",
    "\n",
    "# Calculate True Positive Rate (TPR)\n",
    "df_scores['tpr'] = df_scores.tp / (df_scores.tp + df_scores.fn)\n",
    "\n",
    "# Calculate False Positive Rate (FPR)\n",
    "df_scores['fpr'] = df_scores.fp / (df_scores.fp + df_scores.tn)\n",
    "\n",
    "# Plot TPR and FPR as functions of the threshold\n",
    "plt.plot(df_scores.threshold, df_scores['tpr'], label='TPR')\n",
    "plt.plot(df_scores.threshold, df_scores['fpr'], label='FPR')\n",
    "\n",
    "plt.legend()\n",
    "plt.xlabel('Threshold')\n",
    "plt.ylabel('Rate')\n",
    "plt.title('TPR and FPR vs Threshold')\n",
    "\n",
    "# Plot\n",
    "plt.show()"
   ]
  },
  {
   "cell_type": "code",
   "execution_count": 123,
   "id": "6acff0b1-9673-4dd8-abf4-198b558ad010",
   "metadata": {},
   "outputs": [
    {
     "name": "stdout",
     "output_type": "stream",
     "text": [
      "[0.417 0.72  0.    ... 0.774 0.334 0.089]\n"
     ]
    }
   ],
   "source": [
    "# Set the random seed for reproducibility\n",
    "np.random.seed(1)\n",
    "\n",
    "# Generate random uniform values between 0 and 1 with the same length as y_val\n",
    "y_rand = np.random.uniform(0, 1, size=len(y_val))\n",
    "\n",
    "# Round the generated values to 3 decimal places\n",
    "y_rand_rounded = y_rand.round(3)\n",
    "\n",
    "# Display rounded random values\n",
    "print(y_rand_rounded)"
   ]
  },
  {
   "cell_type": "code",
   "execution_count": 124,
   "id": "dceb0a98-8f30-454c-b707-80934a94bb9e",
   "metadata": {},
   "outputs": [
    {
     "data": {
      "text/plain": [
       "0.5017743080198722"
      ]
     },
     "execution_count": 124,
     "metadata": {},
     "output_type": "execute_result"
    }
   ],
   "source": [
    "((y_rand >= 0.5) == y_val).mean()"
   ]
  },
  {
   "cell_type": "code",
   "execution_count": 125,
   "id": "498d258d-ea87-4aad-bb3a-7bd8d790ddae",
   "metadata": {},
   "outputs": [],
   "source": [
    "def tpr_fpr_dataframe(y_val, y_pred):\n",
    "    scores = []\n",
    "\n",
    "    thresholds = np.linspace(0, 1, 101)\n",
    "\n",
    "    for t in thresholds:\n",
    "        actual_positive = (y_val == 1)\n",
    "        actual_negative = (y_val == 0)\n",
    "\n",
    "        predict_positive = (y_pred >= t)\n",
    "        predict_negative = (y_pred < t)\n",
    "\n",
    "        tp = (predict_positive & actual_positive).sum()\n",
    "        tn = (predict_negative & actual_negative).sum()\n",
    "\n",
    "        fp = (predict_positive & actual_negative).sum()\n",
    "        fn = (predict_negative & actual_positive).sum()\n",
    "\n",
    "        scores.append((t, tp, fp, fn, tn))\n",
    "\n",
    "    columns = ['threshold', 'tp', 'fp', 'fn', 'tn']\n",
    "    df_scores = pd.DataFrame(scores, columns=columns)\n",
    "\n",
    "    df_scores['tpr'] = df_scores.tp / (df_scores.tp + df_scores.fn)\n",
    "    df_scores['fpr'] = df_scores.fp / (df_scores.fp + df_scores.tn)\n",
    "    \n",
    "    return df_scores"
   ]
  },
  {
   "cell_type": "code",
   "execution_count": 126,
   "id": "db2ab9d1-6727-4028-8b7a-5177db531ba2",
   "metadata": {},
   "outputs": [],
   "source": [
    "df_rand = tpr_fpr_dataframe(y_val, y_rand)"
   ]
  },
  {
   "cell_type": "code",
   "execution_count": 127,
   "id": "0f1ad342-26de-49bd-87fa-93bde5af9fef",
   "metadata": {},
   "outputs": [
    {
     "data": {
      "text/plain": [
       "<matplotlib.legend.Legend at 0x78c5da1f9f10>"
      ]
     },
     "execution_count": 127,
     "metadata": {},
     "output_type": "execute_result"
    },
    {
     "data": {
      "image/png": "[encoded data removed]",
      "text/plain": [
       "<Figure size 640x480 with 1 Axes>"
      ]
     },
     "metadata": {},
     "output_type": "display_data"
    }
   ],
   "source": [
    "plt.plot(df_rand.threshold, df_rand['tpr'], label='TPR')\n",
    "plt.plot(df_rand.threshold, df_rand['fpr'], label='FPR')\n",
    "plt.legend()"
   ]
  },
  {
   "cell_type": "code",
   "execution_count": 128,
   "id": "c067636c-8d5d-4359-b14a-46d0b1c22cee",
   "metadata": {},
   "outputs": [
    {
     "data": {
      "text/plain": [
       "(1023, 386)"
      ]
     },
     "execution_count": 128,
     "metadata": {},
     "output_type": "execute_result"
    }
   ],
   "source": [
    "num_neg = (y_val == 0).sum()\n",
    "num_pos = (y_val == 1).sum()\n",
    "num_neg, num_pos"
   ]
  },
  {
   "cell_type": "code",
   "execution_count": 129,
   "id": "5b01b760-d593-47cf-9514-90295d030e91",
   "metadata": {},
   "outputs": [
    {
     "name": "stdout",
     "output_type": "stream",
     "text": [
      "y_ideal: [0 0 0 0 0 0 0 0 0 0]\n",
      "y_ideal_pred: [0.         0.001001   0.002002   0.003003   0.004004   0.00500501\n",
      " 0.00600601 0.00700701 0.00800801 0.00900901]\n"
     ]
    }
   ],
   "source": [
    "num_neg = 700\n",
    "num_pos = 300 \n",
    "\n",
    "y_ideal = np.repeat([0, 1], [num_neg, num_pos])\n",
    "\n",
    "# Array\n",
    "y_ideal_pred = np.linspace(0, 1, len(y_ideal))\n",
    "\n",
    "# Display values\n",
    "print(\"y_ideal:\", y_ideal[:10])\n",
    "print(\"y_ideal_pred:\", y_ideal_pred[:10])"
   ]
  },
  {
   "cell_type": "code",
   "execution_count": 130,
   "id": "6281fde5-4b7d-4493-84f6-862a53ce7983",
   "metadata": {},
   "outputs": [
    {
     "data": {
      "text/plain": [
       "0.7260468417317246"
      ]
     },
     "execution_count": 130,
     "metadata": {},
     "output_type": "execute_result"
    }
   ],
   "source": [
    "1 - y_val.mean()"
   ]
  },
  {
   "cell_type": "code",
   "execution_count": 131,
   "id": "007aaa63-d466-4058-b770-4107a2018b71",
   "metadata": {},
   "outputs": [
    {
     "data": {
      "text/plain": [
       "0.974"
      ]
     },
     "execution_count": 131,
     "metadata": {},
     "output_type": "execute_result"
    }
   ],
   "source": [
    "accuracy_score(y_ideal, y_ideal_pred >= 0.726)"
   ]
  },
  {
   "cell_type": "code",
   "execution_count": 132,
   "id": "f7f258fd-6ebe-4fd3-9465-8e7a5cb32529",
   "metadata": {},
   "outputs": [
    {
     "data": {
      "text/html": [
       "<div>\n",
       "<style scoped>\n",
       "    .dataframe tbody tr th:only-of-type {\n",
       "        vertical-align: middle;\n",
       "    }\n",
       "\n",
       "    .dataframe tbody tr th {\n",
       "        vertical-align: top;\n",
       "    }\n",
       "\n",
       "    .dataframe thead th {\n",
       "        text-align: right;\n",
       "    }\n",
       "</style>\n",
       "<table border=\"1\" class=\"dataframe\">\n",
       "  <thead>\n",
       "    <tr style=\"text-align: right;\">\n",
       "      <th></th>\n",
       "      <th>threshold</th>\n",
       "      <th>tp</th>\n",
       "      <th>fp</th>\n",
       "      <th>fn</th>\n",
       "      <th>tn</th>\n",
       "      <th>tpr</th>\n",
       "      <th>fpr</th>\n",
       "    </tr>\n",
       "  </thead>\n",
       "  <tbody>\n",
       "    <tr>\n",
       "      <th>0</th>\n",
       "      <td>0.0</td>\n",
       "      <td>300</td>\n",
       "      <td>700</td>\n",
       "      <td>0</td>\n",
       "      <td>0</td>\n",
       "      <td>1.000000</td>\n",
       "      <td>1.000000</td>\n",
       "    </tr>\n",
       "    <tr>\n",
       "      <th>10</th>\n",
       "      <td>0.1</td>\n",
       "      <td>300</td>\n",
       "      <td>600</td>\n",
       "      <td>0</td>\n",
       "      <td>100</td>\n",
       "      <td>1.000000</td>\n",
       "      <td>0.857143</td>\n",
       "    </tr>\n",
       "    <tr>\n",
       "      <th>20</th>\n",
       "      <td>0.2</td>\n",
       "      <td>300</td>\n",
       "      <td>500</td>\n",
       "      <td>0</td>\n",
       "      <td>200</td>\n",
       "      <td>1.000000</td>\n",
       "      <td>0.714286</td>\n",
       "    </tr>\n",
       "    <tr>\n",
       "      <th>30</th>\n",
       "      <td>0.3</td>\n",
       "      <td>300</td>\n",
       "      <td>400</td>\n",
       "      <td>0</td>\n",
       "      <td>300</td>\n",
       "      <td>1.000000</td>\n",
       "      <td>0.571429</td>\n",
       "    </tr>\n",
       "    <tr>\n",
       "      <th>40</th>\n",
       "      <td>0.4</td>\n",
       "      <td>300</td>\n",
       "      <td>300</td>\n",
       "      <td>0</td>\n",
       "      <td>400</td>\n",
       "      <td>1.000000</td>\n",
       "      <td>0.428571</td>\n",
       "    </tr>\n",
       "    <tr>\n",
       "      <th>50</th>\n",
       "      <td>0.5</td>\n",
       "      <td>300</td>\n",
       "      <td>200</td>\n",
       "      <td>0</td>\n",
       "      <td>500</td>\n",
       "      <td>1.000000</td>\n",
       "      <td>0.285714</td>\n",
       "    </tr>\n",
       "    <tr>\n",
       "      <th>60</th>\n",
       "      <td>0.6</td>\n",
       "      <td>300</td>\n",
       "      <td>100</td>\n",
       "      <td>0</td>\n",
       "      <td>600</td>\n",
       "      <td>1.000000</td>\n",
       "      <td>0.142857</td>\n",
       "    </tr>\n",
       "    <tr>\n",
       "      <th>70</th>\n",
       "      <td>0.7</td>\n",
       "      <td>300</td>\n",
       "      <td>0</td>\n",
       "      <td>0</td>\n",
       "      <td>700</td>\n",
       "      <td>1.000000</td>\n",
       "      <td>0.000000</td>\n",
       "    </tr>\n",
       "    <tr>\n",
       "      <th>80</th>\n",
       "      <td>0.8</td>\n",
       "      <td>200</td>\n",
       "      <td>0</td>\n",
       "      <td>100</td>\n",
       "      <td>700</td>\n",
       "      <td>0.666667</td>\n",
       "      <td>0.000000</td>\n",
       "    </tr>\n",
       "    <tr>\n",
       "      <th>90</th>\n",
       "      <td>0.9</td>\n",
       "      <td>100</td>\n",
       "      <td>0</td>\n",
       "      <td>200</td>\n",
       "      <td>700</td>\n",
       "      <td>0.333333</td>\n",
       "      <td>0.000000</td>\n",
       "    </tr>\n",
       "    <tr>\n",
       "      <th>100</th>\n",
       "      <td>1.0</td>\n",
       "      <td>1</td>\n",
       "      <td>0</td>\n",
       "      <td>299</td>\n",
       "      <td>700</td>\n",
       "      <td>0.003333</td>\n",
       "      <td>0.000000</td>\n",
       "    </tr>\n",
       "  </tbody>\n",
       "</table>\n",
       "</div>"
      ],
      "text/plain": [
       "     threshold   tp   fp   fn   tn       tpr       fpr\n",
       "0          0.0  300  700    0    0  1.000000  1.000000\n",
       "10         0.1  300  600    0  100  1.000000  0.857143\n",
       "20         0.2  300  500    0  200  1.000000  0.714286\n",
       "30         0.3  300  400    0  300  1.000000  0.571429\n",
       "40         0.4  300  300    0  400  1.000000  0.428571\n",
       "50         0.5  300  200    0  500  1.000000  0.285714\n",
       "60         0.6  300  100    0  600  1.000000  0.142857\n",
       "70         0.7  300    0    0  700  1.000000  0.000000\n",
       "80         0.8  200    0  100  700  0.666667  0.000000\n",
       "90         0.9  100    0  200  700  0.333333  0.000000\n",
       "100        1.0    1    0  299  700  0.003333  0.000000"
      ]
     },
     "execution_count": 132,
     "metadata": {},
     "output_type": "execute_result"
    }
   ],
   "source": [
    "df_ideal = tpr_fpr_dataframe(y_ideal, y_ideal_pred)\n",
    "df_ideal[::10]"
   ]
  },
  {
   "cell_type": "code",
   "execution_count": 133,
   "id": "d4f5c9ca-0861-41a7-bb37-afd5dbf382cf",
   "metadata": {},
   "outputs": [
    {
     "data": {
      "text/plain": [
       "<matplotlib.legend.Legend at 0x78c5d90ddd60>"
      ]
     },
     "execution_count": 133,
     "metadata": {},
     "output_type": "execute_result"
    },
    {
     "data": {
      "image/png": "[encoded data removed]",
      "text/plain": [
       "<Figure size 640x480 with 1 Axes>"
      ]
     },
     "metadata": {},
     "output_type": "display_data"
    }
   ],
   "source": [
    "plt.plot(df_ideal.threshold, df_ideal['tpr'], label='TPR')\n",
    "plt.plot(df_ideal.threshold, df_ideal['fpr'], label='FPR')\n",
    "plt.legend()"
   ]
  },
  {
   "cell_type": "code",
   "execution_count": 134,
   "id": "7060a893-7d92-4053-9314-b1700673f92f",
   "metadata": {},
   "outputs": [
    {
     "data": {
      "text/plain": [
       "<matplotlib.legend.Legend at 0x78c5d94ca510>"
      ]
     },
     "execution_count": 134,
     "metadata": {},
     "output_type": "execute_result"
    },
    {
     "data": {
      "image/png": "[encoded data removed]",
      "text/plain": [
       "<Figure size 640x480 with 1 Axes>"
      ]
     },
     "metadata": {},
     "output_type": "display_data"
    }
   ],
   "source": [
    "plt.plot(df_scores.threshold, df_scores['tpr'], label='TPR', color='black')\n",
    "plt.plot(df_scores.threshold, df_scores['fpr'], label='FPR', color='blue')\n",
    "\n",
    "plt.plot(df_ideal.threshold, df_ideal['tpr'], label='TPR ideal')\n",
    "plt.plot(df_ideal.threshold, df_ideal['fpr'], label='FPR ideal')\n",
    "\n",
    "plt.legend()"
   ]
  },
  {
   "cell_type": "code",
   "execution_count": 135,
   "id": "b4be1493-0c7f-4df5-ba5a-1270f180cc49",
   "metadata": {},
   "outputs": [
    {
     "data": {
      "text/plain": [
       "<matplotlib.legend.Legend at 0x78c5d9f33b30>"
      ]
     },
     "execution_count": 135,
     "metadata": {},
     "output_type": "execute_result"
    },
    {
     "data": {
      "image/png": "[encoded data removed]",
      "text/plain": [
       "<Figure size 500x500 with 1 Axes>"
      ]
     },
     "metadata": {},
     "output_type": "display_data"
    }
   ],
   "source": [
    "# Set the size of the figure to 5x5 inches\n",
    "plt.figure(figsize=(5, 5))\n",
    "\n",
    "# Plot the model's ROC curve (FPR vs. TPR)\n",
    "plt.plot(df_scores.fpr, df_scores.tpr, label='Model')\n",
    "\n",
    "# Plot the diagonal line representing random guessing (chance level)\n",
    "plt.plot([0, 1], [0, 1], label='Random', linestyle='--')\n",
    "\n",
    "# Plot the ROC curve for the ideal model (perfect predictions)\n",
    "plt.plot(df_ideal.fpr, df_ideal.tpr, label='Ideal')\n",
    "\n",
    "# Label the x-axis as FPR (False Positive Rate)\n",
    "plt.xlabel('FPR')\n",
    "\n",
    "# Label the y-axis as TPR (True Positive Rate)\n",
    "plt.ylabel('TPR')\n",
    "\n",
    "# Display for the curves\n",
    "plt.legend()"
   ]
  },
  {
   "cell_type": "code",
   "execution_count": 136,
   "id": "b7748296-9c63-4cd0-9f5a-f6cb65b40c36",
   "metadata": {},
   "outputs": [],
   "source": [
    "fpr, tpr, thresholds = roc_curve(y_val, y_pred)"
   ]
  },
  {
   "cell_type": "code",
   "execution_count": 137,
   "id": "96e35afa-9835-4f12-b934-ff71e488dfa9",
   "metadata": {},
   "outputs": [
    {
     "data": {
      "text/plain": [
       "<matplotlib.legend.Legend at 0x78c5d9c1a900>"
      ]
     },
     "execution_count": 137,
     "metadata": {},
     "output_type": "execute_result"
    },
    {
     "data": {
      "image/png": "[encoded data removed]",
      "text/plain": [
       "<Figure size 500x500 with 1 Axes>"
      ]
     },
     "metadata": {},
     "output_type": "display_data"
    }
   ],
   "source": [
    "plt.figure(figsize=(5, 5))\n",
    "\n",
    "# Plot the ROC curve of the model (FPR vs. TPR)\n",
    "plt.plot(fpr, tpr, label='Model')\n",
    "\n",
    "# Plot the diagonal line representing random guessing (FPR = TPR)\n",
    "plt.plot([0, 1], [0, 1], label='Random', linestyle='--')\n",
    "\n",
    "# Label the x-axis as False Positive Rate (FPR)\n",
    "plt.xlabel('FPR')\n",
    "\n",
    "# Label the y-axis as True Positive Rate (TPR)\n",
    "plt.ylabel('TPR')\n",
    "\n",
    "# Plot\n",
    "plt.legend()"
   ]
  }
 ],
 "metadata": {
  "kernelspec": {
   "display_name": "Python 3 (ipykernel)",
   "language": "python",
   "name": "python3"
  },
  "language_info": {
   "codemirror_mode": {
    "name": "ipython",
    "version": 3
   },
   "file_extension": ".py",
   "mimetype": "text/x-python",
   "name": "python",
   "nbconvert_exporter": "python",
   "pygments_lexer": "ipython3",
   "version": "3.12.1"
  }
 },
 "nbformat": 4,
 "nbformat_minor": 5
}
